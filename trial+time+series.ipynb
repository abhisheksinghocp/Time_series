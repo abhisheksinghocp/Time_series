{
 "cells": [
  {
   "cell_type": "code",
   "execution_count": 3,
   "metadata": {
    "collapsed": false
   },
   "outputs": [
    {
     "name": "stdout",
     "output_type": "stream",
     "text": [
      "Requirement already satisfied: seaborn in c:\\users\\dell\\anaconda3\\lib\\site-packages\n"
     ]
    }
   ],
   "source": [
    "!pip install seaborn"
   ]
  },
  {
   "cell_type": "code",
   "execution_count": 1,
   "metadata": {
    "collapsed": true
   },
   "outputs": [],
   "source": [
    "\n",
    "%matplotlib inline\n",
    "import pandas as pd\n",
    "import numpy as np\n",
    "import matplotlib.pyplot as plt\n",
    "import datetime\n",
    "from dateutil.relativedelta import relativedelta\n",
    "import seaborn as sns\n",
    "import statsmodels.api as sm  \n",
    "from statsmodels.tsa.stattools import acf  \n",
    "from statsmodels.tsa.stattools import pacf\n",
    "from statsmodels.tsa.seasonal import seasonal_decompose"
   ]
  },
  {
   "cell_type": "code",
   "execution_count": 4,
   "metadata": {
    "collapsed": false
   },
   "outputs": [
    {
     "data": {
      "text/plain": [
       "['GEE',\n",
       " 'GLM',\n",
       " 'GLS',\n",
       " 'GLSAR',\n",
       " 'Logit',\n",
       " 'MICE',\n",
       " 'MICEData',\n",
       " 'MNLogit',\n",
       " 'MixedLM',\n",
       " 'NegativeBinomial',\n",
       " 'NominalGEE',\n",
       " 'OLS',\n",
       " 'OrdinalGEE',\n",
       " 'PCA',\n",
       " 'PHReg',\n",
       " 'Poisson',\n",
       " 'ProbPlot',\n",
       " 'Probit',\n",
       " 'QuantReg',\n",
       " 'RLM',\n",
       " 'RecursiveLS',\n",
       " 'SurvfuncRight',\n",
       " 'WLS',\n",
       " '__builtins__',\n",
       " '__cached__',\n",
       " '__doc__',\n",
       " '__file__',\n",
       " '__loader__',\n",
       " '__name__',\n",
       " '__package__',\n",
       " '__spec__',\n",
       " 'add_constant',\n",
       " 'categorical',\n",
       " 'cov_struct',\n",
       " 'datasets',\n",
       " 'distributions',\n",
       " 'duration',\n",
       " 'emplike',\n",
       " 'families',\n",
       " 'formula',\n",
       " 'genmod',\n",
       " 'graphics',\n",
       " 'iolib',\n",
       " 'load',\n",
       " 'nonparametric',\n",
       " 'qqline',\n",
       " 'qqplot',\n",
       " 'qqplot_2samples',\n",
       " 'regression',\n",
       " 'robust',\n",
       " 'show_versions',\n",
       " 'stats',\n",
       " 'test',\n",
       " 'tools',\n",
       " 'tsa',\n",
       " 'version',\n",
       " 'webdoc']"
      ]
     },
     "execution_count": 4,
     "metadata": {},
     "output_type": "execute_result"
    }
   ],
   "source": [
    "dir(sm)\n"
   ]
  },
  {
   "cell_type": "code",
   "execution_count": 5,
   "metadata": {
    "collapsed": false
   },
   "outputs": [
    {
     "data": {
      "text/plain": [
       "['AR',\n",
       " 'ARIMA',\n",
       " 'ARMA',\n",
       " 'ArmaProcess',\n",
       " 'DynamicFactor',\n",
       " 'DynamicVAR',\n",
       " 'MarkovAutoregression',\n",
       " 'MarkovRegression',\n",
       " 'SARIMAX',\n",
       " 'SVAR',\n",
       " 'UnobservedComponents',\n",
       " 'VAR',\n",
       " 'VARMAX',\n",
       " '__builtins__',\n",
       " '__cached__',\n",
       " '__doc__',\n",
       " '__file__',\n",
       " '__loader__',\n",
       " '__name__',\n",
       " '__package__',\n",
       " '__spec__',\n",
       " 'acf',\n",
       " 'acovf',\n",
       " 'add_lag',\n",
       " 'add_trend',\n",
       " 'adfuller',\n",
       " 'arma_generate_sample',\n",
       " 'arma_order_select_ic',\n",
       " 'bds',\n",
       " 'ccf',\n",
       " 'ccovf',\n",
       " 'coint',\n",
       " 'datetools',\n",
       " 'detrend',\n",
       " 'filters',\n",
       " 'graphics',\n",
       " 'interp',\n",
       " 'kpss',\n",
       " 'lagmat',\n",
       " 'lagmat2ds',\n",
       " 'pacf',\n",
       " 'pacf_ols',\n",
       " 'pacf_yw',\n",
       " 'periodogram',\n",
       " 'q_stat',\n",
       " 'seasonal_decompose',\n",
       " 'statespace',\n",
       " 'stattools',\n",
       " 'tsatools',\n",
       " 'var',\n",
       " 'x13_arima_analysis',\n",
       " 'x13_arima_select_order']"
      ]
     },
     "execution_count": 5,
     "metadata": {},
     "output_type": "execute_result"
    }
   ],
   "source": [
    "dir(sm.tsa)\n"
   ]
  },
  {
   "cell_type": "code",
   "execution_count": 7,
   "metadata": {
    "collapsed": false
   },
   "outputs": [
    {
     "data": {
      "text/plain": [
       "['__class__',\n",
       " '__delattr__',\n",
       " '__dict__',\n",
       " '__dir__',\n",
       " '__doc__',\n",
       " '__eq__',\n",
       " '__format__',\n",
       " '__ge__',\n",
       " '__getattribute__',\n",
       " '__getitem__',\n",
       " '__gt__',\n",
       " '__hash__',\n",
       " '__init__',\n",
       " '__le__',\n",
       " '__lt__',\n",
       " '__module__',\n",
       " '__ne__',\n",
       " '__new__',\n",
       " '__reduce__',\n",
       " '__reduce_ex__',\n",
       " '__repr__',\n",
       " '__setattr__',\n",
       " '__setitem__',\n",
       " '__sizeof__',\n",
       " '__str__',\n",
       " '__subclasshook__',\n",
       " '__weakref__',\n",
       " '_conditional_sum_squares',\n",
       " '_forecasts_error_partial_derivatives',\n",
       " '_get_dates_loc',\n",
       " '_get_exog_names',\n",
       " '_get_init_kwds',\n",
       " '_get_model_names',\n",
       " '_get_predict_end',\n",
       " '_get_predict_start',\n",
       " '_handle_data',\n",
       " '_hessian_complex_step',\n",
       " '_hessian_finite_difference',\n",
       " '_hessian_oim',\n",
       " '_hessian_opg',\n",
       " '_init_dates',\n",
       " '_make_predict_dates',\n",
       " '_score_complex_step',\n",
       " '_score_finite_difference',\n",
       " '_score_harvey',\n",
       " '_score_obs_harvey',\n",
       " '_set_exog_names',\n",
       " '_set_predict_start_date',\n",
       " '_str_to_date',\n",
       " 'endog_names',\n",
       " 'exog_names',\n",
       " 'filter',\n",
       " 'fit',\n",
       " 'from_formula',\n",
       " 'hessian',\n",
       " 'impulse_responses',\n",
       " 'information',\n",
       " 'initial_design',\n",
       " 'initial_selection',\n",
       " 'initial_state_intercept',\n",
       " 'initial_transition',\n",
       " 'initial_variance',\n",
       " 'initialization',\n",
       " 'initialize',\n",
       " 'initialize_approximate_diffuse',\n",
       " 'initialize_known',\n",
       " 'initialize_state',\n",
       " 'initialize_statespace',\n",
       " 'initialize_stationary',\n",
       " 'loglike',\n",
       " 'loglikelihood_burn',\n",
       " 'loglikeobs',\n",
       " 'model_latex_names',\n",
       " 'model_names',\n",
       " 'model_orders',\n",
       " 'observed_information_matrix',\n",
       " 'opg_information_matrix',\n",
       " 'param_names',\n",
       " 'param_terms',\n",
       " 'params_complete',\n",
       " 'predict',\n",
       " 'prepare_data',\n",
       " 'score',\n",
       " 'score_obs',\n",
       " 'set_conserve_memory',\n",
       " 'set_filter_method',\n",
       " 'set_inversion_method',\n",
       " 'set_smoother_output',\n",
       " 'set_stability_method',\n",
       " 'simulate',\n",
       " 'smooth',\n",
       " 'start_params',\n",
       " 'tolerance',\n",
       " 'transform_jacobian',\n",
       " 'transform_params',\n",
       " 'untransform_params',\n",
       " 'update']"
      ]
     },
     "execution_count": 7,
     "metadata": {},
     "output_type": "execute_result"
    }
   ],
   "source": [
    "dir(sm.tsa.SARIMAX)\n"
   ]
  },
  {
   "cell_type": "code",
   "execution_count": 8,
   "metadata": {
    "collapsed": true
   },
   "outputs": [],
   "source": [
    "df=pd.read_csv(\"http://vincentarelbundock.github.io/Rdatasets/csv/datasets/AirPassengers.csv\")\n"
   ]
  },
  {
   "cell_type": "code",
   "execution_count": 9,
   "metadata": {
    "collapsed": true
   },
   "outputs": [],
   "source": [
    "df=df.drop('Unnamed: 0',1)\n"
   ]
  },
  {
   "cell_type": "code",
   "execution_count": 10,
   "metadata": {
    "collapsed": false
   },
   "outputs": [
    {
     "data": {
      "text/html": [
       "<div>\n",
       "<table border=\"1\" class=\"dataframe\">\n",
       "  <thead>\n",
       "    <tr style=\"text-align: right;\">\n",
       "      <th></th>\n",
       "      <th>time</th>\n",
       "      <th>AirPassengers</th>\n",
       "    </tr>\n",
       "  </thead>\n",
       "  <tbody>\n",
       "    <tr>\n",
       "      <th>0</th>\n",
       "      <td>1949.000000</td>\n",
       "      <td>112</td>\n",
       "    </tr>\n",
       "    <tr>\n",
       "      <th>1</th>\n",
       "      <td>1949.083333</td>\n",
       "      <td>118</td>\n",
       "    </tr>\n",
       "    <tr>\n",
       "      <th>2</th>\n",
       "      <td>1949.166667</td>\n",
       "      <td>132</td>\n",
       "    </tr>\n",
       "    <tr>\n",
       "      <th>3</th>\n",
       "      <td>1949.250000</td>\n",
       "      <td>129</td>\n",
       "    </tr>\n",
       "    <tr>\n",
       "      <th>4</th>\n",
       "      <td>1949.333333</td>\n",
       "      <td>121</td>\n",
       "    </tr>\n",
       "  </tbody>\n",
       "</table>\n",
       "</div>"
      ],
      "text/plain": [
       "          time  AirPassengers\n",
       "0  1949.000000            112\n",
       "1  1949.083333            118\n",
       "2  1949.166667            132\n",
       "3  1949.250000            129\n",
       "4  1949.333333            121"
      ]
     },
     "execution_count": 10,
     "metadata": {},
     "output_type": "execute_result"
    }
   ],
   "source": [
    "df.head()\n"
   ]
  },
  {
   "cell_type": "code",
   "execution_count": 11,
   "metadata": {
    "collapsed": false
   },
   "outputs": [
    {
     "data": {
      "text/html": [
       "<div>\n",
       "<table border=\"1\" class=\"dataframe\">\n",
       "  <thead>\n",
       "    <tr style=\"text-align: right;\">\n",
       "      <th></th>\n",
       "      <th>time</th>\n",
       "      <th>AirPassengers</th>\n",
       "    </tr>\n",
       "  </thead>\n",
       "  <tbody>\n",
       "    <tr>\n",
       "      <th>139</th>\n",
       "      <td>1960.583333</td>\n",
       "      <td>606</td>\n",
       "    </tr>\n",
       "    <tr>\n",
       "      <th>140</th>\n",
       "      <td>1960.666667</td>\n",
       "      <td>508</td>\n",
       "    </tr>\n",
       "    <tr>\n",
       "      <th>141</th>\n",
       "      <td>1960.750000</td>\n",
       "      <td>461</td>\n",
       "    </tr>\n",
       "    <tr>\n",
       "      <th>142</th>\n",
       "      <td>1960.833333</td>\n",
       "      <td>390</td>\n",
       "    </tr>\n",
       "    <tr>\n",
       "      <th>143</th>\n",
       "      <td>1960.916667</td>\n",
       "      <td>432</td>\n",
       "    </tr>\n",
       "  </tbody>\n",
       "</table>\n",
       "</div>"
      ],
      "text/plain": [
       "            time  AirPassengers\n",
       "139  1960.583333            606\n",
       "140  1960.666667            508\n",
       "141  1960.750000            461\n",
       "142  1960.833333            390\n",
       "143  1960.916667            432"
      ]
     },
     "execution_count": 11,
     "metadata": {},
     "output_type": "execute_result"
    }
   ],
   "source": [
    "df.tail()\n"
   ]
  },
  {
   "cell_type": "code",
   "execution_count": 12,
   "metadata": {
    "collapsed": false
   },
   "outputs": [
    {
     "data": {
      "text/plain": [
       "144"
      ]
     },
     "execution_count": 12,
     "metadata": {},
     "output_type": "execute_result"
    }
   ],
   "source": [
    "df.shape[0]\n"
   ]
  },
  {
   "cell_type": "code",
   "execution_count": 13,
   "metadata": {
    "collapsed": false
   },
   "outputs": [
    {
     "data": {
      "text/plain": [
       "(144, 2)"
      ]
     },
     "execution_count": 13,
     "metadata": {},
     "output_type": "execute_result"
    }
   ],
   "source": [
    "df.shape"
   ]
  },
  {
   "cell_type": "code",
   "execution_count": 14,
   "metadata": {
    "collapsed": false
   },
   "outputs": [
    {
     "name": "stdout",
     "output_type": "stream",
     "text": [
      "1949-01-01 00:00:00\n"
     ]
    }
   ],
   "source": [
    "\n",
    "start = datetime.datetime.strptime(\"1949-01-01\", \"%Y-%m-%d\")\n",
    "print(start)"
   ]
  },
  {
   "cell_type": "code",
   "execution_count": 15,
   "metadata": {
    "collapsed": false
   },
   "outputs": [
    {
     "name": "stdout",
     "output_type": "stream",
     "text": [
      "[datetime.datetime(1949, 1, 1, 0, 0), datetime.datetime(1949, 2, 1, 0, 0), datetime.datetime(1949, 3, 1, 0, 0), datetime.datetime(1949, 4, 1, 0, 0)]\n"
     ]
    }
   ],
   "source": [
    "date_list = [start + relativedelta(months=x) for x in range(0,df.shape[0])]\n",
    "print(date_list[0:4])"
   ]
  },
  {
   "cell_type": "code",
   "execution_count": 16,
   "metadata": {
    "collapsed": true
   },
   "outputs": [],
   "source": [
    "df['index'] =date_list\n",
    "df.set_index(['index'], inplace=True)\n",
    "df.index.name=None"
   ]
  },
  {
   "cell_type": "code",
   "execution_count": 17,
   "metadata": {
    "collapsed": false
   },
   "outputs": [
    {
     "data": {
      "text/html": [
       "<div>\n",
       "<table border=\"1\" class=\"dataframe\">\n",
       "  <thead>\n",
       "    <tr style=\"text-align: right;\">\n",
       "      <th></th>\n",
       "      <th>time</th>\n",
       "      <th>AirPassengers</th>\n",
       "    </tr>\n",
       "  </thead>\n",
       "  <tbody>\n",
       "    <tr>\n",
       "      <th>1949-01-01</th>\n",
       "      <td>1949.000000</td>\n",
       "      <td>112</td>\n",
       "    </tr>\n",
       "    <tr>\n",
       "      <th>1949-02-01</th>\n",
       "      <td>1949.083333</td>\n",
       "      <td>118</td>\n",
       "    </tr>\n",
       "    <tr>\n",
       "      <th>1949-03-01</th>\n",
       "      <td>1949.166667</td>\n",
       "      <td>132</td>\n",
       "    </tr>\n",
       "    <tr>\n",
       "      <th>1949-04-01</th>\n",
       "      <td>1949.250000</td>\n",
       "      <td>129</td>\n",
       "    </tr>\n",
       "    <tr>\n",
       "      <th>1949-05-01</th>\n",
       "      <td>1949.333333</td>\n",
       "      <td>121</td>\n",
       "    </tr>\n",
       "  </tbody>\n",
       "</table>\n",
       "</div>"
      ],
      "text/plain": [
       "                   time  AirPassengers\n",
       "1949-01-01  1949.000000            112\n",
       "1949-02-01  1949.083333            118\n",
       "1949-03-01  1949.166667            132\n",
       "1949-04-01  1949.250000            129\n",
       "1949-05-01  1949.333333            121"
      ]
     },
     "execution_count": 17,
     "metadata": {},
     "output_type": "execute_result"
    }
   ],
   "source": [
    "df.head()\n"
   ]
  },
  {
   "cell_type": "code",
   "execution_count": 18,
   "metadata": {
    "collapsed": false
   },
   "outputs": [
    {
     "data": {
      "text/html": [
       "<div>\n",
       "<table border=\"1\" class=\"dataframe\">\n",
       "  <thead>\n",
       "    <tr style=\"text-align: right;\">\n",
       "      <th></th>\n",
       "      <th>AirPassengers</th>\n",
       "    </tr>\n",
       "  </thead>\n",
       "  <tbody>\n",
       "    <tr>\n",
       "      <th>1949-01-01</th>\n",
       "      <td>112</td>\n",
       "    </tr>\n",
       "    <tr>\n",
       "      <th>1949-02-01</th>\n",
       "      <td>118</td>\n",
       "    </tr>\n",
       "    <tr>\n",
       "      <th>1949-03-01</th>\n",
       "      <td>132</td>\n",
       "    </tr>\n",
       "    <tr>\n",
       "      <th>1949-04-01</th>\n",
       "      <td>129</td>\n",
       "    </tr>\n",
       "    <tr>\n",
       "      <th>1949-05-01</th>\n",
       "      <td>121</td>\n",
       "    </tr>\n",
       "  </tbody>\n",
       "</table>\n",
       "</div>"
      ],
      "text/plain": [
       "            AirPassengers\n",
       "1949-01-01            112\n",
       "1949-02-01            118\n",
       "1949-03-01            132\n",
       "1949-04-01            129\n",
       "1949-05-01            121"
      ]
     },
     "execution_count": 18,
     "metadata": {},
     "output_type": "execute_result"
    }
   ],
   "source": [
    "df=df.drop('time',1)\n",
    "df.head()"
   ]
  },
  {
   "cell_type": "code",
   "execution_count": 19,
   "metadata": {
    "collapsed": true
   },
   "outputs": [],
   "source": [
    "df['AirPassengers'] = df.AirPassengers.apply(lambda x: int(x)*1000)\n"
   ]
  },
  {
   "cell_type": "code",
   "execution_count": 24,
   "metadata": {
    "collapsed": false
   },
   "outputs": [
    {
     "data": {
      "text/html": [
       "<div>\n",
       "<table border=\"1\" class=\"dataframe\">\n",
       "  <thead>\n",
       "    <tr style=\"text-align: right;\">\n",
       "      <th></th>\n",
       "      <th>AirPassengers</th>\n",
       "    </tr>\n",
       "  </thead>\n",
       "  <tbody>\n",
       "    <tr>\n",
       "      <th>1949-01-01</th>\n",
       "      <td>112000</td>\n",
       "    </tr>\n",
       "    <tr>\n",
       "      <th>1949-02-01</th>\n",
       "      <td>118000</td>\n",
       "    </tr>\n",
       "    <tr>\n",
       "      <th>1949-03-01</th>\n",
       "      <td>132000</td>\n",
       "    </tr>\n",
       "    <tr>\n",
       "      <th>1949-04-01</th>\n",
       "      <td>129000</td>\n",
       "    </tr>\n",
       "    <tr>\n",
       "      <th>1949-05-01</th>\n",
       "      <td>121000</td>\n",
       "    </tr>\n",
       "  </tbody>\n",
       "</table>\n",
       "</div>"
      ],
      "text/plain": [
       "            AirPassengers\n",
       "1949-01-01         112000\n",
       "1949-02-01         118000\n",
       "1949-03-01         132000\n",
       "1949-04-01         129000\n",
       "1949-05-01         121000"
      ]
     },
     "execution_count": 24,
     "metadata": {},
     "output_type": "execute_result"
    }
   ],
   "source": [
    "df.head()"
   ]
  },
  {
   "cell_type": "code",
   "execution_count": 22,
   "metadata": {
    "collapsed": false
   },
   "outputs": [
    {
     "data": {
      "image/png": "[encoded data removed]",
      "text/plain": [
       "<matplotlib.figure.Figure at 0x4aff4e0>"
      ]
     },
     "metadata": {},
     "output_type": "display_data"
    }
   ],
   "source": [
    "df.AirPassengers.plot(figsize=(12,8), title= 'Monthly Passengers', fontsize=14)\n",
    "plt.savefig('month_ridership.png', bbox_inches='tight')"
   ]
  },
  {
   "cell_type": "code",
   "execution_count": 23,
   "metadata": {
    "collapsed": false
   },
   "outputs": [
    {
     "data": {
      "text/plain": [
       "<matplotlib.figure.Figure at 0xb3b6ac8>"
      ]
     },
     "metadata": {},
     "output_type": "display_data"
    },
    {
     "data": {
      "image/png": "[encoded data removed]",
      "text/plain": [
       "<matplotlib.figure.Figure at 0xb38a6a0>"
      ]
     },
     "metadata": {},
     "output_type": "display_data"
    }
   ],
   "source": [
    "\n",
    "decomposition = seasonal_decompose(df.AirPassengers, freq=12)  \n",
    "fig = plt.figure()  \n",
    "fig = decomposition.plot()  \n",
    "fig.set_size_inches(15, 8)"
   ]
  },
  {
   "cell_type": "code",
   "execution_count": 25,
   "metadata": {
    "collapsed": false
   },
   "outputs": [
    {
     "name": "stdout",
     "output_type": "stream",
     "text": [
      "range(0, 2)\n"
     ]
    }
   ],
   "source": [
    "# Define the p, d and q parameters to take any value between 0 and 2\n",
    "p = d = q = range(0, 2)\n",
    "print(p)"
   ]
  },
  {
   "cell_type": "code",
   "execution_count": 27,
   "metadata": {
    "collapsed": true
   },
   "outputs": [],
   "source": [
    "import itertools\n",
    "import warnings"
   ]
  },
  {
   "cell_type": "code",
   "execution_count": 28,
   "metadata": {
    "collapsed": false
   },
   "outputs": [
    {
     "name": "stdout",
     "output_type": "stream",
     "text": [
      "[(0, 0, 0), (0, 0, 1), (0, 1, 0), (0, 1, 1), (1, 0, 0), (1, 0, 1), (1, 1, 0), (1, 1, 1)]\n"
     ]
    }
   ],
   "source": [
    "# Generate all different combinations of p, d and q triplets\n",
    "pdq = list(itertools.product(p, d, q))\n",
    "print(pdq)"
   ]
  },
  {
   "cell_type": "code",
   "execution_count": 29,
   "metadata": {
    "collapsed": false
   },
   "outputs": [
    {
     "name": "stdout",
     "output_type": "stream",
     "text": [
      "Examples of parameter combinations for Seasonal ARIMA...\n",
      "SARIMAX: (0, 0, 1) x (0, 0, 1, 12)\n",
      "SARIMAX: (0, 0, 1) x (0, 1, 0, 12)\n",
      "SARIMAX: (0, 1, 0) x (0, 1, 1, 12)\n",
      "SARIMAX: (0, 1, 0) x (1, 0, 0, 12)\n"
     ]
    }
   ],
   "source": [
    "# Generate all different combinations of seasonal p, q and q triplets\n",
    "seasonal_pdq = [(x[0], x[1], x[2], 12) for x in list(itertools.product(p, d, q))]\n",
    "\n",
    "print('Examples of parameter combinations for Seasonal ARIMA...')\n",
    "print('SARIMAX: {} x {}'.format(pdq[1], seasonal_pdq[1]))\n",
    "print('SARIMAX: {} x {}'.format(pdq[1], seasonal_pdq[2]))\n",
    "print('SARIMAX: {} x {}'.format(pdq[2], seasonal_pdq[3]))\n",
    "print('SARIMAX: {} x {}'.format(pdq[2], seasonal_pdq[4]))"
   ]
  },
  {
   "cell_type": "code",
   "execution_count": 30,
   "metadata": {
    "collapsed": true
   },
   "outputs": [],
   "source": [
    "y=df\n"
   ]
  },
  {
   "cell_type": "code",
   "execution_count": 31,
   "metadata": {
    "collapsed": false
   },
   "outputs": [
    {
     "name": "stdout",
     "output_type": "stream",
     "text": [
      "ARIMA(0, 0, 0)x(0, 0, 1, 12)12 - AIC:3618.0303991426763\n",
      "ARIMA(0, 0, 0)x(0, 1, 1, 12)12 - AIC:2824.7439963684233\n",
      "ARIMA(0, 0, 0)x(1, 0, 0, 12)12 - AIC:2942.2733127230185\n",
      "ARIMA(0, 0, 0)x(1, 0, 1, 12)12 - AIC:2922.178151133141\n",
      "ARIMA(0, 0, 0)x(1, 1, 0, 12)12 - AIC:2767.105066400224\n",
      "ARIMA(0, 0, 0)x(1, 1, 1, 12)12 - AIC:2691.233398643673\n",
      "ARIMA(0, 0, 1)x(0, 0, 0, 12)12 - AIC:3890.816777796087\n",
      "ARIMA(0, 0, 1)x(0, 0, 1, 12)12 - AIC:3541.1171286722\n",
      "ARIMA(0, 0, 1)x(0, 1, 0, 12)12 - AIC:3028.8377323188824\n",
      "ARIMA(0, 0, 1)x(0, 1, 1, 12)12 - AIC:2746.77973129136\n",
      "ARIMA(0, 0, 1)x(1, 0, 0, 12)12 - AIC:3583.523640623017\n",
      "ARIMA(0, 0, 1)x(1, 0, 1, 12)12 - AIC:3531.2937768990187\n",
      "ARIMA(0, 0, 1)x(1, 1, 0, 12)12 - AIC:2781.198675746594\n",
      "ARIMA(0, 0, 1)x(1, 1, 1, 12)12 - AIC:2720.7023088205974\n",
      "ARIMA(0, 1, 0)x(0, 0, 1, 12)12 - AIC:3029.089945668332\n",
      "ARIMA(0, 1, 0)x(0, 1, 1, 12)12 - AIC:2568.2832251221016\n",
      "ARIMA(0, 1, 0)x(1, 0, 0, 12)12 - AIC:2841.315781459511\n",
      "ARIMA(0, 1, 0)x(1, 0, 1, 12)12 - AIC:2815.4011044132576\n",
      "ARIMA(0, 1, 0)x(1, 1, 0, 12)12 - AIC:2588.533386513587\n",
      "ARIMA(0, 1, 0)x(1, 1, 1, 12)12 - AIC:2569.9453272483315\n",
      "ARIMA(0, 1, 1)x(0, 0, 0, 12)12 - AIC:3327.5177587522303\n",
      "ARIMA(0, 1, 1)x(0, 0, 1, 12)12 - AIC:2984.716706112334\n",
      "ARIMA(0, 1, 1)x(0, 1, 0, 12)12 - AIC:2789.128542154043\n",
      "ARIMA(0, 1, 1)x(0, 1, 1, 12)12 - AIC:2537.0293659293943\n",
      "ARIMA(0, 1, 1)x(1, 0, 0, 12)12 - AIC:2984.4555708516436\n",
      "ARIMA(0, 1, 1)x(1, 0, 1, 12)12 - AIC:2939.460958374472\n",
      "ARIMA(0, 1, 1)x(1, 1, 0, 12)12 - AIC:2578.7862352774437\n",
      "ARIMA(0, 1, 1)x(1, 1, 1, 12)12 - AIC:2537.771484229265\n",
      "ARIMA(1, 0, 0)x(0, 0, 0, 12)12 - AIC:3391.5248913820797\n",
      "ARIMA(1, 0, 0)x(0, 0, 1, 12)12 - AIC:3038.142074281268\n"
     ]
    },
    {
     "name": "stderr",
     "output_type": "stream",
     "text": [
      "C:\\Users\\Dell\\Anaconda3\\lib\\site-packages\\statsmodels\\base\\model.py:496: ConvergenceWarning: Maximum Likelihood optimization failed to converge. Check mle_retvals\n",
      "  \"Check mle_retvals\", ConvergenceWarning)\n"
     ]
    },
    {
     "name": "stdout",
     "output_type": "stream",
     "text": [
      "ARIMA(1, 0, 0)x(0, 1, 0, 12)12 - AIC:2839.809192263449\n",
      "ARIMA(1, 0, 0)x(0, 1, 1, 12)12 - AIC:2588.50367175184\n",
      "ARIMA(1, 0, 0)x(1, 0, 0, 12)12 - AIC:2993.4630440139595\n",
      "ARIMA(1, 0, 0)x(1, 0, 1, 12)12 - AIC:2995.049216326931\n",
      "ARIMA(1, 0, 0)x(1, 1, 0, 12)12 - AIC:2588.2463284315304\n",
      "ARIMA(1, 0, 0)x(1, 1, 1, 12)12 - AIC:2592.80110502723\n",
      "ARIMA(1, 0, 1)x(0, 0, 0, 12)12 - AIC:3352.0350133621478\n",
      "ARIMA(1, 0, 1)x(0, 0, 1, 12)12 - AIC:3006.5493366627807\n",
      "ARIMA(1, 0, 1)x(0, 1, 0, 12)12 - AIC:2810.6423724894516\n",
      "ARIMA(1, 0, 1)x(0, 1, 1, 12)12 - AIC:2559.584031948852\n",
      "ARIMA(1, 0, 1)x(1, 0, 0, 12)12 - AIC:2981.2250436794675\n",
      "ARIMA(1, 0, 1)x(1, 0, 1, 12)12 - AIC:2959.3142304724834\n",
      "ARIMA(1, 0, 1)x(1, 1, 0, 12)12 - AIC:2579.8245645892207\n",
      "ARIMA(1, 0, 1)x(1, 1, 1, 12)12 - AIC:2563.13922589258\n",
      "ARIMA(1, 1, 0)x(0, 0, 0, 12)12 - AIC:3354.7462930846423\n",
      "ARIMA(1, 1, 0)x(0, 0, 1, 12)12 - AIC:3006.702997636003\n",
      "ARIMA(1, 1, 0)x(0, 1, 0, 12)12 - AIC:2809.3844175191666\n",
      "ARIMA(1, 1, 0)x(0, 1, 1, 12)12 - AIC:2558.484602766447\n",
      "ARIMA(1, 1, 0)x(1, 0, 0, 12)12 - AIC:2959.885810636943\n",
      "ARIMA(1, 1, 0)x(1, 0, 1, 12)12 - AIC:2960.712709764296\n",
      "ARIMA(1, 1, 0)x(1, 1, 0, 12)12 - AIC:2557.945907092698\n",
      "ARIMA(1, 1, 0)x(1, 1, 1, 12)12 - AIC:2559.274166458508\n",
      "ARIMA(1, 1, 1)x(0, 0, 0, 12)12 - AIC:3326.3285511700374\n",
      "ARIMA(1, 1, 1)x(0, 0, 1, 12)12 - AIC:2985.868532151721\n",
      "ARIMA(1, 1, 1)x(0, 1, 0, 12)12 - AIC:2790.7677149967103\n",
      "ARIMA(1, 1, 1)x(0, 1, 1, 12)12 - AIC:2538.820635541546\n",
      "ARIMA(1, 1, 1)x(1, 0, 0, 12)12 - AIC:2963.2789505804294\n",
      "ARIMA(1, 1, 1)x(1, 0, 1, 12)12 - AIC:2941.2436984747465\n",
      "ARIMA(1, 1, 1)x(1, 1, 0, 12)12 - AIC:2559.8258191422606\n",
      "ARIMA(1, 1, 1)x(1, 1, 1, 12)12 - AIC:2539.712354465328\n"
     ]
    }
   ],
   "source": [
    "#warnings.filterwarnings(\"ignore\") # specify to ignore warning messages\n",
    "\n",
    "for param in pdq:\n",
    "    for param_seasonal in seasonal_pdq:\n",
    "        try:\n",
    "            mod = sm.tsa.statespace.SARIMAX(y,\n",
    "                                            order=param,\n",
    "                                            seasonal_order=param_seasonal,\n",
    "                                            enforce_stationarity=False,\n",
    "                                            enforce_invertibility=False)\n",
    "\n",
    "            results = mod.fit()\n",
    "\n",
    "            print('ARIMA{}x{}12 - AIC:{}'.format(param, param_seasonal, results.aic))\n",
    "        except:\n",
    "            continue"
   ]
  },
  {
   "cell_type": "code",
   "execution_count": 32,
   "metadata": {
    "collapsed": true
   },
   "outputs": [],
   "source": [
    "\n",
    "warnings.filterwarnings(\"ignore\") # specify to ignore warning messages\n",
    "c3=[]\n",
    "for param in pdq:\n",
    "    for param_seasonal in seasonal_pdq:\n",
    "        try:\n",
    "            mod = sm.tsa.statespace.SARIMAX(y,\n",
    "                                            order=param,\n",
    "                                            seasonal_order=param_seasonal,\n",
    "                                            enforce_stationarity=False,\n",
    "                                            enforce_invertibility=False)\n",
    "\n",
    "            results = mod.fit()\n",
    "\n",
    "            c3.append( results.aic)\n",
    "        except:\n",
    "            continue"
   ]
  },
  {
   "cell_type": "code",
   "execution_count": 33,
   "metadata": {
    "collapsed": false
   },
   "outputs": [
    {
     "data": {
      "text/plain": [
       "[3618.0303991426763,\n",
       " 2824.7439963684233,\n",
       " 2942.2733127230185,\n",
       " 2922.178151133141,\n",
       " 2767.1050664002241,\n",
       " 2691.2333986436729,\n",
       " 3890.8167777960871,\n",
       " 3541.1171286722001,\n",
       " 3028.8377323188824,\n",
       " 2746.7797312913599,\n",
       " 3583.5236406230169,\n",
       " 3531.2937768990187,\n",
       " 2781.1986757465938,\n",
       " 2720.7023088205974,\n",
       " 3029.0899456683319,\n",
       " 2568.2832251221016,\n",
       " 2841.3157814595111,\n",
       " 2815.4011044132576,\n",
       " 2588.5333865135872,\n",
       " 2569.9453272483315,\n",
       " 3327.5177587522303,\n",
       " 2984.7167061123341,\n",
       " 2789.1285421540429,\n",
       " 2537.0293659293943,\n",
       " 2984.4555708516436,\n",
       " 2939.4609583744718,\n",
       " 2578.7862352774437,\n",
       " 2537.7714842292648,\n",
       " 3391.5248913820797,\n",
       " 3038.1420742812679,\n",
       " 2839.8091922634489,\n",
       " 2588.5036717518401,\n",
       " 2993.4630440139595,\n",
       " 2995.0492163269309,\n",
       " 2588.2463284315304,\n",
       " 2592.8011050272298,\n",
       " 3352.0350133621478,\n",
       " 3006.5493366627807,\n",
       " 2810.6423724894516,\n",
       " 2559.584031948852,\n",
       " 2981.2250436794675,\n",
       " 2959.3142304724834,\n",
       " 2579.8245645892207,\n",
       " 2563.1392258925798,\n",
       " 3354.7462930846423,\n",
       " 3006.7029976360031,\n",
       " 2809.3844175191666,\n",
       " 2558.4846027664471,\n",
       " 2959.885810636943,\n",
       " 2960.7127097642961,\n",
       " 2557.9459070926978,\n",
       " 2559.2741664585078,\n",
       " 3326.3285511700374,\n",
       " 2985.868532151721,\n",
       " 2790.7677149967103,\n",
       " 2538.8206355415459,\n",
       " 2963.2789505804294,\n",
       " 2941.2436984747465,\n",
       " 2559.8258191422606,\n",
       " 2539.7123544653282]"
      ]
     },
     "execution_count": 33,
     "metadata": {},
     "output_type": "execute_result"
    }
   ],
   "source": [
    "c3"
   ]
  },
  {
   "cell_type": "code",
   "execution_count": 36,
   "metadata": {
    "collapsed": false
   },
   "outputs": [
    {
     "data": {
      "text/plain": [
       "60"
      ]
     },
     "execution_count": 36,
     "metadata": {},
     "output_type": "execute_result"
    }
   ],
   "source": [
    "len(c3)"
   ]
  },
  {
   "cell_type": "code",
   "execution_count": 34,
   "metadata": {
    "collapsed": true
   },
   "outputs": [],
   "source": [
    " index_min = np.argmin(c3)"
   ]
  },
  {
   "cell_type": "code",
   "execution_count": 35,
   "metadata": {
    "collapsed": false
   },
   "outputs": [
    {
     "data": {
      "text/plain": [
       "23"
      ]
     },
     "execution_count": 35,
     "metadata": {},
     "output_type": "execute_result"
    }
   ],
   "source": [
    "index_min"
   ]
  },
  {
   "cell_type": "code",
   "execution_count": 37,
   "metadata": {
    "collapsed": true
   },
   "outputs": [],
   "source": [
    "from statsmodels.tsa.x13 import x13_arima_select_order\n"
   ]
  },
  {
   "cell_type": "code",
   "execution_count": null,
   "metadata": {
    "collapsed": true
   },
   "outputs": [],
   "source": []
  },
  {
   "cell_type": "code",
   "execution_count": 38,
   "metadata": {
    "collapsed": false
   },
   "outputs": [
    {
     "name": "stdout",
     "output_type": "stream",
     "text": [
      "                                 Statespace Model Results                                 \n",
      "==========================================================================================\n",
      "Dep. Variable:                      AirPassengers   No. Observations:                  144\n",
      "Model:             SARIMAX(0, 1, 1)x(0, 1, 1, 12)   Log Likelihood               -1413.963\n",
      "Date:                            Mon, 29 May 2017   AIC                           2833.926\n",
      "Time:                                    20:35:50   BIC                           2842.835\n",
      "Sample:                                01-01-1949   HQIC                          2837.546\n",
      "                                     - 12-01-1960                                         \n",
      "Covariance Type:                              opg                                         \n",
      "==============================================================================\n",
      "                 coef    std err          z      P>|z|      [0.025      0.975]\n",
      "------------------------------------------------------------------------------\n",
      "ma.L1         -0.2174      0.054     -4.011      0.000      -0.324      -0.111\n",
      "ma.S.L12      -0.1069      0.094     -1.138      0.255      -0.291       0.077\n",
      "sigma2      1.424e+08   1.64e-10   8.67e+17      0.000    1.42e+08    1.42e+08\n",
      "===================================================================================\n",
      "Ljung-Box (Q):                       54.51   Jarque-Bera (JB):                10.78\n",
      "Prob(Q):                              0.06   Prob(JB):                         0.00\n",
      "Heteroskedasticity (H):               2.38   Skew:                             0.16\n",
      "Prob(H) (two-sided):                  0.00   Kurtosis:                         4.37\n",
      "===================================================================================\n",
      "\n",
      "Warnings:\n",
      "[1] Covariance matrix calculated using the outer product of gradients (complex-step).\n",
      "[2] Covariance matrix is singular or near-singular, with condition number 2.47e+33. Standard errors may be unstable.\n"
     ]
    }
   ],
   "source": [
    "mod = sm.tsa.statespace.SARIMAX(df.AirPassengers, trend='n', order=(0,1,1), seasonal_order=(0,1,1,12))\n",
    "results = mod.fit()\n",
    "print (results.summary())"
   ]
  },
  {
   "cell_type": "code",
   "execution_count": 39,
   "metadata": {
    "collapsed": false
   },
   "outputs": [
    {
     "data": {
      "text/plain": [
       "1960-07-01    606873.955870\n",
       "1960-08-01    629882.608813\n",
       "1960-09-01    515108.700644\n",
       "1960-10-01    454595.480491\n",
       "1960-11-01    414268.710944\n",
       "1960-12-01    436615.191517\n",
       "1961-01-01    445967.930514\n",
       "1961-02-01    420788.308017\n",
       "1961-03-01    452420.585549\n",
       "1961-04-01    488822.325998\n",
       "1961-05-01    501099.437177\n",
       "1961-06-01    563144.145745\n",
       "1961-07-01    648722.910934\n",
       "1961-08-01    635628.280420\n",
       "1961-09-01    537833.345343\n",
       "1961-10-01    489983.278061\n",
       "1961-11-01    421727.227980\n",
       "Freq: MS, dtype: float64"
      ]
     },
     "execution_count": 39,
     "metadata": {},
     "output_type": "execute_result"
    }
   ],
   "source": [
    "results.predict(start=138,end=154)\n"
   ]
  },
  {
   "cell_type": "code",
   "execution_count": 43,
   "metadata": {
    "collapsed": false
   },
   "outputs": [],
   "source": [
    "df2=pd.DataFrame(results.predict(start=0,end=154))"
   ]
  },
  {
   "cell_type": "code",
   "execution_count": 44,
   "metadata": {
    "collapsed": false
   },
   "outputs": [
    {
     "data": {
      "text/html": [
       "<div>\n",
       "<table border=\"1\" class=\"dataframe\">\n",
       "  <thead>\n",
       "    <tr style=\"text-align: right;\">\n",
       "      <th></th>\n",
       "      <th>0</th>\n",
       "    </tr>\n",
       "  </thead>\n",
       "  <tbody>\n",
       "    <tr>\n",
       "      <th>1949-01-01</th>\n",
       "      <td>0.000000</td>\n",
       "    </tr>\n",
       "    <tr>\n",
       "      <th>1949-02-01</th>\n",
       "      <td>89058.777560</td>\n",
       "    </tr>\n",
       "    <tr>\n",
       "      <th>1949-03-01</th>\n",
       "      <td>111769.729264</td>\n",
       "    </tr>\n",
       "    <tr>\n",
       "      <th>1949-04-01</th>\n",
       "      <td>127635.153436</td>\n",
       "    </tr>\n",
       "    <tr>\n",
       "      <th>1949-05-01</th>\n",
       "      <td>128705.492363</td>\n",
       "    </tr>\n",
       "    <tr>\n",
       "      <th>1949-06-01</th>\n",
       "      <td>122662.705144</td>\n",
       "    </tr>\n",
       "    <tr>\n",
       "      <th>1949-07-01</th>\n",
       "      <td>132337.835494</td>\n",
       "    </tr>\n",
       "    <tr>\n",
       "      <th>1949-08-01</th>\n",
       "      <td>144620.388881</td>\n",
       "    </tr>\n",
       "    <tr>\n",
       "      <th>1949-09-01</th>\n",
       "      <td>147270.741198</td>\n",
       "    </tr>\n",
       "    <tr>\n",
       "      <th>1949-10-01</th>\n",
       "      <td>138432.021594</td>\n",
       "    </tr>\n",
       "    <tr>\n",
       "      <th>1949-11-01</th>\n",
       "      <td>123193.077927</td>\n",
       "    </tr>\n",
       "    <tr>\n",
       "      <th>1949-12-01</th>\n",
       "      <td>110722.291890</td>\n",
       "    </tr>\n",
       "    <tr>\n",
       "      <th>1950-01-01</th>\n",
       "      <td>215991.276581</td>\n",
       "    </tr>\n",
       "    <tr>\n",
       "      <th>1950-02-01</th>\n",
       "      <td>142197.656384</td>\n",
       "    </tr>\n",
       "    <tr>\n",
       "      <th>1950-03-01</th>\n",
       "      <td>142053.954960</td>\n",
       "    </tr>\n",
       "    <tr>\n",
       "      <th>1950-04-01</th>\n",
       "      <td>138546.542951</td>\n",
       "    </tr>\n",
       "    <tr>\n",
       "      <th>1950-05-01</th>\n",
       "      <td>128613.429544</td>\n",
       "    </tr>\n",
       "    <tr>\n",
       "      <th>1950-06-01</th>\n",
       "      <td>138316.659262</td>\n",
       "    </tr>\n",
       "    <tr>\n",
       "      <th>1950-07-01</th>\n",
       "      <td>158315.110297</td>\n",
       "    </tr>\n",
       "    <tr>\n",
       "      <th>1950-08-01</th>\n",
       "      <td>167460.313631</td>\n",
       "    </tr>\n",
       "    <tr>\n",
       "      <th>1950-09-01</th>\n",
       "      <td>158704.672979</td>\n",
       "    </tr>\n",
       "    <tr>\n",
       "      <th>1950-10-01</th>\n",
       "      <td>142932.738219</td>\n",
       "    </tr>\n",
       "    <tr>\n",
       "      <th>1950-11-01</th>\n",
       "      <td>121728.192862</td>\n",
       "    </tr>\n",
       "    <tr>\n",
       "      <th>1950-12-01</th>\n",
       "      <td>128433.662270</td>\n",
       "    </tr>\n",
       "    <tr>\n",
       "      <th>1951-01-01</th>\n",
       "      <td>145387.184067</td>\n",
       "    </tr>\n",
       "    <tr>\n",
       "      <th>1951-02-01</th>\n",
       "      <td>155484.186595</td>\n",
       "    </tr>\n",
       "    <tr>\n",
       "      <th>1951-03-01</th>\n",
       "      <td>165928.403362</td>\n",
       "    </tr>\n",
       "    <tr>\n",
       "      <th>1951-04-01</th>\n",
       "      <td>169730.859476</td>\n",
       "    </tr>\n",
       "    <tr>\n",
       "      <th>1951-05-01</th>\n",
       "      <td>154766.901190</td>\n",
       "    </tr>\n",
       "    <tr>\n",
       "      <th>1951-06-01</th>\n",
       "      <td>191028.223113</td>\n",
       "    </tr>\n",
       "    <tr>\n",
       "      <th>...</th>\n",
       "      <td>...</td>\n",
       "    </tr>\n",
       "    <tr>\n",
       "      <th>1959-06-01</th>\n",
       "      <td>488809.426478</td>\n",
       "    </tr>\n",
       "    <tr>\n",
       "      <th>1959-07-01</th>\n",
       "      <td>530228.286425</td>\n",
       "    </tr>\n",
       "    <tr>\n",
       "      <th>1959-08-01</th>\n",
       "      <td>556730.003688</td>\n",
       "    </tr>\n",
       "    <tr>\n",
       "      <th>1959-09-01</th>\n",
       "      <td>461737.123886</td>\n",
       "    </tr>\n",
       "    <tr>\n",
       "      <th>1959-10-01</th>\n",
       "      <td>416548.365776</td>\n",
       "    </tr>\n",
       "    <tr>\n",
       "      <th>1959-11-01</th>\n",
       "      <td>360902.880719</td>\n",
       "    </tr>\n",
       "    <tr>\n",
       "      <th>1959-12-01</th>\n",
       "      <td>389240.307597</td>\n",
       "    </tr>\n",
       "    <tr>\n",
       "      <th>1960-01-01</th>\n",
       "      <td>422597.141368</td>\n",
       "    </tr>\n",
       "    <tr>\n",
       "      <th>1960-02-01</th>\n",
       "      <td>399888.534634</td>\n",
       "    </tr>\n",
       "    <tr>\n",
       "      <th>1960-03-01</th>\n",
       "      <td>454900.145015</td>\n",
       "    </tr>\n",
       "    <tr>\n",
       "      <th>1960-04-01</th>\n",
       "      <td>416449.467057</td>\n",
       "    </tr>\n",
       "    <tr>\n",
       "      <th>1960-05-01</th>\n",
       "      <td>474259.995726</td>\n",
       "    </tr>\n",
       "    <tr>\n",
       "      <th>1960-06-01</th>\n",
       "      <td>526557.563686</td>\n",
       "    </tr>\n",
       "    <tr>\n",
       "      <th>1960-07-01</th>\n",
       "      <td>606873.955870</td>\n",
       "    </tr>\n",
       "    <tr>\n",
       "      <th>1960-08-01</th>\n",
       "      <td>629882.608813</td>\n",
       "    </tr>\n",
       "    <tr>\n",
       "      <th>1960-09-01</th>\n",
       "      <td>515108.700644</td>\n",
       "    </tr>\n",
       "    <tr>\n",
       "      <th>1960-10-01</th>\n",
       "      <td>454595.480491</td>\n",
       "    </tr>\n",
       "    <tr>\n",
       "      <th>1960-11-01</th>\n",
       "      <td>414268.710944</td>\n",
       "    </tr>\n",
       "    <tr>\n",
       "      <th>1960-12-01</th>\n",
       "      <td>436615.191517</td>\n",
       "    </tr>\n",
       "    <tr>\n",
       "      <th>1961-01-01</th>\n",
       "      <td>445967.930514</td>\n",
       "    </tr>\n",
       "    <tr>\n",
       "      <th>1961-02-01</th>\n",
       "      <td>420788.308017</td>\n",
       "    </tr>\n",
       "    <tr>\n",
       "      <th>1961-03-01</th>\n",
       "      <td>452420.585549</td>\n",
       "    </tr>\n",
       "    <tr>\n",
       "      <th>1961-04-01</th>\n",
       "      <td>488822.325998</td>\n",
       "    </tr>\n",
       "    <tr>\n",
       "      <th>1961-05-01</th>\n",
       "      <td>501099.437177</td>\n",
       "    </tr>\n",
       "    <tr>\n",
       "      <th>1961-06-01</th>\n",
       "      <td>563144.145745</td>\n",
       "    </tr>\n",
       "    <tr>\n",
       "      <th>1961-07-01</th>\n",
       "      <td>648722.910934</td>\n",
       "    </tr>\n",
       "    <tr>\n",
       "      <th>1961-08-01</th>\n",
       "      <td>635628.280420</td>\n",
       "    </tr>\n",
       "    <tr>\n",
       "      <th>1961-09-01</th>\n",
       "      <td>537833.345343</td>\n",
       "    </tr>\n",
       "    <tr>\n",
       "      <th>1961-10-01</th>\n",
       "      <td>489983.278061</td>\n",
       "    </tr>\n",
       "    <tr>\n",
       "      <th>1961-11-01</th>\n",
       "      <td>421727.227980</td>\n",
       "    </tr>\n",
       "  </tbody>\n",
       "</table>\n",
       "<p>155 rows × 1 columns</p>\n",
       "</div>"
      ],
      "text/plain": [
       "                        0\n",
       "1949-01-01       0.000000\n",
       "1949-02-01   89058.777560\n",
       "1949-03-01  111769.729264\n",
       "1949-04-01  127635.153436\n",
       "1949-05-01  128705.492363\n",
       "1949-06-01  122662.705144\n",
       "1949-07-01  132337.835494\n",
       "1949-08-01  144620.388881\n",
       "1949-09-01  147270.741198\n",
       "1949-10-01  138432.021594\n",
       "1949-11-01  123193.077927\n",
       "1949-12-01  110722.291890\n",
       "1950-01-01  215991.276581\n",
       "1950-02-01  142197.656384\n",
       "1950-03-01  142053.954960\n",
       "1950-04-01  138546.542951\n",
       "1950-05-01  128613.429544\n",
       "1950-06-01  138316.659262\n",
       "1950-07-01  158315.110297\n",
       "1950-08-01  167460.313631\n",
       "1950-09-01  158704.672979\n",
       "1950-10-01  142932.738219\n",
       "1950-11-01  121728.192862\n",
       "1950-12-01  128433.662270\n",
       "1951-01-01  145387.184067\n",
       "1951-02-01  155484.186595\n",
       "1951-03-01  165928.403362\n",
       "1951-04-01  169730.859476\n",
       "1951-05-01  154766.901190\n",
       "1951-06-01  191028.223113\n",
       "...                   ...\n",
       "1959-06-01  488809.426478\n",
       "1959-07-01  530228.286425\n",
       "1959-08-01  556730.003688\n",
       "1959-09-01  461737.123886\n",
       "1959-10-01  416548.365776\n",
       "1959-11-01  360902.880719\n",
       "1959-12-01  389240.307597\n",
       "1960-01-01  422597.141368\n",
       "1960-02-01  399888.534634\n",
       "1960-03-01  454900.145015\n",
       "1960-04-01  416449.467057\n",
       "1960-05-01  474259.995726\n",
       "1960-06-01  526557.563686\n",
       "1960-07-01  606873.955870\n",
       "1960-08-01  629882.608813\n",
       "1960-09-01  515108.700644\n",
       "1960-10-01  454595.480491\n",
       "1960-11-01  414268.710944\n",
       "1960-12-01  436615.191517\n",
       "1961-01-01  445967.930514\n",
       "1961-02-01  420788.308017\n",
       "1961-03-01  452420.585549\n",
       "1961-04-01  488822.325998\n",
       "1961-05-01  501099.437177\n",
       "1961-06-01  563144.145745\n",
       "1961-07-01  648722.910934\n",
       "1961-08-01  635628.280420\n",
       "1961-09-01  537833.345343\n",
       "1961-10-01  489983.278061\n",
       "1961-11-01  421727.227980\n",
       "\n",
       "[155 rows x 1 columns]"
      ]
     },
     "execution_count": 44,
     "metadata": {},
     "output_type": "execute_result"
    }
   ],
   "source": [
    "df2\n"
   ]
  },
  {
   "cell_type": "code",
   "execution_count": 45,
   "metadata": {
    "collapsed": false
   },
   "outputs": [
    {
     "data": {
      "text/plain": [
       "<matplotlib.axes._subplots.AxesSubplot at 0xb382048>"
      ]
     },
     "execution_count": 45,
     "metadata": {},
     "output_type": "execute_result"
    },
    {
     "data": {
      "image/png": "[encoded data removed]",
      "text/plain": [
       "<matplotlib.figure.Figure at 0xb40bf60>"
      ]
     },
     "metadata": {},
     "output_type": "display_data"
    }
   ],
   "source": [
    "df2.plot()"
   ]
  },
  {
   "cell_type": "code",
   "execution_count": 46,
   "metadata": {
    "collapsed": true
   },
   "outputs": [],
   "source": [
    "aus=pd.read_csv(\"https://vincentarelbundock.github.io/Rdatasets/csv/datasets/austres.csv \")\n"
   ]
  },
  {
   "cell_type": "code",
   "execution_count": 48,
   "metadata": {
    "collapsed": false
   },
   "outputs": [],
   "source": [
    "aus=aus.drop('Unnamed: 0',1)\n"
   ]
  },
  {
   "cell_type": "code",
   "execution_count": 49,
   "metadata": {
    "collapsed": false
   },
   "outputs": [
    {
     "data": {
      "text/html": [
       "<div>\n",
       "<table border=\"1\" class=\"dataframe\">\n",
       "  <thead>\n",
       "    <tr style=\"text-align: right;\">\n",
       "      <th></th>\n",
       "      <th>time</th>\n",
       "      <th>austres</th>\n",
       "    </tr>\n",
       "  </thead>\n",
       "  <tbody>\n",
       "    <tr>\n",
       "      <th>0</th>\n",
       "      <td>1971.25</td>\n",
       "      <td>13067.3</td>\n",
       "    </tr>\n",
       "    <tr>\n",
       "      <th>1</th>\n",
       "      <td>1971.50</td>\n",
       "      <td>13130.5</td>\n",
       "    </tr>\n",
       "    <tr>\n",
       "      <th>2</th>\n",
       "      <td>1971.75</td>\n",
       "      <td>13198.4</td>\n",
       "    </tr>\n",
       "    <tr>\n",
       "      <th>3</th>\n",
       "      <td>1972.00</td>\n",
       "      <td>13254.2</td>\n",
       "    </tr>\n",
       "    <tr>\n",
       "      <th>4</th>\n",
       "      <td>1972.25</td>\n",
       "      <td>13303.7</td>\n",
       "    </tr>\n",
       "  </tbody>\n",
       "</table>\n",
       "</div>"
      ],
      "text/plain": [
       "      time  austres\n",
       "0  1971.25  13067.3\n",
       "1  1971.50  13130.5\n",
       "2  1971.75  13198.4\n",
       "3  1972.00  13254.2\n",
       "4  1972.25  13303.7"
      ]
     },
     "execution_count": 49,
     "metadata": {},
     "output_type": "execute_result"
    }
   ],
   "source": [
    "aus.head()\n"
   ]
  },
  {
   "cell_type": "code",
   "execution_count": 52,
   "metadata": {
    "collapsed": false
   },
   "outputs": [
    {
     "name": "stdout",
     "output_type": "stream",
     "text": [
      "1971-03-31 00:00:00\n"
     ]
    }
   ],
   "source": [
    "start = datetime.datetime.strptime(\"1971-03-31\", \"%Y-%m-%d\")\n",
    "print(start)"
   ]
  },
  {
   "cell_type": "code",
   "execution_count": 53,
   "metadata": {
    "collapsed": true
   },
   "outputs": [],
   "source": [
    "date_list = [start + relativedelta(months=x) for x in range(0,3*aus.shape[0])]\n"
   ]
  },
  {
   "cell_type": "code",
   "execution_count": 54,
   "metadata": {
    "collapsed": false
   },
   "outputs": [
    {
     "data": {
      "text/plain": [
       "[datetime.datetime(1971, 3, 31, 0, 0),\n",
       " datetime.datetime(1971, 4, 30, 0, 0),\n",
       " datetime.datetime(1971, 5, 31, 0, 0),\n",
       " datetime.datetime(1971, 6, 30, 0, 0),\n",
       " datetime.datetime(1971, 7, 31, 0, 0),\n",
       " datetime.datetime(1971, 8, 31, 0, 0),\n",
       " datetime.datetime(1971, 9, 30, 0, 0),\n",
       " datetime.datetime(1971, 10, 31, 0, 0),\n",
       " datetime.datetime(1971, 11, 30, 0, 0),\n",
       " datetime.datetime(1971, 12, 31, 0, 0),\n",
       " datetime.datetime(1972, 1, 31, 0, 0),\n",
       " datetime.datetime(1972, 2, 29, 0, 0),\n",
       " datetime.datetime(1972, 3, 31, 0, 0),\n",
       " datetime.datetime(1972, 4, 30, 0, 0),\n",
       " datetime.datetime(1972, 5, 31, 0, 0),\n",
       " datetime.datetime(1972, 6, 30, 0, 0),\n",
       " datetime.datetime(1972, 7, 31, 0, 0),\n",
       " datetime.datetime(1972, 8, 31, 0, 0),\n",
       " datetime.datetime(1972, 9, 30, 0, 0),\n",
       " datetime.datetime(1972, 10, 31, 0, 0),\n",
       " datetime.datetime(1972, 11, 30, 0, 0),\n",
       " datetime.datetime(1972, 12, 31, 0, 0),\n",
       " datetime.datetime(1973, 1, 31, 0, 0),\n",
       " datetime.datetime(1973, 2, 28, 0, 0),\n",
       " datetime.datetime(1973, 3, 31, 0, 0),\n",
       " datetime.datetime(1973, 4, 30, 0, 0),\n",
       " datetime.datetime(1973, 5, 31, 0, 0),\n",
       " datetime.datetime(1973, 6, 30, 0, 0),\n",
       " datetime.datetime(1973, 7, 31, 0, 0),\n",
       " datetime.datetime(1973, 8, 31, 0, 0),\n",
       " datetime.datetime(1973, 9, 30, 0, 0),\n",
       " datetime.datetime(1973, 10, 31, 0, 0),\n",
       " datetime.datetime(1973, 11, 30, 0, 0),\n",
       " datetime.datetime(1973, 12, 31, 0, 0),\n",
       " datetime.datetime(1974, 1, 31, 0, 0),\n",
       " datetime.datetime(1974, 2, 28, 0, 0),\n",
       " datetime.datetime(1974, 3, 31, 0, 0),\n",
       " datetime.datetime(1974, 4, 30, 0, 0),\n",
       " datetime.datetime(1974, 5, 31, 0, 0),\n",
       " datetime.datetime(1974, 6, 30, 0, 0),\n",
       " datetime.datetime(1974, 7, 31, 0, 0),\n",
       " datetime.datetime(1974, 8, 31, 0, 0),\n",
       " datetime.datetime(1974, 9, 30, 0, 0),\n",
       " datetime.datetime(1974, 10, 31, 0, 0),\n",
       " datetime.datetime(1974, 11, 30, 0, 0),\n",
       " datetime.datetime(1974, 12, 31, 0, 0),\n",
       " datetime.datetime(1975, 1, 31, 0, 0),\n",
       " datetime.datetime(1975, 2, 28, 0, 0),\n",
       " datetime.datetime(1975, 3, 31, 0, 0),\n",
       " datetime.datetime(1975, 4, 30, 0, 0),\n",
       " datetime.datetime(1975, 5, 31, 0, 0),\n",
       " datetime.datetime(1975, 6, 30, 0, 0),\n",
       " datetime.datetime(1975, 7, 31, 0, 0),\n",
       " datetime.datetime(1975, 8, 31, 0, 0),\n",
       " datetime.datetime(1975, 9, 30, 0, 0),\n",
       " datetime.datetime(1975, 10, 31, 0, 0),\n",
       " datetime.datetime(1975, 11, 30, 0, 0),\n",
       " datetime.datetime(1975, 12, 31, 0, 0),\n",
       " datetime.datetime(1976, 1, 31, 0, 0),\n",
       " datetime.datetime(1976, 2, 29, 0, 0),\n",
       " datetime.datetime(1976, 3, 31, 0, 0),\n",
       " datetime.datetime(1976, 4, 30, 0, 0),\n",
       " datetime.datetime(1976, 5, 31, 0, 0),\n",
       " datetime.datetime(1976, 6, 30, 0, 0),\n",
       " datetime.datetime(1976, 7, 31, 0, 0),\n",
       " datetime.datetime(1976, 8, 31, 0, 0),\n",
       " datetime.datetime(1976, 9, 30, 0, 0),\n",
       " datetime.datetime(1976, 10, 31, 0, 0),\n",
       " datetime.datetime(1976, 11, 30, 0, 0),\n",
       " datetime.datetime(1976, 12, 31, 0, 0),\n",
       " datetime.datetime(1977, 1, 31, 0, 0),\n",
       " datetime.datetime(1977, 2, 28, 0, 0),\n",
       " datetime.datetime(1977, 3, 31, 0, 0),\n",
       " datetime.datetime(1977, 4, 30, 0, 0),\n",
       " datetime.datetime(1977, 5, 31, 0, 0),\n",
       " datetime.datetime(1977, 6, 30, 0, 0),\n",
       " datetime.datetime(1977, 7, 31, 0, 0),\n",
       " datetime.datetime(1977, 8, 31, 0, 0),\n",
       " datetime.datetime(1977, 9, 30, 0, 0),\n",
       " datetime.datetime(1977, 10, 31, 0, 0),\n",
       " datetime.datetime(1977, 11, 30, 0, 0),\n",
       " datetime.datetime(1977, 12, 31, 0, 0),\n",
       " datetime.datetime(1978, 1, 31, 0, 0),\n",
       " datetime.datetime(1978, 2, 28, 0, 0),\n",
       " datetime.datetime(1978, 3, 31, 0, 0),\n",
       " datetime.datetime(1978, 4, 30, 0, 0),\n",
       " datetime.datetime(1978, 5, 31, 0, 0),\n",
       " datetime.datetime(1978, 6, 30, 0, 0),\n",
       " datetime.datetime(1978, 7, 31, 0, 0),\n",
       " datetime.datetime(1978, 8, 31, 0, 0),\n",
       " datetime.datetime(1978, 9, 30, 0, 0),\n",
       " datetime.datetime(1978, 10, 31, 0, 0),\n",
       " datetime.datetime(1978, 11, 30, 0, 0),\n",
       " datetime.datetime(1978, 12, 31, 0, 0),\n",
       " datetime.datetime(1979, 1, 31, 0, 0),\n",
       " datetime.datetime(1979, 2, 28, 0, 0),\n",
       " datetime.datetime(1979, 3, 31, 0, 0),\n",
       " datetime.datetime(1979, 4, 30, 0, 0),\n",
       " datetime.datetime(1979, 5, 31, 0, 0),\n",
       " datetime.datetime(1979, 6, 30, 0, 0),\n",
       " datetime.datetime(1979, 7, 31, 0, 0),\n",
       " datetime.datetime(1979, 8, 31, 0, 0),\n",
       " datetime.datetime(1979, 9, 30, 0, 0),\n",
       " datetime.datetime(1979, 10, 31, 0, 0),\n",
       " datetime.datetime(1979, 11, 30, 0, 0),\n",
       " datetime.datetime(1979, 12, 31, 0, 0),\n",
       " datetime.datetime(1980, 1, 31, 0, 0),\n",
       " datetime.datetime(1980, 2, 29, 0, 0),\n",
       " datetime.datetime(1980, 3, 31, 0, 0),\n",
       " datetime.datetime(1980, 4, 30, 0, 0),\n",
       " datetime.datetime(1980, 5, 31, 0, 0),\n",
       " datetime.datetime(1980, 6, 30, 0, 0),\n",
       " datetime.datetime(1980, 7, 31, 0, 0),\n",
       " datetime.datetime(1980, 8, 31, 0, 0),\n",
       " datetime.datetime(1980, 9, 30, 0, 0),\n",
       " datetime.datetime(1980, 10, 31, 0, 0),\n",
       " datetime.datetime(1980, 11, 30, 0, 0),\n",
       " datetime.datetime(1980, 12, 31, 0, 0),\n",
       " datetime.datetime(1981, 1, 31, 0, 0),\n",
       " datetime.datetime(1981, 2, 28, 0, 0),\n",
       " datetime.datetime(1981, 3, 31, 0, 0),\n",
       " datetime.datetime(1981, 4, 30, 0, 0),\n",
       " datetime.datetime(1981, 5, 31, 0, 0),\n",
       " datetime.datetime(1981, 6, 30, 0, 0),\n",
       " datetime.datetime(1981, 7, 31, 0, 0),\n",
       " datetime.datetime(1981, 8, 31, 0, 0),\n",
       " datetime.datetime(1981, 9, 30, 0, 0),\n",
       " datetime.datetime(1981, 10, 31, 0, 0),\n",
       " datetime.datetime(1981, 11, 30, 0, 0),\n",
       " datetime.datetime(1981, 12, 31, 0, 0),\n",
       " datetime.datetime(1982, 1, 31, 0, 0),\n",
       " datetime.datetime(1982, 2, 28, 0, 0),\n",
       " datetime.datetime(1982, 3, 31, 0, 0),\n",
       " datetime.datetime(1982, 4, 30, 0, 0),\n",
       " datetime.datetime(1982, 5, 31, 0, 0),\n",
       " datetime.datetime(1982, 6, 30, 0, 0),\n",
       " datetime.datetime(1982, 7, 31, 0, 0),\n",
       " datetime.datetime(1982, 8, 31, 0, 0),\n",
       " datetime.datetime(1982, 9, 30, 0, 0),\n",
       " datetime.datetime(1982, 10, 31, 0, 0),\n",
       " datetime.datetime(1982, 11, 30, 0, 0),\n",
       " datetime.datetime(1982, 12, 31, 0, 0),\n",
       " datetime.datetime(1983, 1, 31, 0, 0),\n",
       " datetime.datetime(1983, 2, 28, 0, 0),\n",
       " datetime.datetime(1983, 3, 31, 0, 0),\n",
       " datetime.datetime(1983, 4, 30, 0, 0),\n",
       " datetime.datetime(1983, 5, 31, 0, 0),\n",
       " datetime.datetime(1983, 6, 30, 0, 0),\n",
       " datetime.datetime(1983, 7, 31, 0, 0),\n",
       " datetime.datetime(1983, 8, 31, 0, 0),\n",
       " datetime.datetime(1983, 9, 30, 0, 0),\n",
       " datetime.datetime(1983, 10, 31, 0, 0),\n",
       " datetime.datetime(1983, 11, 30, 0, 0),\n",
       " datetime.datetime(1983, 12, 31, 0, 0),\n",
       " datetime.datetime(1984, 1, 31, 0, 0),\n",
       " datetime.datetime(1984, 2, 29, 0, 0),\n",
       " datetime.datetime(1984, 3, 31, 0, 0),\n",
       " datetime.datetime(1984, 4, 30, 0, 0),\n",
       " datetime.datetime(1984, 5, 31, 0, 0),\n",
       " datetime.datetime(1984, 6, 30, 0, 0),\n",
       " datetime.datetime(1984, 7, 31, 0, 0),\n",
       " datetime.datetime(1984, 8, 31, 0, 0),\n",
       " datetime.datetime(1984, 9, 30, 0, 0),\n",
       " datetime.datetime(1984, 10, 31, 0, 0),\n",
       " datetime.datetime(1984, 11, 30, 0, 0),\n",
       " datetime.datetime(1984, 12, 31, 0, 0),\n",
       " datetime.datetime(1985, 1, 31, 0, 0),\n",
       " datetime.datetime(1985, 2, 28, 0, 0),\n",
       " datetime.datetime(1985, 3, 31, 0, 0),\n",
       " datetime.datetime(1985, 4, 30, 0, 0),\n",
       " datetime.datetime(1985, 5, 31, 0, 0),\n",
       " datetime.datetime(1985, 6, 30, 0, 0),\n",
       " datetime.datetime(1985, 7, 31, 0, 0),\n",
       " datetime.datetime(1985, 8, 31, 0, 0),\n",
       " datetime.datetime(1985, 9, 30, 0, 0),\n",
       " datetime.datetime(1985, 10, 31, 0, 0),\n",
       " datetime.datetime(1985, 11, 30, 0, 0),\n",
       " datetime.datetime(1985, 12, 31, 0, 0),\n",
       " datetime.datetime(1986, 1, 31, 0, 0),\n",
       " datetime.datetime(1986, 2, 28, 0, 0),\n",
       " datetime.datetime(1986, 3, 31, 0, 0),\n",
       " datetime.datetime(1986, 4, 30, 0, 0),\n",
       " datetime.datetime(1986, 5, 31, 0, 0),\n",
       " datetime.datetime(1986, 6, 30, 0, 0),\n",
       " datetime.datetime(1986, 7, 31, 0, 0),\n",
       " datetime.datetime(1986, 8, 31, 0, 0),\n",
       " datetime.datetime(1986, 9, 30, 0, 0),\n",
       " datetime.datetime(1986, 10, 31, 0, 0),\n",
       " datetime.datetime(1986, 11, 30, 0, 0),\n",
       " datetime.datetime(1986, 12, 31, 0, 0),\n",
       " datetime.datetime(1987, 1, 31, 0, 0),\n",
       " datetime.datetime(1987, 2, 28, 0, 0),\n",
       " datetime.datetime(1987, 3, 31, 0, 0),\n",
       " datetime.datetime(1987, 4, 30, 0, 0),\n",
       " datetime.datetime(1987, 5, 31, 0, 0),\n",
       " datetime.datetime(1987, 6, 30, 0, 0),\n",
       " datetime.datetime(1987, 7, 31, 0, 0),\n",
       " datetime.datetime(1987, 8, 31, 0, 0),\n",
       " datetime.datetime(1987, 9, 30, 0, 0),\n",
       " datetime.datetime(1987, 10, 31, 0, 0),\n",
       " datetime.datetime(1987, 11, 30, 0, 0),\n",
       " datetime.datetime(1987, 12, 31, 0, 0),\n",
       " datetime.datetime(1988, 1, 31, 0, 0),\n",
       " datetime.datetime(1988, 2, 29, 0, 0),\n",
       " datetime.datetime(1988, 3, 31, 0, 0),\n",
       " datetime.datetime(1988, 4, 30, 0, 0),\n",
       " datetime.datetime(1988, 5, 31, 0, 0),\n",
       " datetime.datetime(1988, 6, 30, 0, 0),\n",
       " datetime.datetime(1988, 7, 31, 0, 0),\n",
       " datetime.datetime(1988, 8, 31, 0, 0),\n",
       " datetime.datetime(1988, 9, 30, 0, 0),\n",
       " datetime.datetime(1988, 10, 31, 0, 0),\n",
       " datetime.datetime(1988, 11, 30, 0, 0),\n",
       " datetime.datetime(1988, 12, 31, 0, 0),\n",
       " datetime.datetime(1989, 1, 31, 0, 0),\n",
       " datetime.datetime(1989, 2, 28, 0, 0),\n",
       " datetime.datetime(1989, 3, 31, 0, 0),\n",
       " datetime.datetime(1989, 4, 30, 0, 0),\n",
       " datetime.datetime(1989, 5, 31, 0, 0),\n",
       " datetime.datetime(1989, 6, 30, 0, 0),\n",
       " datetime.datetime(1989, 7, 31, 0, 0),\n",
       " datetime.datetime(1989, 8, 31, 0, 0),\n",
       " datetime.datetime(1989, 9, 30, 0, 0),\n",
       " datetime.datetime(1989, 10, 31, 0, 0),\n",
       " datetime.datetime(1989, 11, 30, 0, 0),\n",
       " datetime.datetime(1989, 12, 31, 0, 0),\n",
       " datetime.datetime(1990, 1, 31, 0, 0),\n",
       " datetime.datetime(1990, 2, 28, 0, 0),\n",
       " datetime.datetime(1990, 3, 31, 0, 0),\n",
       " datetime.datetime(1990, 4, 30, 0, 0),\n",
       " datetime.datetime(1990, 5, 31, 0, 0),\n",
       " datetime.datetime(1990, 6, 30, 0, 0),\n",
       " datetime.datetime(1990, 7, 31, 0, 0),\n",
       " datetime.datetime(1990, 8, 31, 0, 0),\n",
       " datetime.datetime(1990, 9, 30, 0, 0),\n",
       " datetime.datetime(1990, 10, 31, 0, 0),\n",
       " datetime.datetime(1990, 11, 30, 0, 0),\n",
       " datetime.datetime(1990, 12, 31, 0, 0),\n",
       " datetime.datetime(1991, 1, 31, 0, 0),\n",
       " datetime.datetime(1991, 2, 28, 0, 0),\n",
       " datetime.datetime(1991, 3, 31, 0, 0),\n",
       " datetime.datetime(1991, 4, 30, 0, 0),\n",
       " datetime.datetime(1991, 5, 31, 0, 0),\n",
       " datetime.datetime(1991, 6, 30, 0, 0),\n",
       " datetime.datetime(1991, 7, 31, 0, 0),\n",
       " datetime.datetime(1991, 8, 31, 0, 0),\n",
       " datetime.datetime(1991, 9, 30, 0, 0),\n",
       " datetime.datetime(1991, 10, 31, 0, 0),\n",
       " datetime.datetime(1991, 11, 30, 0, 0),\n",
       " datetime.datetime(1991, 12, 31, 0, 0),\n",
       " datetime.datetime(1992, 1, 31, 0, 0),\n",
       " datetime.datetime(1992, 2, 29, 0, 0),\n",
       " datetime.datetime(1992, 3, 31, 0, 0),\n",
       " datetime.datetime(1992, 4, 30, 0, 0),\n",
       " datetime.datetime(1992, 5, 31, 0, 0),\n",
       " datetime.datetime(1992, 6, 30, 0, 0),\n",
       " datetime.datetime(1992, 7, 31, 0, 0),\n",
       " datetime.datetime(1992, 8, 31, 0, 0),\n",
       " datetime.datetime(1992, 9, 30, 0, 0),\n",
       " datetime.datetime(1992, 10, 31, 0, 0),\n",
       " datetime.datetime(1992, 11, 30, 0, 0),\n",
       " datetime.datetime(1992, 12, 31, 0, 0),\n",
       " datetime.datetime(1993, 1, 31, 0, 0),\n",
       " datetime.datetime(1993, 2, 28, 0, 0),\n",
       " datetime.datetime(1993, 3, 31, 0, 0),\n",
       " datetime.datetime(1993, 4, 30, 0, 0),\n",
       " datetime.datetime(1993, 5, 31, 0, 0)]"
      ]
     },
     "execution_count": 54,
     "metadata": {},
     "output_type": "execute_result"
    }
   ],
   "source": [
    "date_list"
   ]
  },
  {
   "cell_type": "code",
   "execution_count": 56,
   "metadata": {
    "collapsed": false
   },
   "outputs": [],
   "source": [
    "c2=[]\n",
    "for i in range(0,3*len(aus),3):\n",
    "    c2.append(date_list[i])"
   ]
  },
  {
   "cell_type": "code",
   "execution_count": 57,
   "metadata": {
    "collapsed": false
   },
   "outputs": [
    {
     "data": {
      "text/plain": [
       "[datetime.datetime(1971, 3, 31, 0, 0),\n",
       " datetime.datetime(1971, 6, 30, 0, 0),\n",
       " datetime.datetime(1971, 9, 30, 0, 0),\n",
       " datetime.datetime(1971, 12, 31, 0, 0),\n",
       " datetime.datetime(1972, 3, 31, 0, 0),\n",
       " datetime.datetime(1972, 6, 30, 0, 0),\n",
       " datetime.datetime(1972, 9, 30, 0, 0),\n",
       " datetime.datetime(1972, 12, 31, 0, 0),\n",
       " datetime.datetime(1973, 3, 31, 0, 0),\n",
       " datetime.datetime(1973, 6, 30, 0, 0),\n",
       " datetime.datetime(1973, 9, 30, 0, 0),\n",
       " datetime.datetime(1973, 12, 31, 0, 0),\n",
       " datetime.datetime(1974, 3, 31, 0, 0),\n",
       " datetime.datetime(1974, 6, 30, 0, 0),\n",
       " datetime.datetime(1974, 9, 30, 0, 0),\n",
       " datetime.datetime(1974, 12, 31, 0, 0),\n",
       " datetime.datetime(1975, 3, 31, 0, 0),\n",
       " datetime.datetime(1975, 6, 30, 0, 0),\n",
       " datetime.datetime(1975, 9, 30, 0, 0),\n",
       " datetime.datetime(1975, 12, 31, 0, 0),\n",
       " datetime.datetime(1976, 3, 31, 0, 0),\n",
       " datetime.datetime(1976, 6, 30, 0, 0),\n",
       " datetime.datetime(1976, 9, 30, 0, 0),\n",
       " datetime.datetime(1976, 12, 31, 0, 0),\n",
       " datetime.datetime(1977, 3, 31, 0, 0),\n",
       " datetime.datetime(1977, 6, 30, 0, 0),\n",
       " datetime.datetime(1977, 9, 30, 0, 0),\n",
       " datetime.datetime(1977, 12, 31, 0, 0),\n",
       " datetime.datetime(1978, 3, 31, 0, 0),\n",
       " datetime.datetime(1978, 6, 30, 0, 0),\n",
       " datetime.datetime(1978, 9, 30, 0, 0),\n",
       " datetime.datetime(1978, 12, 31, 0, 0),\n",
       " datetime.datetime(1979, 3, 31, 0, 0),\n",
       " datetime.datetime(1979, 6, 30, 0, 0),\n",
       " datetime.datetime(1979, 9, 30, 0, 0),\n",
       " datetime.datetime(1979, 12, 31, 0, 0),\n",
       " datetime.datetime(1980, 3, 31, 0, 0),\n",
       " datetime.datetime(1980, 6, 30, 0, 0),\n",
       " datetime.datetime(1980, 9, 30, 0, 0),\n",
       " datetime.datetime(1980, 12, 31, 0, 0),\n",
       " datetime.datetime(1981, 3, 31, 0, 0),\n",
       " datetime.datetime(1981, 6, 30, 0, 0),\n",
       " datetime.datetime(1981, 9, 30, 0, 0),\n",
       " datetime.datetime(1981, 12, 31, 0, 0),\n",
       " datetime.datetime(1982, 3, 31, 0, 0),\n",
       " datetime.datetime(1982, 6, 30, 0, 0),\n",
       " datetime.datetime(1982, 9, 30, 0, 0),\n",
       " datetime.datetime(1982, 12, 31, 0, 0),\n",
       " datetime.datetime(1983, 3, 31, 0, 0),\n",
       " datetime.datetime(1983, 6, 30, 0, 0),\n",
       " datetime.datetime(1983, 9, 30, 0, 0),\n",
       " datetime.datetime(1983, 12, 31, 0, 0),\n",
       " datetime.datetime(1984, 3, 31, 0, 0),\n",
       " datetime.datetime(1984, 6, 30, 0, 0),\n",
       " datetime.datetime(1984, 9, 30, 0, 0),\n",
       " datetime.datetime(1984, 12, 31, 0, 0),\n",
       " datetime.datetime(1985, 3, 31, 0, 0),\n",
       " datetime.datetime(1985, 6, 30, 0, 0),\n",
       " datetime.datetime(1985, 9, 30, 0, 0),\n",
       " datetime.datetime(1985, 12, 31, 0, 0),\n",
       " datetime.datetime(1986, 3, 31, 0, 0),\n",
       " datetime.datetime(1986, 6, 30, 0, 0),\n",
       " datetime.datetime(1986, 9, 30, 0, 0),\n",
       " datetime.datetime(1986, 12, 31, 0, 0),\n",
       " datetime.datetime(1987, 3, 31, 0, 0),\n",
       " datetime.datetime(1987, 6, 30, 0, 0),\n",
       " datetime.datetime(1987, 9, 30, 0, 0),\n",
       " datetime.datetime(1987, 12, 31, 0, 0),\n",
       " datetime.datetime(1988, 3, 31, 0, 0),\n",
       " datetime.datetime(1988, 6, 30, 0, 0),\n",
       " datetime.datetime(1988, 9, 30, 0, 0),\n",
       " datetime.datetime(1988, 12, 31, 0, 0),\n",
       " datetime.datetime(1989, 3, 31, 0, 0),\n",
       " datetime.datetime(1989, 6, 30, 0, 0),\n",
       " datetime.datetime(1989, 9, 30, 0, 0),\n",
       " datetime.datetime(1989, 12, 31, 0, 0),\n",
       " datetime.datetime(1990, 3, 31, 0, 0),\n",
       " datetime.datetime(1990, 6, 30, 0, 0),\n",
       " datetime.datetime(1990, 9, 30, 0, 0),\n",
       " datetime.datetime(1990, 12, 31, 0, 0),\n",
       " datetime.datetime(1991, 3, 31, 0, 0),\n",
       " datetime.datetime(1991, 6, 30, 0, 0),\n",
       " datetime.datetime(1991, 9, 30, 0, 0),\n",
       " datetime.datetime(1991, 12, 31, 0, 0),\n",
       " datetime.datetime(1992, 3, 31, 0, 0),\n",
       " datetime.datetime(1992, 6, 30, 0, 0),\n",
       " datetime.datetime(1992, 9, 30, 0, 0),\n",
       " datetime.datetime(1992, 12, 31, 0, 0),\n",
       " datetime.datetime(1993, 3, 31, 0, 0)]"
      ]
     },
     "execution_count": 57,
     "metadata": {},
     "output_type": "execute_result"
    }
   ],
   "source": [
    "c2"
   ]
  },
  {
   "cell_type": "code",
   "execution_count": 59,
   "metadata": {
    "collapsed": false
   },
   "outputs": [],
   "source": [
    "aus['index'] =c2\n",
    "aus.set_index(['index'], inplace=True)\n",
    "aus.index.name=None"
   ]
  },
  {
   "cell_type": "code",
   "execution_count": 60,
   "metadata": {
    "collapsed": false
   },
   "outputs": [
    {
     "data": {
      "text/html": [
       "<div>\n",
       "<table border=\"1\" class=\"dataframe\">\n",
       "  <thead>\n",
       "    <tr style=\"text-align: right;\">\n",
       "      <th></th>\n",
       "      <th>time</th>\n",
       "      <th>austres</th>\n",
       "    </tr>\n",
       "  </thead>\n",
       "  <tbody>\n",
       "    <tr>\n",
       "      <th>1971-03-31</th>\n",
       "      <td>1971.25</td>\n",
       "      <td>13067.3</td>\n",
       "    </tr>\n",
       "    <tr>\n",
       "      <th>1971-06-30</th>\n",
       "      <td>1971.50</td>\n",
       "      <td>13130.5</td>\n",
       "    </tr>\n",
       "    <tr>\n",
       "      <th>1971-09-30</th>\n",
       "      <td>1971.75</td>\n",
       "      <td>13198.4</td>\n",
       "    </tr>\n",
       "    <tr>\n",
       "      <th>1971-12-31</th>\n",
       "      <td>1972.00</td>\n",
       "      <td>13254.2</td>\n",
       "    </tr>\n",
       "    <tr>\n",
       "      <th>1972-03-31</th>\n",
       "      <td>1972.25</td>\n",
       "      <td>13303.7</td>\n",
       "    </tr>\n",
       "  </tbody>\n",
       "</table>\n",
       "</div>"
      ],
      "text/plain": [
       "               time  austres\n",
       "1971-03-31  1971.25  13067.3\n",
       "1971-06-30  1971.50  13130.5\n",
       "1971-09-30  1971.75  13198.4\n",
       "1971-12-31  1972.00  13254.2\n",
       "1972-03-31  1972.25  13303.7"
      ]
     },
     "execution_count": 60,
     "metadata": {},
     "output_type": "execute_result"
    }
   ],
   "source": [
    "aus.head()"
   ]
  },
  {
   "cell_type": "code",
   "execution_count": 61,
   "metadata": {
    "collapsed": true
   },
   "outputs": [],
   "source": [
    "aus=aus.drop('time',1)\n"
   ]
  },
  {
   "cell_type": "code",
   "execution_count": 62,
   "metadata": {
    "collapsed": true
   },
   "outputs": [],
   "source": [
    "y=aus"
   ]
  },
  {
   "cell_type": "code",
   "execution_count": 63,
   "metadata": {
    "collapsed": false
   },
   "outputs": [
    {
     "name": "stdout",
     "output_type": "stream",
     "text": [
      "ARIMA(0, 0, 0)x(0, 0, 1, 12)12 - AIC:1640.498695405866\n",
      "ARIMA(0, 0, 0)x(0, 1, 1, 12)12 - AIC:957.7157324475122\n",
      "ARIMA(0, 0, 0)x(1, 0, 0, 12)12 - AIC:901.8737542488778\n",
      "ARIMA(0, 0, 0)x(1, 0, 1, 12)12 - AIC:893.4970589310027\n",
      "ARIMA(0, 0, 0)x(1, 1, 0, 12)12 - AIC:821.5535708474058\n",
      "ARIMA(0, 0, 0)x(1, 1, 1, 12)12 - AIC:789.9330545732091\n",
      "ARIMA(0, 0, 1)x(0, 0, 0, 12)12 - AIC:1866.0471769096082\n",
      "ARIMA(0, 0, 1)x(0, 0, 1, 12)12 - AIC:3925.760426368583\n",
      "ARIMA(0, 0, 1)x(0, 1, 0, 12)12 - AIC:1086.733456078065\n",
      "ARIMA(0, 0, 1)x(0, 1, 1, 12)12 - AIC:917.9195061799221\n",
      "ARIMA(0, 0, 1)x(1, 0, 0, 12)12 - AIC:808.5017824725799\n",
      "ARIMA(0, 0, 1)x(1, 0, 1, 12)12 - AIC:1543.673635439925\n",
      "ARIMA(0, 0, 1)x(1, 1, 0, 12)12 - AIC:742.4302886984069\n",
      "ARIMA(0, 0, 1)x(1, 1, 1, 12)12 - AIC:722.8237967086055\n",
      "ARIMA(0, 1, 0)x(0, 0, 1, 12)12 - AIC:751.9874335168838\n",
      "ARIMA(0, 1, 0)x(0, 1, 1, 12)12 - AIC:518.4115822594365\n",
      "ARIMA(0, 1, 0)x(1, 0, 0, 12)12 - AIC:642.4135683750286\n",
      "ARIMA(0, 1, 0)x(1, 0, 1, 12)12 - AIC:618.5002080638922\n",
      "ARIMA(0, 1, 0)x(1, 1, 0, 12)12 - AIC:531.3805164392139\n",
      "ARIMA(0, 1, 0)x(1, 1, 1, 12)12 - AIC:523.4816750307536\n",
      "ARIMA(0, 1, 1)x(0, 0, 0, 12)12 - AIC:840.8735543936959\n",
      "ARIMA(0, 1, 1)x(0, 0, 1, 12)12 - AIC:682.127882296428\n",
      "ARIMA(0, 1, 1)x(0, 1, 0, 12)12 - AIC:603.9099307476866\n",
      "ARIMA(0, 1, 1)x(0, 1, 1, 12)12 - AIC:495.8422863919097\n",
      "ARIMA(0, 1, 1)x(1, 0, 0, 12)12 - AIC:617.5943005442614\n",
      "ARIMA(0, 1, 1)x(1, 0, 1, 12)12 - AIC:591.2669779528502\n",
      "ARIMA(0, 1, 1)x(1, 1, 0, 12)12 - AIC:513.4941880115649\n",
      "ARIMA(0, 1, 1)x(1, 1, 1, 12)12 - AIC:499.3274255512188\n",
      "ARIMA(1, 0, 0)x(0, 0, 0, 12)12 - AIC:693.3693646362891\n",
      "ARIMA(1, 0, 0)x(0, 0, 1, 12)12 - AIC:602.5140387938435\n",
      "ARIMA(1, 0, 0)x(0, 1, 0, 12)12 - AIC:645.001916659511\n",
      "ARIMA(1, 0, 0)x(0, 1, 1, 12)12 - AIC:547.3449848000671\n",
      "ARIMA(1, 0, 0)x(1, 0, 0, 12)12 - AIC:602.4556470408446\n",
      "ARIMA(1, 0, 0)x(1, 0, 1, 12)12 - AIC:624.5638559731884\n",
      "ARIMA(1, 0, 0)x(1, 1, 0, 12)12 - AIC:531.2783134356048\n",
      "ARIMA(1, 0, 0)x(1, 1, 1, 12)12 - AIC:533.5546859038316\n",
      "ARIMA(1, 0, 1)x(0, 0, 0, 12)12 - AIC:666.2777676583347\n",
      "ARIMA(1, 0, 1)x(0, 0, 1, 12)12 - AIC:580.9817850545888\n",
      "ARIMA(1, 0, 1)x(0, 1, 0, 12)12 - AIC:612.6194903691924\n",
      "ARIMA(1, 0, 1)x(0, 1, 1, 12)12 - AIC:521.6892013270732\n",
      "ARIMA(1, 0, 1)x(1, 0, 0, 12)12 - AIC:587.6090324333155\n",
      "ARIMA(1, 0, 1)x(1, 0, 1, 12)12 - AIC:591.7145943326105\n",
      "ARIMA(1, 0, 1)x(1, 1, 0, 12)12 - AIC:528.2690148815029\n",
      "ARIMA(1, 0, 1)x(1, 1, 1, 12)12 - AIC:522.7935221968817\n",
      "ARIMA(1, 1, 0)x(0, 0, 0, 12)12 - AIC:672.9256770997605\n",
      "ARIMA(1, 1, 0)x(0, 0, 1, 12)12 - AIC:585.9149198758939\n",
      "ARIMA(1, 1, 0)x(0, 1, 0, 12)12 - AIC:583.4588768991518\n",
      "ARIMA(1, 1, 0)x(0, 1, 1, 12)12 - AIC:488.7871526210009\n",
      "ARIMA(1, 1, 0)x(1, 0, 0, 12)12 - AIC:579.4968615966471\n",
      "ARIMA(1, 1, 0)x(1, 0, 1, 12)12 - AIC:577.250438697217\n",
      "ARIMA(1, 1, 0)x(1, 1, 0, 12)12 - AIC:489.46855508137503\n",
      "ARIMA(1, 1, 0)x(1, 1, 1, 12)12 - AIC:491.36637011306703\n",
      "ARIMA(1, 1, 1)x(0, 0, 0, 12)12 - AIC:647.409736875269\n",
      "ARIMA(1, 1, 1)x(0, 0, 1, 12)12 - AIC:562.1176939708737\n",
      "ARIMA(1, 1, 1)x(0, 1, 0, 12)12 - AIC:568.0507913265876\n",
      "ARIMA(1, 1, 1)x(0, 1, 1, 12)12 - AIC:477.45261483171817\n",
      "ARIMA(1, 1, 1)x(1, 0, 0, 12)12 - AIC:564.4880395495423\n",
      "ARIMA(1, 1, 1)x(1, 0, 1, 12)12 - AIC:558.0865701996705\n",
      "ARIMA(1, 1, 1)x(1, 1, 0, 12)12 - AIC:485.3372280690333\n",
      "ARIMA(1, 1, 1)x(1, 1, 1, 12)12 - AIC:480.32582361973095\n"
     ]
    }
   ],
   "source": [
    "warnings.filterwarnings(\"ignore\") # specify to ignore warning messages\n",
    "c4=[]\n",
    "for param in pdq:\n",
    "    for param_seasonal in seasonal_pdq:\n",
    "        try:\n",
    "            mod = sm.tsa.statespace.SARIMAX(y,\n",
    "                                            order=param,\n",
    "                                            seasonal_order=param_seasonal,\n",
    "                                            enforce_stationarity=False,\n",
    "                                            enforce_invertibility=False)\n",
    "\n",
    "            results = mod.fit()\n",
    "\n",
    "            print('ARIMA{}x{}12 - AIC:{}'.format(param, param_seasonal, results.aic))\n",
    "            c4.append('ARIMA{}x{}12 - AIC:{}'.format(param, param_seasonal, results.aic))\n",
    "        except:\n",
    "            continue"
   ]
  },
  {
   "cell_type": "code",
   "execution_count": 64,
   "metadata": {
    "collapsed": true
   },
   "outputs": [],
   "source": [
    "warnings.filterwarnings(\"ignore\") # specify to ignore warning messages\n",
    "c3=[]\n",
    "for param in pdq:\n",
    "    for param_seasonal in seasonal_pdq:\n",
    "        try:\n",
    "            mod = sm.tsa.statespace.SARIMAX(y,\n",
    "                                            order=param,\n",
    "                                            seasonal_order=param_seasonal,\n",
    "                                            enforce_stationarity=False,\n",
    "                                            enforce_invertibility=False)\n",
    "\n",
    "            results = mod.fit()\n",
    "\n",
    "            c3.append( results.aic)\n",
    "        except:\n",
    "            continue"
   ]
  },
  {
   "cell_type": "code",
   "execution_count": 65,
   "metadata": {
    "collapsed": false
   },
   "outputs": [
    {
     "data": {
      "text/plain": [
       "[1640.4986954058661,\n",
       " 957.71573244751221,\n",
       " 901.87375424887784,\n",
       " 893.4970589310027,\n",
       " 821.55357084740581,\n",
       " 789.93305457320912,\n",
       " 1866.0471769096082,\n",
       " 3925.760426368583,\n",
       " 1086.733456078065,\n",
       " 917.91950617992211,\n",
       " 808.50178247257986,\n",
       " 1543.673635439925,\n",
       " 742.43028869840691,\n",
       " 722.82379670860553,\n",
       " 751.98743351688381,\n",
       " 518.4115822594365,\n",
       " 642.4135683750286,\n",
       " 618.50020806389216,\n",
       " 531.38051643921392,\n",
       " 523.48167503075365,\n",
       " 840.87355439369594,\n",
       " 682.12788229642797,\n",
       " 603.90993074768664,\n",
       " 495.84228639190968,\n",
       " 617.59430054426139,\n",
       " 591.2669779528502,\n",
       " 513.49418801156492,\n",
       " 499.32742555121882,\n",
       " 693.36936463628911,\n",
       " 602.5140387938435,\n",
       " 645.00191665951104,\n",
       " 547.3449848000671,\n",
       " 602.45564704084461,\n",
       " 624.56385597318842,\n",
       " 531.27831343560479,\n",
       " 533.55468590383157,\n",
       " 666.27776765833471,\n",
       " 580.98178505458884,\n",
       " 612.61949036919236,\n",
       " 521.68920132707319,\n",
       " 587.60903243331552,\n",
       " 591.71459433261055,\n",
       " 528.26901488150293,\n",
       " 522.79352219688167,\n",
       " 672.92567709976049,\n",
       " 585.91491987589393,\n",
       " 583.45887689915185,\n",
       " 488.78715262100093,\n",
       " 579.49686159664714,\n",
       " 577.25043869721696,\n",
       " 489.46855508137503,\n",
       " 491.36637011306703,\n",
       " 647.409736875269,\n",
       " 562.11769397087369,\n",
       " 568.05079132658761,\n",
       " 477.45261483171817,\n",
       " 564.48803954954235,\n",
       " 558.08657019967052,\n",
       " 485.3372280690333,\n",
       " 480.32582361973095]"
      ]
     },
     "execution_count": 65,
     "metadata": {},
     "output_type": "execute_result"
    }
   ],
   "source": [
    "c3\n"
   ]
  },
  {
   "cell_type": "code",
   "execution_count": 66,
   "metadata": {
    "collapsed": true
   },
   "outputs": [],
   "source": [
    "index_min = np.argmin(c3)\n"
   ]
  },
  {
   "cell_type": "code",
   "execution_count": 67,
   "metadata": {
    "collapsed": false
   },
   "outputs": [
    {
     "data": {
      "text/plain": [
       "55"
      ]
     },
     "execution_count": 67,
     "metadata": {},
     "output_type": "execute_result"
    }
   ],
   "source": [
    "index_min"
   ]
  },
  {
   "cell_type": "code",
   "execution_count": 68,
   "metadata": {
    "collapsed": false
   },
   "outputs": [
    {
     "data": {
      "text/plain": [
       "477.45261483171817"
      ]
     },
     "execution_count": 68,
     "metadata": {},
     "output_type": "execute_result"
    }
   ],
   "source": [
    "c3[index_min]\n"
   ]
  },
  {
   "cell_type": "code",
   "execution_count": null,
   "metadata": {
    "collapsed": true
   },
   "outputs": [],
   "source": [
    "#ARIMA(1, 1, 1)x(0, 1, 1, 12)12 - AIC:477.45261483171817\n"
   ]
  },
  {
   "cell_type": "code",
   "execution_count": 69,
   "metadata": {
    "collapsed": true
   },
   "outputs": [],
   "source": [
    "from statsmodels.tsa.x13 import x13_arima_select_order\n"
   ]
  },
  {
   "cell_type": "code",
   "execution_count": 71,
   "metadata": {
    "collapsed": false
   },
   "outputs": [
    {
     "data": {
      "text/plain": [
       "'1, 1, 1'"
      ]
     },
     "execution_count": 71,
     "metadata": {},
     "output_type": "execute_result"
    }
   ],
   "source": [
    "order1=c4[index_min][6:13]\n",
    "order1"
   ]
  },
  {
   "cell_type": "code",
   "execution_count": 72,
   "metadata": {
    "collapsed": false
   },
   "outputs": [
    {
     "data": {
      "text/plain": [
       "[1, 1, 1]"
      ]
     },
     "execution_count": 72,
     "metadata": {},
     "output_type": "execute_result"
    }
   ],
   "source": [
    "order1=[int(s) for s in order1.split(',')]\n",
    "order1"
   ]
  },
  {
   "cell_type": "code",
   "execution_count": 73,
   "metadata": {
    "collapsed": false
   },
   "outputs": [
    {
     "data": {
      "text/plain": [
       "'0, 1, 1, 12'"
      ]
     },
     "execution_count": 73,
     "metadata": {},
     "output_type": "execute_result"
    }
   ],
   "source": [
    "seasonal_order1=c4[index_min][16:27]\n",
    "seasonal_order1"
   ]
  },
  {
   "cell_type": "code",
   "execution_count": 74,
   "metadata": {
    "collapsed": false
   },
   "outputs": [
    {
     "data": {
      "text/plain": [
       "[0, 1, 1, 12]"
      ]
     },
     "execution_count": 74,
     "metadata": {},
     "output_type": "execute_result"
    }
   ],
   "source": [
    "seasonal_order1=[int(s) for s in seasonal_order1.split(',')]\n",
    "seasonal_order1"
   ]
  },
  {
   "cell_type": "code",
   "execution_count": 76,
   "metadata": {
    "collapsed": false
   },
   "outputs": [],
   "source": [
    "mod = sm.tsa.statespace.SARIMAX(y.austres, trend='n', order=order1, seasonal_order=seasonal_order1)\n"
   ]
  },
  {
   "cell_type": "code",
   "execution_count": 77,
   "metadata": {
    "collapsed": false
   },
   "outputs": [
    {
     "name": "stdout",
     "output_type": "stream",
     "text": [
      "                                 Statespace Model Results                                 \n",
      "==========================================================================================\n",
      "Dep. Variable:                            austres   No. Observations:                   89\n",
      "Model:             SARIMAX(1, 1, 1)x(0, 1, 1, 12)   Log Likelihood                -283.908\n",
      "Date:                            Mon, 29 May 2017   AIC                            575.816\n",
      "Time:                                    20:52:06   BIC                            585.771\n",
      "Sample:                                03-31-1971   HQIC                           579.829\n",
      "                                     - 03-31-1993                                         \n",
      "Covariance Type:                              opg                                         \n",
      "==============================================================================\n",
      "                 coef    std err          z      P>|z|      [0.025      0.975]\n",
      "------------------------------------------------------------------------------\n",
      "ar.L1          0.9163      0.066     13.797      0.000       0.786       1.047\n",
      "ma.L1         -0.4557      0.139     -3.283      0.001      -0.728      -0.184\n",
      "ma.S.L12      -0.4914      0.210     -2.345      0.019      -0.902      -0.081\n",
      "sigma2        97.8677     10.160      9.633      0.000      77.955     117.781\n",
      "===================================================================================\n",
      "Ljung-Box (Q):                       20.99   Jarque-Bera (JB):                79.64\n",
      "Prob(Q):                              0.99   Prob(JB):                         0.00\n",
      "Heteroskedasticity (H):               3.34   Skew:                            -1.19\n",
      "Prob(H) (two-sided):                  0.00   Kurtosis:                         7.42\n",
      "===================================================================================\n",
      "\n",
      "Warnings:\n",
      "[1] Covariance matrix calculated using the outer product of gradients (complex-step).\n"
     ]
    }
   ],
   "source": [
    "results = mod.fit()\n",
    "print (results.summary())"
   ]
  },
  {
   "cell_type": "code",
   "execution_count": 78,
   "metadata": {
    "collapsed": false
   },
   "outputs": [
    {
     "data": {
      "text/plain": [
       "1990-09-30    17154.504726\n",
       "1990-12-31    17232.721671\n",
       "1991-03-31    17292.787820\n",
       "1991-06-30    17356.532926\n",
       "1991-09-30    17416.677379\n",
       "1991-12-31    17478.884490\n",
       "1992-03-31    17483.140550\n",
       "1992-06-30    17521.456437\n",
       "1992-09-30    17573.650282\n",
       "1992-12-31    17618.031624\n",
       "1993-03-31    17673.833098\n",
       "1993-06-30    17686.742802\n",
       "1993-09-30    17735.686265\n",
       "1993-12-31    17793.317610\n",
       "1994-03-31    17836.466110\n",
       "1994-06-30    17890.975226\n",
       "1994-09-30    17944.622703\n",
       "1994-12-31    17986.865712\n",
       "1995-03-31    18023.737569\n",
       "1995-06-30    18066.224321\n",
       "1995-09-30    18111.537395\n",
       "1995-12-31    18166.767228\n",
       "Freq: Q-DEC, dtype: float64"
      ]
     },
     "execution_count": 78,
     "metadata": {},
     "output_type": "execute_result"
    }
   ],
   "source": [
    "results.predict(start=78,end=99)\n"
   ]
  },
  {
   "cell_type": "code",
   "execution_count": 79,
   "metadata": {
    "collapsed": false
   },
   "outputs": [
    {
     "data": {
      "text/plain": [
       "<matplotlib.axes._subplots.AxesSubplot at 0xc8f45c0>"
      ]
     },
     "execution_count": 79,
     "metadata": {},
     "output_type": "execute_result"
    },
    {
     "data": {
      "image/png": "[encoded data removed]",
      "text/plain": [
       "<matplotlib.figure.Figure at 0xc8f4d68>"
      ]
     },
     "metadata": {},
     "output_type": "display_data"
    }
   ],
   "source": [
    "results.predict(start=78,end=99).plot()\n"
   ]
  },
  {
   "cell_type": "code",
   "execution_count": null,
   "metadata": {
    "collapsed": true
   },
   "outputs": [],
   "source": []
  }
 ],
 "metadata": {
  "anaconda-cloud": {},
  "kernelspec": {
   "display_name": "Python [conda root]",
   "language": "python",
   "name": "conda-root-py"
  },
  "language_info": {
   "codemirror_mode": {
    "name": "ipython",
    "version": 3
   },
   "file_extension": ".py",
   "mimetype": "text/x-python",
   "name": "python",
   "nbconvert_exporter": "python",
   "pygments_lexer": "ipython3",
   "version": "3.5.2"
  }
 },
 "nbformat": 4,
 "nbformat_minor": 1
}
