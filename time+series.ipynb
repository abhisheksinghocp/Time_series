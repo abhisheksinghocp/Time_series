{
 "cells": [
  {
   "cell_type": "code",
   "execution_count": 1,
   "metadata": {},
   "outputs": [
    {
     "name": "stderr",
     "output_type": "stream",
     "text": [
      "C:\\Users\\KOGENTIX\\Anaconda3\\lib\\site-packages\\statsmodels\\compat\\pandas.py:56: FutureWarning: The pandas.core.datetools module is deprecated and will be removed in a future version. Please use the pandas.tseries module instead.\n",
      "  from pandas.core import datetools\n"
     ]
    }
   ],
   "source": [
    "\n",
    "%matplotlib inline\n",
    "import pandas as pd\n",
    "import numpy as np\n",
    "import matplotlib.pyplot as plt\n",
    "import datetime\n",
    "from dateutil.relativedelta import relativedelta\n",
    "import seaborn as sns\n",
    "import statsmodels.api as sm  \n",
    "from statsmodels.tsa.stattools import acf  \n",
    "from statsmodels.tsa.stattools import pacf\n",
    "from statsmodels.tsa.seasonal import seasonal_decompose"
   ]
  },
  {
   "cell_type": "code",
   "execution_count": 2,
   "metadata": {
    "collapsed": true
   },
   "outputs": [],
   "source": [
    "from pandas.core import datetools"
   ]
  },
  {
   "cell_type": "code",
   "execution_count": 3,
   "metadata": {
    "collapsed": true
   },
   "outputs": [],
   "source": [
    "# Source data https://stat.ethz.ch/R-manual/R-devel/library/datasets/html/AirPassengers.html\n",
    "df=pd.read_csv(\"http://vincentarelbundock.github.io/Rdatasets/csv/datasets/AirPassengers.csv\")"
   ]
  },
  {
   "cell_type": "code",
   "execution_count": 4,
   "metadata": {},
   "outputs": [
    {
     "data": {
      "text/html": [
       "<div>\n",
       "<style>\n",
       "    .dataframe thead tr:only-child th {\n",
       "        text-align: right;\n",
       "    }\n",
       "\n",
       "    .dataframe thead th {\n",
       "        text-align: left;\n",
       "    }\n",
       "\n",
       "    .dataframe tbody tr th {\n",
       "        vertical-align: top;\n",
       "    }\n",
       "</style>\n",
       "<table border=\"1\" class=\"dataframe\">\n",
       "  <thead>\n",
       "    <tr style=\"text-align: right;\">\n",
       "      <th></th>\n",
       "      <th>Unnamed: 0</th>\n",
       "      <th>time</th>\n",
       "      <th>AirPassengers</th>\n",
       "    </tr>\n",
       "  </thead>\n",
       "  <tbody>\n",
       "    <tr>\n",
       "      <th>0</th>\n",
       "      <td>1</td>\n",
       "      <td>1949.000000</td>\n",
       "      <td>112</td>\n",
       "    </tr>\n",
       "    <tr>\n",
       "      <th>1</th>\n",
       "      <td>2</td>\n",
       "      <td>1949.083333</td>\n",
       "      <td>118</td>\n",
       "    </tr>\n",
       "    <tr>\n",
       "      <th>2</th>\n",
       "      <td>3</td>\n",
       "      <td>1949.166667</td>\n",
       "      <td>132</td>\n",
       "    </tr>\n",
       "    <tr>\n",
       "      <th>3</th>\n",
       "      <td>4</td>\n",
       "      <td>1949.250000</td>\n",
       "      <td>129</td>\n",
       "    </tr>\n",
       "    <tr>\n",
       "      <th>4</th>\n",
       "      <td>5</td>\n",
       "      <td>1949.333333</td>\n",
       "      <td>121</td>\n",
       "    </tr>\n",
       "  </tbody>\n",
       "</table>\n",
       "</div>"
      ],
      "text/plain": [
       "   Unnamed: 0         time  AirPassengers\n",
       "0           1  1949.000000            112\n",
       "1           2  1949.083333            118\n",
       "2           3  1949.166667            132\n",
       "3           4  1949.250000            129\n",
       "4           5  1949.333333            121"
      ]
     },
     "execution_count": 4,
     "metadata": {},
     "output_type": "execute_result"
    }
   ],
   "source": [
    "df.head()"
   ]
  },
  {
   "cell_type": "code",
   "execution_count": 5,
   "metadata": {},
   "outputs": [
    {
     "data": {
      "text/html": [
       "<div>\n",
       "<style>\n",
       "    .dataframe thead tr:only-child th {\n",
       "        text-align: right;\n",
       "    }\n",
       "\n",
       "    .dataframe thead th {\n",
       "        text-align: left;\n",
       "    }\n",
       "\n",
       "    .dataframe tbody tr th {\n",
       "        vertical-align: top;\n",
       "    }\n",
       "</style>\n",
       "<table border=\"1\" class=\"dataframe\">\n",
       "  <thead>\n",
       "    <tr style=\"text-align: right;\">\n",
       "      <th></th>\n",
       "      <th>Unnamed: 0</th>\n",
       "      <th>time</th>\n",
       "      <th>AirPassengers</th>\n",
       "    </tr>\n",
       "  </thead>\n",
       "  <tbody>\n",
       "    <tr>\n",
       "      <th>0</th>\n",
       "      <td>1</td>\n",
       "      <td>1949.000000</td>\n",
       "      <td>112</td>\n",
       "    </tr>\n",
       "    <tr>\n",
       "      <th>1</th>\n",
       "      <td>2</td>\n",
       "      <td>1949.083333</td>\n",
       "      <td>118</td>\n",
       "    </tr>\n",
       "    <tr>\n",
       "      <th>2</th>\n",
       "      <td>3</td>\n",
       "      <td>1949.166667</td>\n",
       "      <td>132</td>\n",
       "    </tr>\n",
       "    <tr>\n",
       "      <th>3</th>\n",
       "      <td>4</td>\n",
       "      <td>1949.250000</td>\n",
       "      <td>129</td>\n",
       "    </tr>\n",
       "    <tr>\n",
       "      <th>4</th>\n",
       "      <td>5</td>\n",
       "      <td>1949.333333</td>\n",
       "      <td>121</td>\n",
       "    </tr>\n",
       "    <tr>\n",
       "      <th>5</th>\n",
       "      <td>6</td>\n",
       "      <td>1949.416667</td>\n",
       "      <td>135</td>\n",
       "    </tr>\n",
       "    <tr>\n",
       "      <th>6</th>\n",
       "      <td>7</td>\n",
       "      <td>1949.500000</td>\n",
       "      <td>148</td>\n",
       "    </tr>\n",
       "    <tr>\n",
       "      <th>7</th>\n",
       "      <td>8</td>\n",
       "      <td>1949.583333</td>\n",
       "      <td>148</td>\n",
       "    </tr>\n",
       "    <tr>\n",
       "      <th>8</th>\n",
       "      <td>9</td>\n",
       "      <td>1949.666667</td>\n",
       "      <td>136</td>\n",
       "    </tr>\n",
       "    <tr>\n",
       "      <th>9</th>\n",
       "      <td>10</td>\n",
       "      <td>1949.750000</td>\n",
       "      <td>119</td>\n",
       "    </tr>\n",
       "    <tr>\n",
       "      <th>10</th>\n",
       "      <td>11</td>\n",
       "      <td>1949.833333</td>\n",
       "      <td>104</td>\n",
       "    </tr>\n",
       "    <tr>\n",
       "      <th>11</th>\n",
       "      <td>12</td>\n",
       "      <td>1949.916667</td>\n",
       "      <td>118</td>\n",
       "    </tr>\n",
       "    <tr>\n",
       "      <th>12</th>\n",
       "      <td>13</td>\n",
       "      <td>1950.000000</td>\n",
       "      <td>115</td>\n",
       "    </tr>\n",
       "  </tbody>\n",
       "</table>\n",
       "</div>"
      ],
      "text/plain": [
       "    Unnamed: 0         time  AirPassengers\n",
       "0            1  1949.000000            112\n",
       "1            2  1949.083333            118\n",
       "2            3  1949.166667            132\n",
       "3            4  1949.250000            129\n",
       "4            5  1949.333333            121\n",
       "5            6  1949.416667            135\n",
       "6            7  1949.500000            148\n",
       "7            8  1949.583333            148\n",
       "8            9  1949.666667            136\n",
       "9           10  1949.750000            119\n",
       "10          11  1949.833333            104\n",
       "11          12  1949.916667            118\n",
       "12          13  1950.000000            115"
      ]
     },
     "execution_count": 5,
     "metadata": {},
     "output_type": "execute_result"
    }
   ],
   "source": [
    "df.head(13)"
   ]
  },
  {
   "cell_type": "code",
   "execution_count": 7,
   "metadata": {},
   "outputs": [
    {
     "data": {
      "text/html": [
       "<div>\n",
       "<style>\n",
       "    .dataframe thead tr:only-child th {\n",
       "        text-align: right;\n",
       "    }\n",
       "\n",
       "    .dataframe thead th {\n",
       "        text-align: left;\n",
       "    }\n",
       "\n",
       "    .dataframe tbody tr th {\n",
       "        vertical-align: top;\n",
       "    }\n",
       "</style>\n",
       "<table border=\"1\" class=\"dataframe\">\n",
       "  <thead>\n",
       "    <tr style=\"text-align: right;\">\n",
       "      <th></th>\n",
       "      <th>Unnamed: 0</th>\n",
       "      <th>time</th>\n",
       "      <th>AirPassengers</th>\n",
       "    </tr>\n",
       "  </thead>\n",
       "  <tbody>\n",
       "    <tr>\n",
       "      <th>131</th>\n",
       "      <td>132</td>\n",
       "      <td>1959.916667</td>\n",
       "      <td>405</td>\n",
       "    </tr>\n",
       "    <tr>\n",
       "      <th>132</th>\n",
       "      <td>133</td>\n",
       "      <td>1960.000000</td>\n",
       "      <td>417</td>\n",
       "    </tr>\n",
       "    <tr>\n",
       "      <th>133</th>\n",
       "      <td>134</td>\n",
       "      <td>1960.083333</td>\n",
       "      <td>391</td>\n",
       "    </tr>\n",
       "    <tr>\n",
       "      <th>134</th>\n",
       "      <td>135</td>\n",
       "      <td>1960.166667</td>\n",
       "      <td>419</td>\n",
       "    </tr>\n",
       "    <tr>\n",
       "      <th>135</th>\n",
       "      <td>136</td>\n",
       "      <td>1960.250000</td>\n",
       "      <td>461</td>\n",
       "    </tr>\n",
       "    <tr>\n",
       "      <th>136</th>\n",
       "      <td>137</td>\n",
       "      <td>1960.333333</td>\n",
       "      <td>472</td>\n",
       "    </tr>\n",
       "    <tr>\n",
       "      <th>137</th>\n",
       "      <td>138</td>\n",
       "      <td>1960.416667</td>\n",
       "      <td>535</td>\n",
       "    </tr>\n",
       "    <tr>\n",
       "      <th>138</th>\n",
       "      <td>139</td>\n",
       "      <td>1960.500000</td>\n",
       "      <td>622</td>\n",
       "    </tr>\n",
       "    <tr>\n",
       "      <th>139</th>\n",
       "      <td>140</td>\n",
       "      <td>1960.583333</td>\n",
       "      <td>606</td>\n",
       "    </tr>\n",
       "    <tr>\n",
       "      <th>140</th>\n",
       "      <td>141</td>\n",
       "      <td>1960.666667</td>\n",
       "      <td>508</td>\n",
       "    </tr>\n",
       "    <tr>\n",
       "      <th>141</th>\n",
       "      <td>142</td>\n",
       "      <td>1960.750000</td>\n",
       "      <td>461</td>\n",
       "    </tr>\n",
       "    <tr>\n",
       "      <th>142</th>\n",
       "      <td>143</td>\n",
       "      <td>1960.833333</td>\n",
       "      <td>390</td>\n",
       "    </tr>\n",
       "    <tr>\n",
       "      <th>143</th>\n",
       "      <td>144</td>\n",
       "      <td>1960.916667</td>\n",
       "      <td>432</td>\n",
       "    </tr>\n",
       "  </tbody>\n",
       "</table>\n",
       "</div>"
      ],
      "text/plain": [
       "     Unnamed: 0         time  AirPassengers\n",
       "131         132  1959.916667            405\n",
       "132         133  1960.000000            417\n",
       "133         134  1960.083333            391\n",
       "134         135  1960.166667            419\n",
       "135         136  1960.250000            461\n",
       "136         137  1960.333333            472\n",
       "137         138  1960.416667            535\n",
       "138         139  1960.500000            622\n",
       "139         140  1960.583333            606\n",
       "140         141  1960.666667            508\n",
       "141         142  1960.750000            461\n",
       "142         143  1960.833333            390\n",
       "143         144  1960.916667            432"
      ]
     },
     "execution_count": 7,
     "metadata": {},
     "output_type": "execute_result"
    }
   ],
   "source": [
    "df.tail(13)"
   ]
  },
  {
   "cell_type": "code",
   "execution_count": 9,
   "metadata": {},
   "outputs": [
    {
     "data": {
      "text/plain": [
       "datetime.datetime"
      ]
     },
     "execution_count": 9,
     "metadata": {},
     "output_type": "execute_result"
    }
   ],
   "source": [
    "start = datetime.datetime.strptime(\"1949-01-01\", \"%Y-%m-%d\")\n",
    "type(start)"
   ]
  },
  {
   "cell_type": "code",
   "execution_count": 10,
   "metadata": {},
   "outputs": [
    {
     "name": "stdout",
     "output_type": "stream",
     "text": [
      "1949-01-01 00:00:00\n"
     ]
    }
   ],
   "source": [
    "print(start)"
   ]
  },
  {
   "cell_type": "code",
   "execution_count": 12,
   "metadata": {},
   "outputs": [
    {
     "data": {
      "text/plain": [
       "144"
      ]
     },
     "execution_count": 12,
     "metadata": {},
     "output_type": "execute_result"
    }
   ],
   "source": [
    "len(df)"
   ]
  },
  {
   "cell_type": "code",
   "execution_count": 13,
   "metadata": {
    "collapsed": true
   },
   "outputs": [],
   "source": [
    "date_list = [start + relativedelta(months=x) for x in range(0,df.shape[0])]\n"
   ]
  },
  {
   "cell_type": "code",
   "execution_count": 15,
   "metadata": {},
   "outputs": [
    {
     "name": "stdout",
     "output_type": "stream",
     "text": [
      "[datetime.datetime(1949, 1, 1, 0, 0), datetime.datetime(1949, 2, 1, 0, 0), datetime.datetime(1949, 3, 1, 0, 0), datetime.datetime(1949, 4, 1, 0, 0)]\n"
     ]
    }
   ],
   "source": [
    "print(date_list[0:4])"
   ]
  },
  {
   "cell_type": "code",
   "execution_count": 21,
   "metadata": {},
   "outputs": [
    {
     "name": "stdout",
     "output_type": "stream",
     "text": [
      "0\n",
      "1\n",
      "2\n",
      "3\n",
      "4\n",
      "5\n",
      "6\n",
      "7\n",
      "8\n",
      "9\n",
      "10\n",
      "11\n",
      "12\n",
      "13\n",
      "14\n",
      "15\n",
      "16\n",
      "17\n",
      "18\n",
      "19\n",
      "20\n",
      "21\n",
      "22\n",
      "23\n",
      "24\n",
      "25\n",
      "26\n",
      "27\n",
      "28\n",
      "29\n",
      "30\n",
      "31\n",
      "32\n",
      "33\n",
      "34\n",
      "35\n",
      "36\n",
      "37\n",
      "38\n",
      "39\n",
      "40\n",
      "41\n",
      "42\n",
      "43\n",
      "44\n",
      "45\n",
      "46\n",
      "47\n",
      "48\n",
      "49\n",
      "50\n",
      "51\n",
      "52\n",
      "53\n",
      "54\n",
      "55\n",
      "56\n",
      "57\n",
      "58\n",
      "59\n",
      "60\n",
      "61\n",
      "62\n",
      "63\n",
      "64\n",
      "65\n",
      "66\n",
      "67\n",
      "68\n",
      "69\n",
      "70\n",
      "71\n",
      "72\n",
      "73\n",
      "74\n",
      "75\n",
      "76\n",
      "77\n",
      "78\n",
      "79\n",
      "80\n",
      "81\n",
      "82\n",
      "83\n",
      "84\n",
      "85\n",
      "86\n",
      "87\n",
      "88\n",
      "89\n",
      "90\n",
      "91\n",
      "92\n",
      "93\n",
      "94\n",
      "95\n",
      "96\n",
      "97\n",
      "98\n",
      "99\n",
      "100\n",
      "101\n",
      "102\n",
      "103\n",
      "104\n",
      "105\n",
      "106\n",
      "107\n",
      "108\n",
      "109\n",
      "110\n",
      "111\n",
      "112\n",
      "113\n",
      "114\n",
      "115\n",
      "116\n",
      "117\n",
      "118\n",
      "119\n",
      "120\n",
      "121\n",
      "122\n",
      "123\n",
      "124\n",
      "125\n",
      "126\n",
      "127\n",
      "128\n",
      "129\n",
      "130\n",
      "131\n",
      "132\n",
      "133\n",
      "134\n",
      "135\n",
      "136\n",
      "137\n",
      "138\n",
      "139\n",
      "140\n",
      "141\n",
      "142\n",
      "143\n"
     ]
    }
   ],
   "source": [
    "for x in range(0,144):\n",
    "    print(x)"
   ]
  },
  {
   "cell_type": "code",
   "execution_count": 19,
   "metadata": {
    "collapsed": true
   },
   "outputs": [],
   "source": [
    "date_list = [start + relativedelta(months=x) for x in range(0,len(df))]\n"
   ]
  },
  {
   "cell_type": "code",
   "execution_count": 22,
   "metadata": {},
   "outputs": [
    {
     "data": {
      "text/plain": [
       "[datetime.datetime(1960, 9, 1, 0, 0),\n",
       " datetime.datetime(1960, 10, 1, 0, 0),\n",
       " datetime.datetime(1960, 11, 1, 0, 0),\n",
       " datetime.datetime(1960, 12, 1, 0, 0)]"
      ]
     },
     "execution_count": 22,
     "metadata": {},
     "output_type": "execute_result"
    }
   ],
   "source": [
    "date_list[140:144]"
   ]
  },
  {
   "cell_type": "code",
   "execution_count": 17,
   "metadata": {
    "collapsed": true
   },
   "outputs": [],
   "source": [
    "df['index'] =date_list\n",
    "df.set_index(['index'], inplace=True)\n",
    "df.index.name=None"
   ]
  },
  {
   "cell_type": "code",
   "execution_count": 23,
   "metadata": {},
   "outputs": [
    {
     "data": {
      "text/html": [
       "<div>\n",
       "<style>\n",
       "    .dataframe thead tr:only-child th {\n",
       "        text-align: right;\n",
       "    }\n",
       "\n",
       "    .dataframe thead th {\n",
       "        text-align: left;\n",
       "    }\n",
       "\n",
       "    .dataframe tbody tr th {\n",
       "        vertical-align: top;\n",
       "    }\n",
       "</style>\n",
       "<table border=\"1\" class=\"dataframe\">\n",
       "  <thead>\n",
       "    <tr style=\"text-align: right;\">\n",
       "      <th></th>\n",
       "      <th>AirPassengers</th>\n",
       "    </tr>\n",
       "  </thead>\n",
       "  <tbody>\n",
       "    <tr>\n",
       "      <th>1949-01-01</th>\n",
       "      <td>112</td>\n",
       "    </tr>\n",
       "    <tr>\n",
       "      <th>1949-02-01</th>\n",
       "      <td>118</td>\n",
       "    </tr>\n",
       "    <tr>\n",
       "      <th>1949-03-01</th>\n",
       "      <td>132</td>\n",
       "    </tr>\n",
       "    <tr>\n",
       "      <th>1949-04-01</th>\n",
       "      <td>129</td>\n",
       "    </tr>\n",
       "    <tr>\n",
       "      <th>1949-05-01</th>\n",
       "      <td>121</td>\n",
       "    </tr>\n",
       "  </tbody>\n",
       "</table>\n",
       "</div>"
      ],
      "text/plain": [
       "            AirPassengers\n",
       "1949-01-01            112\n",
       "1949-02-01            118\n",
       "1949-03-01            132\n",
       "1949-04-01            129\n",
       "1949-05-01            121"
      ]
     },
     "execution_count": 23,
     "metadata": {},
     "output_type": "execute_result"
    }
   ],
   "source": [
    "del df['Unnamed: 0']\n",
    "del df['time']\n",
    "df.head()"
   ]
  },
  {
   "cell_type": "code",
   "execution_count": 24,
   "metadata": {},
   "outputs": [
    {
     "data": {
      "text/html": [
       "<div>\n",
       "<style>\n",
       "    .dataframe thead tr:only-child th {\n",
       "        text-align: right;\n",
       "    }\n",
       "\n",
       "    .dataframe thead th {\n",
       "        text-align: left;\n",
       "    }\n",
       "\n",
       "    .dataframe tbody tr th {\n",
       "        vertical-align: top;\n",
       "    }\n",
       "</style>\n",
       "<table border=\"1\" class=\"dataframe\">\n",
       "  <thead>\n",
       "    <tr style=\"text-align: right;\">\n",
       "      <th></th>\n",
       "      <th>AirPassengers</th>\n",
       "    </tr>\n",
       "  </thead>\n",
       "  <tbody>\n",
       "    <tr>\n",
       "      <th>1960-08-01</th>\n",
       "      <td>606</td>\n",
       "    </tr>\n",
       "    <tr>\n",
       "      <th>1960-09-01</th>\n",
       "      <td>508</td>\n",
       "    </tr>\n",
       "    <tr>\n",
       "      <th>1960-10-01</th>\n",
       "      <td>461</td>\n",
       "    </tr>\n",
       "    <tr>\n",
       "      <th>1960-11-01</th>\n",
       "      <td>390</td>\n",
       "    </tr>\n",
       "    <tr>\n",
       "      <th>1960-12-01</th>\n",
       "      <td>432</td>\n",
       "    </tr>\n",
       "  </tbody>\n",
       "</table>\n",
       "</div>"
      ],
      "text/plain": [
       "            AirPassengers\n",
       "1960-08-01            606\n",
       "1960-09-01            508\n",
       "1960-10-01            461\n",
       "1960-11-01            390\n",
       "1960-12-01            432"
      ]
     },
     "execution_count": 24,
     "metadata": {},
     "output_type": "execute_result"
    }
   ],
   "source": [
    "df.tail()"
   ]
  },
  {
   "cell_type": "code",
   "execution_count": 25,
   "metadata": {
    "collapsed": true
   },
   "outputs": [],
   "source": [
    "df['AirPassengers'] = df.AirPassengers.apply(lambda x: int(x)*1000)\n"
   ]
  },
  {
   "cell_type": "code",
   "execution_count": 26,
   "metadata": {},
   "outputs": [
    {
     "data": {
      "text/html": [
       "<div>\n",
       "<style>\n",
       "    .dataframe thead tr:only-child th {\n",
       "        text-align: right;\n",
       "    }\n",
       "\n",
       "    .dataframe thead th {\n",
       "        text-align: left;\n",
       "    }\n",
       "\n",
       "    .dataframe tbody tr th {\n",
       "        vertical-align: top;\n",
       "    }\n",
       "</style>\n",
       "<table border=\"1\" class=\"dataframe\">\n",
       "  <thead>\n",
       "    <tr style=\"text-align: right;\">\n",
       "      <th></th>\n",
       "      <th>AirPassengers</th>\n",
       "    </tr>\n",
       "  </thead>\n",
       "  <tbody>\n",
       "    <tr>\n",
       "      <th>1949-01-01</th>\n",
       "      <td>112000</td>\n",
       "    </tr>\n",
       "    <tr>\n",
       "      <th>1949-02-01</th>\n",
       "      <td>118000</td>\n",
       "    </tr>\n",
       "    <tr>\n",
       "      <th>1949-03-01</th>\n",
       "      <td>132000</td>\n",
       "    </tr>\n",
       "    <tr>\n",
       "      <th>1949-04-01</th>\n",
       "      <td>129000</td>\n",
       "    </tr>\n",
       "    <tr>\n",
       "      <th>1949-05-01</th>\n",
       "      <td>121000</td>\n",
       "    </tr>\n",
       "  </tbody>\n",
       "</table>\n",
       "</div>"
      ],
      "text/plain": [
       "            AirPassengers\n",
       "1949-01-01         112000\n",
       "1949-02-01         118000\n",
       "1949-03-01         132000\n",
       "1949-04-01         129000\n",
       "1949-05-01         121000"
      ]
     },
     "execution_count": 26,
     "metadata": {},
     "output_type": "execute_result"
    }
   ],
   "source": [
    "df.head()"
   ]
  },
  {
   "cell_type": "code",
   "execution_count": 27,
   "metadata": {},
   "outputs": [
    {
     "data": {
      "image/png": "[encoded data removed]",
      "text/plain": [
       "<matplotlib.figure.Figure at 0x24046fe90f0>"
      ]
     },
     "metadata": {},
     "output_type": "display_data"
    }
   ],
   "source": [
    "df.AirPassengers.plot(figsize=(12,8), title= 'Monthly Passengers', fontsize=14)\n",
    "plt.savefig('month_ridership.png', bbox_inches='tight')"
   ]
  },
  {
   "cell_type": "code",
   "execution_count": 28,
   "metadata": {},
   "outputs": [
    {
     "data": {
      "text/plain": [
       "<matplotlib.figure.Figure at 0x240490cdf28>"
      ]
     },
     "metadata": {},
     "output_type": "display_data"
    },
    {
     "data": {
      "image/png": "[encoded data removed]",
      "text/plain": [
       "<matplotlib.figure.Figure at 0x24049049748>"
      ]
     },
     "metadata": {},
     "output_type": "display_data"
    }
   ],
   "source": [
    "decomposition = seasonal_decompose(df.AirPassengers, freq=12)  \n",
    "fig = plt.figure()  \n",
    "fig = decomposition.plot()  \n",
    "fig.set_size_inches(15, 8)"
   ]
  },
  {
   "cell_type": "code",
   "execution_count": 29,
   "metadata": {},
   "outputs": [
    {
     "name": "stdout",
     "output_type": "stream",
     "text": [
      "range(0, 2)\n"
     ]
    }
   ],
   "source": [
    "# Define the p, d and q parameters to take any value between 0 and 2\n",
    "p = d = q = range(0, 2)\n",
    "print(p)"
   ]
  },
  {
   "cell_type": "code",
   "execution_count": 30,
   "metadata": {
    "collapsed": true
   },
   "outputs": [],
   "source": [
    "import itertools\n",
    "import warnings"
   ]
  },
  {
   "cell_type": "code",
   "execution_count": 31,
   "metadata": {},
   "outputs": [
    {
     "name": "stdout",
     "output_type": "stream",
     "text": [
      "[(0, 0, 0), (0, 0, 1), (0, 1, 0), (0, 1, 1), (1, 0, 0), (1, 0, 1), (1, 1, 0), (1, 1, 1)]\n"
     ]
    }
   ],
   "source": [
    "# Generate all different combinations of p, q and q triplets\n",
    "pdq = list(itertools.product(p, d, q))\n",
    "print(pdq)"
   ]
  },
  {
   "cell_type": "code",
   "execution_count": 32,
   "metadata": {},
   "outputs": [
    {
     "name": "stdout",
     "output_type": "stream",
     "text": [
      "Examples of parameter combinations for Seasonal ARIMA...\n",
      "SARIMAX: (0, 0, 1) x (0, 0, 1, 12)\n",
      "SARIMAX: (0, 0, 1) x (0, 1, 0, 12)\n",
      "SARIMAX: (0, 1, 0) x (0, 1, 1, 12)\n",
      "SARIMAX: (0, 1, 0) x (1, 0, 0, 12)\n"
     ]
    }
   ],
   "source": [
    "# Generate all different combinations of seasonal p, q and q triplets\n",
    "seasonal_pdq = [(x[0], x[1], x[2], 12) for x in list(itertools.product(p, d, q))]\n",
    "\n",
    "print('Examples of parameter combinations for Seasonal ARIMA...')\n",
    "print('SARIMAX: {} x {}'.format(pdq[1], seasonal_pdq[1]))\n",
    "print('SARIMAX: {} x {}'.format(pdq[1], seasonal_pdq[2]))\n",
    "print('SARIMAX: {} x {}'.format(pdq[2], seasonal_pdq[3]))\n",
    "print('SARIMAX: {} x {}'.format(pdq[2], seasonal_pdq[4]))"
   ]
  },
  {
   "cell_type": "code",
   "execution_count": 33,
   "metadata": {
    "collapsed": true
   },
   "outputs": [],
   "source": [
    "y=df\n"
   ]
  },
  {
   "cell_type": "code",
   "execution_count": 34,
   "metadata": {},
   "outputs": [
    {
     "name": "stdout",
     "output_type": "stream",
     "text": [
      "ARIMA(0, 0, 0)x(0, 0, 1, 12)12 - AIC:3618.0303990983703\n",
      "ARIMA(0, 0, 0)x(0, 1, 1, 12)12 - AIC:2824.743996368423\n",
      "ARIMA(0, 0, 0)x(1, 0, 0, 12)12 - AIC:2942.2733127230185\n",
      "ARIMA(0, 0, 0)x(1, 0, 1, 12)12 - AIC:2922.17815113314\n",
      "ARIMA(0, 0, 0)x(1, 1, 0, 12)12 - AIC:2767.105066400224\n",
      "ARIMA(0, 0, 0)x(1, 1, 1, 12)12 - AIC:2691.2333986436743\n",
      "ARIMA(0, 0, 1)x(0, 0, 0, 12)12 - AIC:3890.8167777778344\n",
      "ARIMA(0, 0, 1)x(0, 0, 1, 12)12 - AIC:3541.1171284719767\n",
      "ARIMA(0, 0, 1)x(0, 1, 0, 12)12 - AIC:3028.8377323188806\n",
      "ARIMA(0, 0, 1)x(0, 1, 1, 12)12 - AIC:2746.7797312913585\n",
      "ARIMA(0, 0, 1)x(1, 0, 0, 12)12 - AIC:3583.5236406200975\n",
      "ARIMA(0, 0, 1)x(1, 0, 1, 12)12 - AIC:3531.2937768979236\n",
      "ARIMA(0, 0, 1)x(1, 1, 0, 12)12 - AIC:2781.198675746604\n",
      "ARIMA(0, 0, 1)x(1, 1, 1, 12)12 - AIC:2720.702308820595\n",
      "ARIMA(0, 1, 0)x(0, 0, 1, 12)12 - AIC:3029.089945668332\n",
      "ARIMA(0, 1, 0)x(0, 1, 1, 12)12 - AIC:2568.2832251220993\n",
      "ARIMA(0, 1, 0)x(1, 0, 0, 12)12 - AIC:2841.3157814595106\n",
      "ARIMA(0, 1, 0)x(1, 0, 1, 12)12 - AIC:2815.4011044132576\n",
      "ARIMA(0, 1, 0)x(1, 1, 0, 12)12 - AIC:2588.533386513587\n",
      "ARIMA(0, 1, 0)x(1, 1, 1, 12)12 - AIC:2569.945327248374\n",
      "ARIMA(0, 1, 1)x(0, 0, 0, 12)12 - AIC:3327.5177587522303\n",
      "ARIMA(0, 1, 1)x(0, 0, 1, 12)12 - AIC:2984.7167061123273\n",
      "ARIMA(0, 1, 1)x(0, 1, 0, 12)12 - AIC:2789.1285421540424\n",
      "ARIMA(0, 1, 1)x(0, 1, 1, 12)12 - AIC:2537.0293659293957\n",
      "ARIMA(0, 1, 1)x(1, 0, 0, 12)12 - AIC:2984.4555708516423\n",
      "ARIMA(0, 1, 1)x(1, 0, 1, 12)12 - AIC:2939.460958374484\n",
      "ARIMA(0, 1, 1)x(1, 1, 0, 12)12 - AIC:2578.786235277444\n",
      "ARIMA(0, 1, 1)x(1, 1, 1, 12)12 - AIC:2537.771484229266\n",
      "ARIMA(1, 0, 0)x(0, 0, 0, 12)12 - AIC:3391.5248913820797\n",
      "ARIMA(1, 0, 0)x(0, 0, 1, 12)12 - AIC:3038.1420742813116\n",
      "ARIMA(1, 0, 0)x(0, 1, 0, 12)12 - AIC:2839.809192263449\n",
      "ARIMA(1, 0, 0)x(0, 1, 1, 12)12 - AIC:2588.503671751839\n",
      "ARIMA(1, 0, 0)x(1, 0, 0, 12)12 - AIC:2993.4630440139713\n",
      "ARIMA(1, 0, 0)x(1, 0, 1, 12)12 - AIC:2995.049216326953\n",
      "ARIMA(1, 0, 0)x(1, 1, 0, 12)12 - AIC:2588.246328431529\n",
      "ARIMA(1, 0, 0)x(1, 1, 1, 12)12 - AIC:2592.80110502724\n",
      "ARIMA(1, 0, 1)x(0, 0, 0, 12)12 - AIC:3352.035013362148\n",
      "ARIMA(1, 0, 1)x(0, 0, 1, 12)12 - AIC:3006.549336661891\n",
      "ARIMA(1, 0, 1)x(0, 1, 0, 12)12 - AIC:2810.642372489451\n",
      "ARIMA(1, 0, 1)x(0, 1, 1, 12)12 - AIC:2559.5840319488525\n",
      "ARIMA(1, 0, 1)x(1, 0, 0, 12)12 - AIC:2981.2250436795084\n",
      "ARIMA(1, 0, 1)x(1, 0, 1, 12)12 - AIC:2959.3142304724843\n",
      "ARIMA(1, 0, 1)x(1, 1, 0, 12)12 - AIC:2579.8245645892216\n",
      "ARIMA(1, 0, 1)x(1, 1, 1, 12)12 - AIC:2563.139225892575\n",
      "ARIMA(1, 1, 0)x(0, 0, 0, 12)12 - AIC:3354.7462930846423\n",
      "ARIMA(1, 1, 0)x(0, 0, 1, 12)12 - AIC:3006.7029976360013\n",
      "ARIMA(1, 1, 0)x(0, 1, 0, 12)12 - AIC:2809.3844175191666\n",
      "ARIMA(1, 1, 0)x(0, 1, 1, 12)12 - AIC:2558.484602766444\n",
      "ARIMA(1, 1, 0)x(1, 0, 0, 12)12 - AIC:2959.885810636959\n",
      "ARIMA(1, 1, 0)x(1, 0, 1, 12)12 - AIC:2960.7127097642824\n",
      "ARIMA(1, 1, 0)x(1, 1, 0, 12)12 - AIC:2557.9459070926982\n",
      "ARIMA(1, 1, 0)x(1, 1, 1, 12)12 - AIC:2559.2741664585046\n",
      "ARIMA(1, 1, 1)x(0, 0, 0, 12)12 - AIC:3326.328551170047\n",
      "ARIMA(1, 1, 1)x(0, 0, 1, 12)12 - AIC:2985.8685312192615\n",
      "ARIMA(1, 1, 1)x(0, 1, 0, 12)12 - AIC:2790.767714996711\n",
      "ARIMA(1, 1, 1)x(0, 1, 1, 12)12 - AIC:2538.8206355415427\n",
      "ARIMA(1, 1, 1)x(1, 0, 0, 12)12 - AIC:2963.2789505804367\n",
      "ARIMA(1, 1, 1)x(1, 0, 1, 12)12 - AIC:2941.243698474832\n",
      "ARIMA(1, 1, 1)x(1, 1, 0, 12)12 - AIC:2559.8258191422447\n",
      "ARIMA(1, 1, 1)x(1, 1, 1, 12)12 - AIC:2539.712354465302\n"
     ]
    }
   ],
   "source": [
    "warnings.filterwarnings(\"ignore\") # specify to ignore warning messages\n",
    "\n",
    "for param in pdq:\n",
    "    for param_seasonal in seasonal_pdq:\n",
    "        try:\n",
    "            mod = sm.tsa.statespace.SARIMAX(y,\n",
    "                                            order=param,\n",
    "                                            seasonal_order=param_seasonal,\n",
    "                                            enforce_stationarity=False,\n",
    "                                            enforce_invertibility=False)\n",
    "\n",
    "            results = mod.fit()\n",
    "\n",
    "            print('ARIMA{}x{}12 - AIC:{}'.format(param, param_seasonal, results.aic))\n",
    "        except:\n",
    "            continue"
   ]
  },
  {
   "cell_type": "code",
   "execution_count": 35,
   "metadata": {
    "collapsed": true
   },
   "outputs": [],
   "source": [
    "warnings.filterwarnings(\"ignore\") # specify to ignore warning messages\n",
    "c3=[]\n",
    "for param in pdq:\n",
    "    for param_seasonal in seasonal_pdq:\n",
    "        try:\n",
    "            mod = sm.tsa.statespace.SARIMAX(y,\n",
    "                                            order=param,\n",
    "                                            seasonal_order=param_seasonal,\n",
    "                                            enforce_stationarity=False,\n",
    "                                            enforce_invertibility=False)\n",
    "\n",
    "            results = mod.fit()\n",
    "\n",
    "            c3.append( results.aic)\n",
    "        except:\n",
    "            continue"
   ]
  },
  {
   "cell_type": "code",
   "execution_count": 36,
   "metadata": {},
   "outputs": [
    {
     "data": {
      "text/plain": [
       "[3618.0303990983703,\n",
       " 2824.7439963684228,\n",
       " 2942.2733127230185,\n",
       " 2922.1781511331401,\n",
       " 2767.1050664002241,\n",
       " 2691.2333986436743,\n",
       " 3890.8167777778344,\n",
       " 3541.1171284719767,\n",
       " 3028.8377323188806,\n",
       " 2746.7797312913585,\n",
       " 3583.5236406200975,\n",
       " 3531.2937768979236,\n",
       " 2781.1986757466038,\n",
       " 2720.7023088205951,\n",
       " 3029.0899456683319,\n",
       " 2568.2832251220993,\n",
       " 2841.3157814595106,\n",
       " 2815.4011044132576,\n",
       " 2588.5333865135872,\n",
       " 2569.9453272483738,\n",
       " 3327.5177587522303,\n",
       " 2984.7167061123273,\n",
       " 2789.1285421540424,\n",
       " 2537.0293659293957,\n",
       " 2984.4555708516423,\n",
       " 2939.4609583744841,\n",
       " 2578.7862352774441,\n",
       " 2537.7714842292662,\n",
       " 3391.5248913820797,\n",
       " 3038.1420742813116,\n",
       " 2839.8091922634489,\n",
       " 2588.5036717518392,\n",
       " 2993.4630440139713,\n",
       " 2995.0492163269528,\n",
       " 2588.246328431529,\n",
       " 2592.8011050272398,\n",
       " 3352.0350133621482,\n",
       " 3006.5493366618912,\n",
       " 2810.6423724894512,\n",
       " 2559.5840319488525,\n",
       " 2981.2250436795084,\n",
       " 2959.3142304724843,\n",
       " 2579.8245645892216,\n",
       " 2563.1392258925748,\n",
       " 3354.7462930846423,\n",
       " 3006.7029976360013,\n",
       " 2809.3844175191666,\n",
       " 2558.4846027664439,\n",
       " 2959.8858106369589,\n",
       " 2960.7127097642824,\n",
       " 2557.9459070926982,\n",
       " 2559.2741664585046,\n",
       " 3326.3285511700469,\n",
       " 2985.8685312192615,\n",
       " 2790.7677149967112,\n",
       " 2538.8206355415427,\n",
       " 2963.2789505804367,\n",
       " 2941.2436984748319,\n",
       " 2559.8258191422447,\n",
       " 2539.7123544653018]"
      ]
     },
     "execution_count": 36,
     "metadata": {},
     "output_type": "execute_result"
    }
   ],
   "source": [
    "c3"
   ]
  },
  {
   "cell_type": "code",
   "execution_count": 37,
   "metadata": {
    "collapsed": true
   },
   "outputs": [],
   "source": [
    "import numpy as np\n",
    "index_min = np.argmin(c3)"
   ]
  },
  {
   "cell_type": "code",
   "execution_count": 39,
   "metadata": {},
   "outputs": [
    {
     "data": {
      "text/plain": [
       "2537.0293659293957"
      ]
     },
     "execution_count": 39,
     "metadata": {},
     "output_type": "execute_result"
    }
   ],
   "source": [
    "np.min(c3)"
   ]
  },
  {
   "cell_type": "code",
   "execution_count": 38,
   "metadata": {},
   "outputs": [
    {
     "data": {
      "text/plain": [
       "23"
      ]
     },
     "execution_count": 38,
     "metadata": {},
     "output_type": "execute_result"
    }
   ],
   "source": [
    "index_min"
   ]
  },
  {
   "cell_type": "code",
   "execution_count": 40,
   "metadata": {},
   "outputs": [
    {
     "data": {
      "text/plain": [
       "2537.0293659293957"
      ]
     },
     "execution_count": 40,
     "metadata": {},
     "output_type": "execute_result"
    }
   ],
   "source": [
    "c3[index_min]"
   ]
  },
  {
   "cell_type": "code",
   "execution_count": 44,
   "metadata": {},
   "outputs": [
    {
     "name": "stdout",
     "output_type": "stream",
     "text": [
      "ARIMA(0, 0, 0)x(0, 0, 1, 12)12 - AIC:3618.0303990983703\n",
      "ARIMA(0, 0, 0)x(0, 1, 1, 12)12 - AIC:2824.743996368423\n",
      "ARIMA(0, 0, 0)x(1, 0, 0, 12)12 - AIC:2942.2733127230185\n",
      "ARIMA(0, 0, 0)x(1, 0, 1, 12)12 - AIC:2922.17815113314\n",
      "ARIMA(0, 0, 0)x(1, 1, 0, 12)12 - AIC:2767.105066400224\n",
      "ARIMA(0, 0, 0)x(1, 1, 1, 12)12 - AIC:2691.2333986436743\n",
      "ARIMA(0, 0, 1)x(0, 0, 0, 12)12 - AIC:3890.8167777778344\n",
      "ARIMA(0, 0, 1)x(0, 0, 1, 12)12 - AIC:3541.1171284719767\n",
      "ARIMA(0, 0, 1)x(0, 1, 0, 12)12 - AIC:3028.8377323188806\n",
      "ARIMA(0, 0, 1)x(0, 1, 1, 12)12 - AIC:2746.7797312913585\n",
      "ARIMA(0, 0, 1)x(1, 0, 0, 12)12 - AIC:3583.5236406200975\n",
      "ARIMA(0, 0, 1)x(1, 0, 1, 12)12 - AIC:3531.2937768979236\n",
      "ARIMA(0, 0, 1)x(1, 1, 0, 12)12 - AIC:2781.198675746604\n",
      "ARIMA(0, 0, 1)x(1, 1, 1, 12)12 - AIC:2720.702308820595\n",
      "ARIMA(0, 1, 0)x(0, 0, 1, 12)12 - AIC:3029.089945668332\n",
      "ARIMA(0, 1, 0)x(0, 1, 1, 12)12 - AIC:2568.2832251220993\n",
      "ARIMA(0, 1, 0)x(1, 0, 0, 12)12 - AIC:2841.3157814595106\n",
      "ARIMA(0, 1, 0)x(1, 0, 1, 12)12 - AIC:2815.4011044132576\n",
      "ARIMA(0, 1, 0)x(1, 1, 0, 12)12 - AIC:2588.533386513587\n",
      "ARIMA(0, 1, 0)x(1, 1, 1, 12)12 - AIC:2569.945327248374\n",
      "ARIMA(0, 1, 1)x(0, 0, 0, 12)12 - AIC:3327.5177587522303\n",
      "ARIMA(0, 1, 1)x(0, 0, 1, 12)12 - AIC:2984.7167061123273\n",
      "ARIMA(0, 1, 1)x(0, 1, 0, 12)12 - AIC:2789.1285421540424\n",
      "ARIMA(0, 1, 1)x(0, 1, 1, 12)12 - AIC:2537.0293659293957\n",
      "ARIMA(0, 1, 1)x(1, 0, 0, 12)12 - AIC:2984.4555708516423\n",
      "ARIMA(0, 1, 1)x(1, 0, 1, 12)12 - AIC:2939.460958374484\n",
      "ARIMA(0, 1, 1)x(1, 1, 0, 12)12 - AIC:2578.786235277444\n",
      "ARIMA(0, 1, 1)x(1, 1, 1, 12)12 - AIC:2537.771484229266\n",
      "ARIMA(1, 0, 0)x(0, 0, 0, 12)12 - AIC:3391.5248913820797\n",
      "ARIMA(1, 0, 0)x(0, 0, 1, 12)12 - AIC:3038.1420742813116\n",
      "ARIMA(1, 0, 0)x(0, 1, 0, 12)12 - AIC:2839.809192263449\n",
      "ARIMA(1, 0, 0)x(0, 1, 1, 12)12 - AIC:2588.503671751839\n",
      "ARIMA(1, 0, 0)x(1, 0, 0, 12)12 - AIC:2993.4630440139713\n",
      "ARIMA(1, 0, 0)x(1, 0, 1, 12)12 - AIC:2995.049216326953\n",
      "ARIMA(1, 0, 0)x(1, 1, 0, 12)12 - AIC:2588.246328431529\n",
      "ARIMA(1, 0, 0)x(1, 1, 1, 12)12 - AIC:2592.80110502724\n",
      "ARIMA(1, 0, 1)x(0, 0, 0, 12)12 - AIC:3352.035013362148\n",
      "ARIMA(1, 0, 1)x(0, 0, 1, 12)12 - AIC:3006.549336661891\n",
      "ARIMA(1, 0, 1)x(0, 1, 0, 12)12 - AIC:2810.642372489451\n",
      "ARIMA(1, 0, 1)x(0, 1, 1, 12)12 - AIC:2559.5840319488525\n",
      "ARIMA(1, 0, 1)x(1, 0, 0, 12)12 - AIC:2981.2250436795084\n",
      "ARIMA(1, 0, 1)x(1, 0, 1, 12)12 - AIC:2959.3142304724843\n",
      "ARIMA(1, 0, 1)x(1, 1, 0, 12)12 - AIC:2579.8245645892216\n",
      "ARIMA(1, 0, 1)x(1, 1, 1, 12)12 - AIC:2563.139225892575\n",
      "ARIMA(1, 1, 0)x(0, 0, 0, 12)12 - AIC:3354.7462930846423\n",
      "ARIMA(1, 1, 0)x(0, 0, 1, 12)12 - AIC:3006.7029976360013\n",
      "ARIMA(1, 1, 0)x(0, 1, 0, 12)12 - AIC:2809.3844175191666\n",
      "ARIMA(1, 1, 0)x(0, 1, 1, 12)12 - AIC:2558.484602766444\n",
      "ARIMA(1, 1, 0)x(1, 0, 0, 12)12 - AIC:2959.885810636959\n",
      "ARIMA(1, 1, 0)x(1, 0, 1, 12)12 - AIC:2960.7127097642824\n",
      "ARIMA(1, 1, 0)x(1, 1, 0, 12)12 - AIC:2557.9459070926982\n",
      "ARIMA(1, 1, 0)x(1, 1, 1, 12)12 - AIC:2559.2741664585046\n",
      "ARIMA(1, 1, 1)x(0, 0, 0, 12)12 - AIC:3326.328551170047\n",
      "ARIMA(1, 1, 1)x(0, 0, 1, 12)12 - AIC:2985.8685312192615\n",
      "ARIMA(1, 1, 1)x(0, 1, 0, 12)12 - AIC:2790.767714996711\n",
      "ARIMA(1, 1, 1)x(0, 1, 1, 12)12 - AIC:2538.8206355415427\n",
      "ARIMA(1, 1, 1)x(1, 0, 0, 12)12 - AIC:2963.2789505804367\n",
      "ARIMA(1, 1, 1)x(1, 0, 1, 12)12 - AIC:2941.243698474832\n",
      "ARIMA(1, 1, 1)x(1, 1, 0, 12)12 - AIC:2559.8258191422447\n",
      "ARIMA(1, 1, 1)x(1, 1, 1, 12)12 - AIC:2539.712354465302\n"
     ]
    }
   ],
   "source": [
    "\n",
    "warnings.filterwarnings(\"ignore\") # specify to ignore warning messages\n",
    "c4=[]\n",
    "for param in pdq:\n",
    "    for param_seasonal in seasonal_pdq:\n",
    "        try:\n",
    "            mod = sm.tsa.statespace.SARIMAX(y,\n",
    "                                            order=param,\n",
    "                                            seasonal_order=param_seasonal,\n",
    "                                            enforce_stationarity=False,\n",
    "                                            enforce_invertibility=False)\n",
    "\n",
    "            results = mod.fit()\n",
    "\n",
    "            print('ARIMA{}x{}12 - AIC:{}'.format(param, param_seasonal, results.aic))\n",
    "            c4.append('ARIMA{}x{}12 - AIC:{}'.format(param, param_seasonal, results.aic))\n",
    "        except:\n",
    "            continue"
   ]
  },
  {
   "cell_type": "code",
   "execution_count": 46,
   "metadata": {},
   "outputs": [
    {
     "data": {
      "text/plain": [
       "'ARIMA(0, 1, 1)x(0, 1, 1, 12)12 - AIC:2537.0293659293957'"
      ]
     },
     "execution_count": 46,
     "metadata": {},
     "output_type": "execute_result"
    }
   ],
   "source": [
    "c4[index_min]"
   ]
  },
  {
   "cell_type": "code",
   "execution_count": 48,
   "metadata": {},
   "outputs": [
    {
     "data": {
      "text/plain": [
       "'0, 1, 1'"
      ]
     },
     "execution_count": 48,
     "metadata": {},
     "output_type": "execute_result"
    }
   ],
   "source": [
    "\n",
    "order1=c4[index_min][6:13]\n",
    "order1"
   ]
  },
  {
   "cell_type": "code",
   "execution_count": 54,
   "metadata": {},
   "outputs": [
    {
     "data": {
      "text/plain": [
       "[0, 1, 1]"
      ]
     },
     "execution_count": 54,
     "metadata": {},
     "output_type": "execute_result"
    }
   ],
   "source": [
    "order1=[int(s) for s in order1.split(',')]\n",
    "order1"
   ]
  },
  {
   "cell_type": "code",
   "execution_count": 49,
   "metadata": {},
   "outputs": [
    {
     "data": {
      "text/plain": [
       "'0, 1, 1, 12'"
      ]
     },
     "execution_count": 49,
     "metadata": {},
     "output_type": "execute_result"
    }
   ],
   "source": [
    "\n",
    "seasonal_order1=c4[index_min][16:27]\n",
    "seasonal_order1"
   ]
  },
  {
   "cell_type": "code",
   "execution_count": 55,
   "metadata": {},
   "outputs": [
    {
     "data": {
      "text/plain": [
       "[0, 1, 1, 12]"
      ]
     },
     "execution_count": 55,
     "metadata": {},
     "output_type": "execute_result"
    }
   ],
   "source": [
    "seasonal_order1=[int(s) for s in seasonal_order1.split(',')]\n",
    "seasonal_order1"
   ]
  },
  {
   "cell_type": "code",
   "execution_count": 56,
   "metadata": {
    "collapsed": true
   },
   "outputs": [],
   "source": [
    "from statsmodels.tsa.x13 import x13_arima_select_order\n"
   ]
  },
  {
   "cell_type": "code",
   "execution_count": 57,
   "metadata": {},
   "outputs": [],
   "source": [
    "mod = sm.tsa.statespace.SARIMAX(df.AirPassengers, trend='n', order=order1, seasonal_order=seasonal_order1)\n"
   ]
  },
  {
   "cell_type": "code",
   "execution_count": 58,
   "metadata": {},
   "outputs": [
    {
     "name": "stdout",
     "output_type": "stream",
     "text": [
      "                                 Statespace Model Results                                 \n",
      "==========================================================================================\n",
      "Dep. Variable:                      AirPassengers   No. Observations:                  144\n",
      "Model:             SARIMAX(0, 1, 1)x(0, 1, 1, 12)   Log Likelihood               -1413.963\n",
      "Date:                            Wed, 13 Dec 2017   AIC                           2833.926\n",
      "Time:                                    14:05:20   BIC                           2842.835\n",
      "Sample:                                01-01-1949   HQIC                          2837.546\n",
      "                                     - 12-01-1960                                         \n",
      "Covariance Type:                              opg                                         \n",
      "==============================================================================\n",
      "                 coef    std err          z      P>|z|      [0.025      0.975]\n",
      "------------------------------------------------------------------------------\n",
      "ma.L1         -0.2174      0.054     -4.011      0.000      -0.324      -0.111\n",
      "ma.S.L12      -0.1069      0.094     -1.138      0.255      -0.291       0.077\n",
      "sigma2      1.424e+08   1.64e-10   8.67e+17      0.000    1.42e+08    1.42e+08\n",
      "===================================================================================\n",
      "Ljung-Box (Q):                       54.51   Jarque-Bera (JB):                10.78\n",
      "Prob(Q):                              0.06   Prob(JB):                         0.00\n",
      "Heteroskedasticity (H):               2.38   Skew:                             0.16\n",
      "Prob(H) (two-sided):                  0.00   Kurtosis:                         4.37\n",
      "===================================================================================\n",
      "\n",
      "Warnings:\n",
      "[1] Covariance matrix calculated using the outer product of gradients (complex-step).\n",
      "[2] Covariance matrix is singular or near-singular, with condition number 6.17e+33. Standard errors may be unstable.\n"
     ]
    }
   ],
   "source": [
    "results = mod.fit()\n",
    "print (results.summary())"
   ]
  },
  {
   "cell_type": "code",
   "execution_count": 61,
   "metadata": {},
   "outputs": [
    {
     "data": {
      "text/html": [
       "<div>\n",
       "<style>\n",
       "    .dataframe thead tr:only-child th {\n",
       "        text-align: right;\n",
       "    }\n",
       "\n",
       "    .dataframe thead th {\n",
       "        text-align: left;\n",
       "    }\n",
       "\n",
       "    .dataframe tbody tr th {\n",
       "        vertical-align: top;\n",
       "    }\n",
       "</style>\n",
       "<table border=\"1\" class=\"dataframe\">\n",
       "  <thead>\n",
       "    <tr style=\"text-align: right;\">\n",
       "      <th></th>\n",
       "      <th>AirPassengers</th>\n",
       "    </tr>\n",
       "  </thead>\n",
       "  <tbody>\n",
       "    <tr>\n",
       "      <th>1959-02-01</th>\n",
       "      <td>342000</td>\n",
       "    </tr>\n",
       "    <tr>\n",
       "      <th>1959-03-01</th>\n",
       "      <td>406000</td>\n",
       "    </tr>\n",
       "    <tr>\n",
       "      <th>1959-04-01</th>\n",
       "      <td>396000</td>\n",
       "    </tr>\n",
       "    <tr>\n",
       "      <th>1959-05-01</th>\n",
       "      <td>420000</td>\n",
       "    </tr>\n",
       "    <tr>\n",
       "      <th>1959-06-01</th>\n",
       "      <td>472000</td>\n",
       "    </tr>\n",
       "    <tr>\n",
       "      <th>1959-07-01</th>\n",
       "      <td>548000</td>\n",
       "    </tr>\n",
       "    <tr>\n",
       "      <th>1959-08-01</th>\n",
       "      <td>559000</td>\n",
       "    </tr>\n",
       "    <tr>\n",
       "      <th>1959-09-01</th>\n",
       "      <td>463000</td>\n",
       "    </tr>\n",
       "    <tr>\n",
       "      <th>1959-10-01</th>\n",
       "      <td>407000</td>\n",
       "    </tr>\n",
       "    <tr>\n",
       "      <th>1959-11-01</th>\n",
       "      <td>362000</td>\n",
       "    </tr>\n",
       "    <tr>\n",
       "      <th>1959-12-01</th>\n",
       "      <td>405000</td>\n",
       "    </tr>\n",
       "    <tr>\n",
       "      <th>1960-01-01</th>\n",
       "      <td>417000</td>\n",
       "    </tr>\n",
       "    <tr>\n",
       "      <th>1960-02-01</th>\n",
       "      <td>391000</td>\n",
       "    </tr>\n",
       "    <tr>\n",
       "      <th>1960-03-01</th>\n",
       "      <td>419000</td>\n",
       "    </tr>\n",
       "    <tr>\n",
       "      <th>1960-04-01</th>\n",
       "      <td>461000</td>\n",
       "    </tr>\n",
       "    <tr>\n",
       "      <th>1960-05-01</th>\n",
       "      <td>472000</td>\n",
       "    </tr>\n",
       "    <tr>\n",
       "      <th>1960-06-01</th>\n",
       "      <td>535000</td>\n",
       "    </tr>\n",
       "    <tr>\n",
       "      <th>1960-07-01</th>\n",
       "      <td>622000</td>\n",
       "    </tr>\n",
       "    <tr>\n",
       "      <th>1960-08-01</th>\n",
       "      <td>606000</td>\n",
       "    </tr>\n",
       "    <tr>\n",
       "      <th>1960-09-01</th>\n",
       "      <td>508000</td>\n",
       "    </tr>\n",
       "    <tr>\n",
       "      <th>1960-10-01</th>\n",
       "      <td>461000</td>\n",
       "    </tr>\n",
       "    <tr>\n",
       "      <th>1960-11-01</th>\n",
       "      <td>390000</td>\n",
       "    </tr>\n",
       "    <tr>\n",
       "      <th>1960-12-01</th>\n",
       "      <td>432000</td>\n",
       "    </tr>\n",
       "  </tbody>\n",
       "</table>\n",
       "</div>"
      ],
      "text/plain": [
       "            AirPassengers\n",
       "1959-02-01         342000\n",
       "1959-03-01         406000\n",
       "1959-04-01         396000\n",
       "1959-05-01         420000\n",
       "1959-06-01         472000\n",
       "1959-07-01         548000\n",
       "1959-08-01         559000\n",
       "1959-09-01         463000\n",
       "1959-10-01         407000\n",
       "1959-11-01         362000\n",
       "1959-12-01         405000\n",
       "1960-01-01         417000\n",
       "1960-02-01         391000\n",
       "1960-03-01         419000\n",
       "1960-04-01         461000\n",
       "1960-05-01         472000\n",
       "1960-06-01         535000\n",
       "1960-07-01         622000\n",
       "1960-08-01         606000\n",
       "1960-09-01         508000\n",
       "1960-10-01         461000\n",
       "1960-11-01         390000\n",
       "1960-12-01         432000"
      ]
     },
     "execution_count": 61,
     "metadata": {},
     "output_type": "execute_result"
    }
   ],
   "source": [
    "df[121:144]"
   ]
  },
  {
   "cell_type": "code",
   "execution_count": 60,
   "metadata": {},
   "outputs": [
    {
     "data": {
      "text/plain": [
       "1959-01-01    342813.657496\n",
       "1959-02-01    335196.848862\n",
       "1959-03-01    385520.267936\n",
       "1959-04-01    388242.084324\n",
       "1959-05-01    408431.187144\n",
       "1959-06-01    488809.426481\n",
       "1959-07-01    530228.286422\n",
       "1959-08-01    556730.003691\n",
       "1959-09-01    461737.123888\n",
       "1959-10-01    416548.365777\n",
       "1959-11-01    360902.880717\n",
       "1959-12-01    389240.307597\n",
       "1960-01-01    422597.141371\n",
       "1960-02-01    399888.534634\n",
       "1960-03-01    454900.145012\n",
       "1960-04-01    416449.467049\n",
       "1960-05-01    474259.995734\n",
       "1960-06-01    526557.563687\n",
       "1960-07-01    606873.955872\n",
       "1960-08-01    629882.608817\n",
       "1960-09-01    515108.700640\n",
       "1960-10-01    454595.480488\n",
       "1960-11-01    414268.710945\n",
       "1960-12-01    436615.191512\n",
       "1961-01-01    445967.930512\n",
       "Freq: MS, dtype: float64"
      ]
     },
     "execution_count": 60,
     "metadata": {},
     "output_type": "execute_result"
    }
   ],
   "source": [
    "results.predict(start=120,end=144)\n"
   ]
  },
  {
   "cell_type": "markdown",
   "metadata": {},
   "source": [
    "# hands on exercise"
   ]
  },
  {
   "cell_type": "code",
   "execution_count": 47,
   "metadata": {
    "collapsed": true
   },
   "outputs": [],
   "source": [
    "ts2=pd.read_csv('C:\\\\Users\\\\KOGENTIX\\\\Desktop\\\\trainingWeek2\\\\co2-ppm-mauna-loa-19651980.csv')"
   ]
  },
  {
   "cell_type": "code",
   "execution_count": null,
   "metadata": {
    "collapsed": true
   },
   "outputs": [],
   "source": []
  }
 ],
 "metadata": {
  "kernelspec": {
   "display_name": "Python 3",
   "language": "python",
   "name": "python3"
  },
  "language_info": {
   "codemirror_mode": {
    "name": "ipython",
    "version": 3
   },
   "file_extension": ".py",
   "mimetype": "text/x-python",
   "name": "python",
   "nbconvert_exporter": "python",
   "pygments_lexer": "ipython3",
   "version": "3.6.1"
  }
 },
 "nbformat": 4,
 "nbformat_minor": 2
}
