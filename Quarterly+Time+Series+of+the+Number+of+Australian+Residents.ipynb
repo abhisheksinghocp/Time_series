{
 "cells": [
  {
   "cell_type": "code",
   "execution_count": 1,
   "metadata": {
    "collapsed": true
   },
   "outputs": [],
   "source": [
    "%matplotlib inline\n",
    "import pandas as pd\n",
    "import numpy as np\n",
    "import matplotlib.pyplot as plt\n",
    "import datetime\n",
    "from dateutil.relativedelta import relativedelta\n",
    "import seaborn as sns\n",
    "import statsmodels.api as sm  \n",
    "from statsmodels.tsa.stattools import acf  \n",
    "from statsmodels.tsa.stattools import pacf\n",
    "from statsmodels.tsa.seasonal import seasonal_decompose"
   ]
  },
  {
   "cell_type": "markdown",
   "metadata": {},
   "source": [
    "   Data  Quarterly Time Series of the Number of Australian Residents\n",
    "    https://vincentarelbundock.github.io/Rdatasets/csv/datasets/austres.csv "
   ]
  },
  {
   "cell_type": "code",
   "execution_count": 2,
   "metadata": {
    "collapsed": false
   },
   "outputs": [],
   "source": [
    "df=pd.read_csv(\"https://vincentarelbundock.github.io/Rdatasets/csv/datasets/austres.csv \")"
   ]
  },
  {
   "cell_type": "code",
   "execution_count": 3,
   "metadata": {
    "collapsed": true
   },
   "outputs": [],
   "source": [
    "df=df.drop('Unnamed: 0',1)"
   ]
  },
  {
   "cell_type": "code",
   "execution_count": 4,
   "metadata": {
    "collapsed": false
   },
   "outputs": [
    {
     "data": {
      "text/html": [
       "<div>\n",
       "<table border=\"1\" class=\"dataframe\">\n",
       "  <thead>\n",
       "    <tr style=\"text-align: right;\">\n",
       "      <th></th>\n",
       "      <th>time</th>\n",
       "      <th>austres</th>\n",
       "    </tr>\n",
       "  </thead>\n",
       "  <tbody>\n",
       "    <tr>\n",
       "      <th>0</th>\n",
       "      <td>1971.25</td>\n",
       "      <td>13067.3</td>\n",
       "    </tr>\n",
       "    <tr>\n",
       "      <th>1</th>\n",
       "      <td>1971.50</td>\n",
       "      <td>13130.5</td>\n",
       "    </tr>\n",
       "    <tr>\n",
       "      <th>2</th>\n",
       "      <td>1971.75</td>\n",
       "      <td>13198.4</td>\n",
       "    </tr>\n",
       "    <tr>\n",
       "      <th>3</th>\n",
       "      <td>1972.00</td>\n",
       "      <td>13254.2</td>\n",
       "    </tr>\n",
       "    <tr>\n",
       "      <th>4</th>\n",
       "      <td>1972.25</td>\n",
       "      <td>13303.7</td>\n",
       "    </tr>\n",
       "  </tbody>\n",
       "</table>\n",
       "</div>"
      ],
      "text/plain": [
       "      time  austres\n",
       "0  1971.25  13067.3\n",
       "1  1971.50  13130.5\n",
       "2  1971.75  13198.4\n",
       "3  1972.00  13254.2\n",
       "4  1972.25  13303.7"
      ]
     },
     "execution_count": 4,
     "metadata": {},
     "output_type": "execute_result"
    }
   ],
   "source": [
    "df.head()"
   ]
  },
  {
   "cell_type": "code",
   "execution_count": 5,
   "metadata": {
    "collapsed": false
   },
   "outputs": [
    {
     "data": {
      "text/html": [
       "<div>\n",
       "<table border=\"1\" class=\"dataframe\">\n",
       "  <thead>\n",
       "    <tr style=\"text-align: right;\">\n",
       "      <th></th>\n",
       "      <th>time</th>\n",
       "      <th>austres</th>\n",
       "    </tr>\n",
       "  </thead>\n",
       "  <tbody>\n",
       "    <tr>\n",
       "      <th>84</th>\n",
       "      <td>1992.25</td>\n",
       "      <td>17482.6</td>\n",
       "    </tr>\n",
       "    <tr>\n",
       "      <th>85</th>\n",
       "      <td>1992.50</td>\n",
       "      <td>17526.0</td>\n",
       "    </tr>\n",
       "    <tr>\n",
       "      <th>86</th>\n",
       "      <td>1992.75</td>\n",
       "      <td>17568.7</td>\n",
       "    </tr>\n",
       "    <tr>\n",
       "      <th>87</th>\n",
       "      <td>1993.00</td>\n",
       "      <td>17627.1</td>\n",
       "    </tr>\n",
       "    <tr>\n",
       "      <th>88</th>\n",
       "      <td>1993.25</td>\n",
       "      <td>17661.5</td>\n",
       "    </tr>\n",
       "  </tbody>\n",
       "</table>\n",
       "</div>"
      ],
      "text/plain": [
       "       time  austres\n",
       "84  1992.25  17482.6\n",
       "85  1992.50  17526.0\n",
       "86  1992.75  17568.7\n",
       "87  1993.00  17627.1\n",
       "88  1993.25  17661.5"
      ]
     },
     "execution_count": 5,
     "metadata": {},
     "output_type": "execute_result"
    }
   ],
   "source": [
    "df.tail()"
   ]
  },
  {
   "cell_type": "code",
   "execution_count": 6,
   "metadata": {
    "collapsed": false
   },
   "outputs": [
    {
     "data": {
      "text/plain": [
       "89"
      ]
     },
     "execution_count": 6,
     "metadata": {},
     "output_type": "execute_result"
    }
   ],
   "source": [
    "len(df)"
   ]
  },
  {
   "cell_type": "code",
   "execution_count": 7,
   "metadata": {
    "collapsed": false
   },
   "outputs": [
    {
     "data": {
      "text/plain": [
       "89"
      ]
     },
     "execution_count": 7,
     "metadata": {},
     "output_type": "execute_result"
    }
   ],
   "source": [
    "df.shape[0]"
   ]
  },
  {
   "cell_type": "code",
   "execution_count": 8,
   "metadata": {
    "collapsed": false
   },
   "outputs": [
    {
     "name": "stdout",
     "output_type": "stream",
     "text": [
      "1971-03-31 00:00:00\n"
     ]
    }
   ],
   "source": [
    "start = datetime.datetime.strptime(\"1971-03-31\", \"%Y-%m-%d\")\n",
    "print(start)"
   ]
  },
  {
   "cell_type": "code",
   "execution_count": 9,
   "metadata": {
    "collapsed": false
   },
   "outputs": [],
   "source": [
    "#!pip install arrow"
   ]
  },
  {
   "cell_type": "code",
   "execution_count": 10,
   "metadata": {
    "collapsed": false
   },
   "outputs": [
    {
     "name": "stdout",
     "output_type": "stream",
     "text": [
      "1971-03-31 00:00:00\n"
     ]
    }
   ],
   "source": [
    "start = datetime.datetime.strptime(\"1971-03-31\", \"%Y-%m-%d\")\n",
    "print(start)"
   ]
  },
  {
   "cell_type": "code",
   "execution_count": 16,
   "metadata": {
    "collapsed": true
   },
   "outputs": [],
   "source": [
    "date_list = [start + relativedelta(months=x) for x in range(0,3*df.shape[0])]"
   ]
  },
  {
   "cell_type": "code",
   "execution_count": 17,
   "metadata": {
    "collapsed": false
   },
   "outputs": [
    {
     "data": {
      "text/plain": [
       "[datetime.datetime(1971, 3, 31, 0, 0),\n",
       " datetime.datetime(1971, 4, 30, 0, 0),\n",
       " datetime.datetime(1971, 5, 31, 0, 0),\n",
       " datetime.datetime(1971, 6, 30, 0, 0),\n",
       " datetime.datetime(1971, 7, 31, 0, 0),\n",
       " datetime.datetime(1971, 8, 31, 0, 0),\n",
       " datetime.datetime(1971, 9, 30, 0, 0),\n",
       " datetime.datetime(1971, 10, 31, 0, 0),\n",
       " datetime.datetime(1971, 11, 30, 0, 0),\n",
       " datetime.datetime(1971, 12, 31, 0, 0),\n",
       " datetime.datetime(1972, 1, 31, 0, 0),\n",
       " datetime.datetime(1972, 2, 29, 0, 0),\n",
       " datetime.datetime(1972, 3, 31, 0, 0),\n",
       " datetime.datetime(1972, 4, 30, 0, 0),\n",
       " datetime.datetime(1972, 5, 31, 0, 0),\n",
       " datetime.datetime(1972, 6, 30, 0, 0),\n",
       " datetime.datetime(1972, 7, 31, 0, 0),\n",
       " datetime.datetime(1972, 8, 31, 0, 0),\n",
       " datetime.datetime(1972, 9, 30, 0, 0),\n",
       " datetime.datetime(1972, 10, 31, 0, 0),\n",
       " datetime.datetime(1972, 11, 30, 0, 0),\n",
       " datetime.datetime(1972, 12, 31, 0, 0),\n",
       " datetime.datetime(1973, 1, 31, 0, 0),\n",
       " datetime.datetime(1973, 2, 28, 0, 0),\n",
       " datetime.datetime(1973, 3, 31, 0, 0),\n",
       " datetime.datetime(1973, 4, 30, 0, 0),\n",
       " datetime.datetime(1973, 5, 31, 0, 0),\n",
       " datetime.datetime(1973, 6, 30, 0, 0),\n",
       " datetime.datetime(1973, 7, 31, 0, 0),\n",
       " datetime.datetime(1973, 8, 31, 0, 0),\n",
       " datetime.datetime(1973, 9, 30, 0, 0),\n",
       " datetime.datetime(1973, 10, 31, 0, 0),\n",
       " datetime.datetime(1973, 11, 30, 0, 0),\n",
       " datetime.datetime(1973, 12, 31, 0, 0),\n",
       " datetime.datetime(1974, 1, 31, 0, 0),\n",
       " datetime.datetime(1974, 2, 28, 0, 0),\n",
       " datetime.datetime(1974, 3, 31, 0, 0),\n",
       " datetime.datetime(1974, 4, 30, 0, 0),\n",
       " datetime.datetime(1974, 5, 31, 0, 0),\n",
       " datetime.datetime(1974, 6, 30, 0, 0),\n",
       " datetime.datetime(1974, 7, 31, 0, 0),\n",
       " datetime.datetime(1974, 8, 31, 0, 0),\n",
       " datetime.datetime(1974, 9, 30, 0, 0),\n",
       " datetime.datetime(1974, 10, 31, 0, 0),\n",
       " datetime.datetime(1974, 11, 30, 0, 0),\n",
       " datetime.datetime(1974, 12, 31, 0, 0),\n",
       " datetime.datetime(1975, 1, 31, 0, 0),\n",
       " datetime.datetime(1975, 2, 28, 0, 0),\n",
       " datetime.datetime(1975, 3, 31, 0, 0),\n",
       " datetime.datetime(1975, 4, 30, 0, 0),\n",
       " datetime.datetime(1975, 5, 31, 0, 0),\n",
       " datetime.datetime(1975, 6, 30, 0, 0),\n",
       " datetime.datetime(1975, 7, 31, 0, 0),\n",
       " datetime.datetime(1975, 8, 31, 0, 0),\n",
       " datetime.datetime(1975, 9, 30, 0, 0),\n",
       " datetime.datetime(1975, 10, 31, 0, 0),\n",
       " datetime.datetime(1975, 11, 30, 0, 0),\n",
       " datetime.datetime(1975, 12, 31, 0, 0),\n",
       " datetime.datetime(1976, 1, 31, 0, 0),\n",
       " datetime.datetime(1976, 2, 29, 0, 0),\n",
       " datetime.datetime(1976, 3, 31, 0, 0),\n",
       " datetime.datetime(1976, 4, 30, 0, 0),\n",
       " datetime.datetime(1976, 5, 31, 0, 0),\n",
       " datetime.datetime(1976, 6, 30, 0, 0),\n",
       " datetime.datetime(1976, 7, 31, 0, 0),\n",
       " datetime.datetime(1976, 8, 31, 0, 0),\n",
       " datetime.datetime(1976, 9, 30, 0, 0),\n",
       " datetime.datetime(1976, 10, 31, 0, 0),\n",
       " datetime.datetime(1976, 11, 30, 0, 0),\n",
       " datetime.datetime(1976, 12, 31, 0, 0),\n",
       " datetime.datetime(1977, 1, 31, 0, 0),\n",
       " datetime.datetime(1977, 2, 28, 0, 0),\n",
       " datetime.datetime(1977, 3, 31, 0, 0),\n",
       " datetime.datetime(1977, 4, 30, 0, 0),\n",
       " datetime.datetime(1977, 5, 31, 0, 0),\n",
       " datetime.datetime(1977, 6, 30, 0, 0),\n",
       " datetime.datetime(1977, 7, 31, 0, 0),\n",
       " datetime.datetime(1977, 8, 31, 0, 0),\n",
       " datetime.datetime(1977, 9, 30, 0, 0),\n",
       " datetime.datetime(1977, 10, 31, 0, 0),\n",
       " datetime.datetime(1977, 11, 30, 0, 0),\n",
       " datetime.datetime(1977, 12, 31, 0, 0),\n",
       " datetime.datetime(1978, 1, 31, 0, 0),\n",
       " datetime.datetime(1978, 2, 28, 0, 0),\n",
       " datetime.datetime(1978, 3, 31, 0, 0),\n",
       " datetime.datetime(1978, 4, 30, 0, 0),\n",
       " datetime.datetime(1978, 5, 31, 0, 0),\n",
       " datetime.datetime(1978, 6, 30, 0, 0),\n",
       " datetime.datetime(1978, 7, 31, 0, 0),\n",
       " datetime.datetime(1978, 8, 31, 0, 0),\n",
       " datetime.datetime(1978, 9, 30, 0, 0),\n",
       " datetime.datetime(1978, 10, 31, 0, 0),\n",
       " datetime.datetime(1978, 11, 30, 0, 0),\n",
       " datetime.datetime(1978, 12, 31, 0, 0),\n",
       " datetime.datetime(1979, 1, 31, 0, 0),\n",
       " datetime.datetime(1979, 2, 28, 0, 0),\n",
       " datetime.datetime(1979, 3, 31, 0, 0),\n",
       " datetime.datetime(1979, 4, 30, 0, 0),\n",
       " datetime.datetime(1979, 5, 31, 0, 0),\n",
       " datetime.datetime(1979, 6, 30, 0, 0),\n",
       " datetime.datetime(1979, 7, 31, 0, 0),\n",
       " datetime.datetime(1979, 8, 31, 0, 0),\n",
       " datetime.datetime(1979, 9, 30, 0, 0),\n",
       " datetime.datetime(1979, 10, 31, 0, 0),\n",
       " datetime.datetime(1979, 11, 30, 0, 0),\n",
       " datetime.datetime(1979, 12, 31, 0, 0),\n",
       " datetime.datetime(1980, 1, 31, 0, 0),\n",
       " datetime.datetime(1980, 2, 29, 0, 0),\n",
       " datetime.datetime(1980, 3, 31, 0, 0),\n",
       " datetime.datetime(1980, 4, 30, 0, 0),\n",
       " datetime.datetime(1980, 5, 31, 0, 0),\n",
       " datetime.datetime(1980, 6, 30, 0, 0),\n",
       " datetime.datetime(1980, 7, 31, 0, 0),\n",
       " datetime.datetime(1980, 8, 31, 0, 0),\n",
       " datetime.datetime(1980, 9, 30, 0, 0),\n",
       " datetime.datetime(1980, 10, 31, 0, 0),\n",
       " datetime.datetime(1980, 11, 30, 0, 0),\n",
       " datetime.datetime(1980, 12, 31, 0, 0),\n",
       " datetime.datetime(1981, 1, 31, 0, 0),\n",
       " datetime.datetime(1981, 2, 28, 0, 0),\n",
       " datetime.datetime(1981, 3, 31, 0, 0),\n",
       " datetime.datetime(1981, 4, 30, 0, 0),\n",
       " datetime.datetime(1981, 5, 31, 0, 0),\n",
       " datetime.datetime(1981, 6, 30, 0, 0),\n",
       " datetime.datetime(1981, 7, 31, 0, 0),\n",
       " datetime.datetime(1981, 8, 31, 0, 0),\n",
       " datetime.datetime(1981, 9, 30, 0, 0),\n",
       " datetime.datetime(1981, 10, 31, 0, 0),\n",
       " datetime.datetime(1981, 11, 30, 0, 0),\n",
       " datetime.datetime(1981, 12, 31, 0, 0),\n",
       " datetime.datetime(1982, 1, 31, 0, 0),\n",
       " datetime.datetime(1982, 2, 28, 0, 0),\n",
       " datetime.datetime(1982, 3, 31, 0, 0),\n",
       " datetime.datetime(1982, 4, 30, 0, 0),\n",
       " datetime.datetime(1982, 5, 31, 0, 0),\n",
       " datetime.datetime(1982, 6, 30, 0, 0),\n",
       " datetime.datetime(1982, 7, 31, 0, 0),\n",
       " datetime.datetime(1982, 8, 31, 0, 0),\n",
       " datetime.datetime(1982, 9, 30, 0, 0),\n",
       " datetime.datetime(1982, 10, 31, 0, 0),\n",
       " datetime.datetime(1982, 11, 30, 0, 0),\n",
       " datetime.datetime(1982, 12, 31, 0, 0),\n",
       " datetime.datetime(1983, 1, 31, 0, 0),\n",
       " datetime.datetime(1983, 2, 28, 0, 0),\n",
       " datetime.datetime(1983, 3, 31, 0, 0),\n",
       " datetime.datetime(1983, 4, 30, 0, 0),\n",
       " datetime.datetime(1983, 5, 31, 0, 0),\n",
       " datetime.datetime(1983, 6, 30, 0, 0),\n",
       " datetime.datetime(1983, 7, 31, 0, 0),\n",
       " datetime.datetime(1983, 8, 31, 0, 0),\n",
       " datetime.datetime(1983, 9, 30, 0, 0),\n",
       " datetime.datetime(1983, 10, 31, 0, 0),\n",
       " datetime.datetime(1983, 11, 30, 0, 0),\n",
       " datetime.datetime(1983, 12, 31, 0, 0),\n",
       " datetime.datetime(1984, 1, 31, 0, 0),\n",
       " datetime.datetime(1984, 2, 29, 0, 0),\n",
       " datetime.datetime(1984, 3, 31, 0, 0),\n",
       " datetime.datetime(1984, 4, 30, 0, 0),\n",
       " datetime.datetime(1984, 5, 31, 0, 0),\n",
       " datetime.datetime(1984, 6, 30, 0, 0),\n",
       " datetime.datetime(1984, 7, 31, 0, 0),\n",
       " datetime.datetime(1984, 8, 31, 0, 0),\n",
       " datetime.datetime(1984, 9, 30, 0, 0),\n",
       " datetime.datetime(1984, 10, 31, 0, 0),\n",
       " datetime.datetime(1984, 11, 30, 0, 0),\n",
       " datetime.datetime(1984, 12, 31, 0, 0),\n",
       " datetime.datetime(1985, 1, 31, 0, 0),\n",
       " datetime.datetime(1985, 2, 28, 0, 0),\n",
       " datetime.datetime(1985, 3, 31, 0, 0),\n",
       " datetime.datetime(1985, 4, 30, 0, 0),\n",
       " datetime.datetime(1985, 5, 31, 0, 0),\n",
       " datetime.datetime(1985, 6, 30, 0, 0),\n",
       " datetime.datetime(1985, 7, 31, 0, 0),\n",
       " datetime.datetime(1985, 8, 31, 0, 0),\n",
       " datetime.datetime(1985, 9, 30, 0, 0),\n",
       " datetime.datetime(1985, 10, 31, 0, 0),\n",
       " datetime.datetime(1985, 11, 30, 0, 0),\n",
       " datetime.datetime(1985, 12, 31, 0, 0),\n",
       " datetime.datetime(1986, 1, 31, 0, 0),\n",
       " datetime.datetime(1986, 2, 28, 0, 0),\n",
       " datetime.datetime(1986, 3, 31, 0, 0),\n",
       " datetime.datetime(1986, 4, 30, 0, 0),\n",
       " datetime.datetime(1986, 5, 31, 0, 0),\n",
       " datetime.datetime(1986, 6, 30, 0, 0),\n",
       " datetime.datetime(1986, 7, 31, 0, 0),\n",
       " datetime.datetime(1986, 8, 31, 0, 0),\n",
       " datetime.datetime(1986, 9, 30, 0, 0),\n",
       " datetime.datetime(1986, 10, 31, 0, 0),\n",
       " datetime.datetime(1986, 11, 30, 0, 0),\n",
       " datetime.datetime(1986, 12, 31, 0, 0),\n",
       " datetime.datetime(1987, 1, 31, 0, 0),\n",
       " datetime.datetime(1987, 2, 28, 0, 0),\n",
       " datetime.datetime(1987, 3, 31, 0, 0),\n",
       " datetime.datetime(1987, 4, 30, 0, 0),\n",
       " datetime.datetime(1987, 5, 31, 0, 0),\n",
       " datetime.datetime(1987, 6, 30, 0, 0),\n",
       " datetime.datetime(1987, 7, 31, 0, 0),\n",
       " datetime.datetime(1987, 8, 31, 0, 0),\n",
       " datetime.datetime(1987, 9, 30, 0, 0),\n",
       " datetime.datetime(1987, 10, 31, 0, 0),\n",
       " datetime.datetime(1987, 11, 30, 0, 0),\n",
       " datetime.datetime(1987, 12, 31, 0, 0),\n",
       " datetime.datetime(1988, 1, 31, 0, 0),\n",
       " datetime.datetime(1988, 2, 29, 0, 0),\n",
       " datetime.datetime(1988, 3, 31, 0, 0),\n",
       " datetime.datetime(1988, 4, 30, 0, 0),\n",
       " datetime.datetime(1988, 5, 31, 0, 0),\n",
       " datetime.datetime(1988, 6, 30, 0, 0),\n",
       " datetime.datetime(1988, 7, 31, 0, 0),\n",
       " datetime.datetime(1988, 8, 31, 0, 0),\n",
       " datetime.datetime(1988, 9, 30, 0, 0),\n",
       " datetime.datetime(1988, 10, 31, 0, 0),\n",
       " datetime.datetime(1988, 11, 30, 0, 0),\n",
       " datetime.datetime(1988, 12, 31, 0, 0),\n",
       " datetime.datetime(1989, 1, 31, 0, 0),\n",
       " datetime.datetime(1989, 2, 28, 0, 0),\n",
       " datetime.datetime(1989, 3, 31, 0, 0),\n",
       " datetime.datetime(1989, 4, 30, 0, 0),\n",
       " datetime.datetime(1989, 5, 31, 0, 0),\n",
       " datetime.datetime(1989, 6, 30, 0, 0),\n",
       " datetime.datetime(1989, 7, 31, 0, 0),\n",
       " datetime.datetime(1989, 8, 31, 0, 0),\n",
       " datetime.datetime(1989, 9, 30, 0, 0),\n",
       " datetime.datetime(1989, 10, 31, 0, 0),\n",
       " datetime.datetime(1989, 11, 30, 0, 0),\n",
       " datetime.datetime(1989, 12, 31, 0, 0),\n",
       " datetime.datetime(1990, 1, 31, 0, 0),\n",
       " datetime.datetime(1990, 2, 28, 0, 0),\n",
       " datetime.datetime(1990, 3, 31, 0, 0),\n",
       " datetime.datetime(1990, 4, 30, 0, 0),\n",
       " datetime.datetime(1990, 5, 31, 0, 0),\n",
       " datetime.datetime(1990, 6, 30, 0, 0),\n",
       " datetime.datetime(1990, 7, 31, 0, 0),\n",
       " datetime.datetime(1990, 8, 31, 0, 0),\n",
       " datetime.datetime(1990, 9, 30, 0, 0),\n",
       " datetime.datetime(1990, 10, 31, 0, 0),\n",
       " datetime.datetime(1990, 11, 30, 0, 0),\n",
       " datetime.datetime(1990, 12, 31, 0, 0),\n",
       " datetime.datetime(1991, 1, 31, 0, 0),\n",
       " datetime.datetime(1991, 2, 28, 0, 0),\n",
       " datetime.datetime(1991, 3, 31, 0, 0),\n",
       " datetime.datetime(1991, 4, 30, 0, 0),\n",
       " datetime.datetime(1991, 5, 31, 0, 0),\n",
       " datetime.datetime(1991, 6, 30, 0, 0),\n",
       " datetime.datetime(1991, 7, 31, 0, 0),\n",
       " datetime.datetime(1991, 8, 31, 0, 0),\n",
       " datetime.datetime(1991, 9, 30, 0, 0),\n",
       " datetime.datetime(1991, 10, 31, 0, 0),\n",
       " datetime.datetime(1991, 11, 30, 0, 0),\n",
       " datetime.datetime(1991, 12, 31, 0, 0),\n",
       " datetime.datetime(1992, 1, 31, 0, 0),\n",
       " datetime.datetime(1992, 2, 29, 0, 0),\n",
       " datetime.datetime(1992, 3, 31, 0, 0),\n",
       " datetime.datetime(1992, 4, 30, 0, 0),\n",
       " datetime.datetime(1992, 5, 31, 0, 0),\n",
       " datetime.datetime(1992, 6, 30, 0, 0),\n",
       " datetime.datetime(1992, 7, 31, 0, 0),\n",
       " datetime.datetime(1992, 8, 31, 0, 0),\n",
       " datetime.datetime(1992, 9, 30, 0, 0),\n",
       " datetime.datetime(1992, 10, 31, 0, 0),\n",
       " datetime.datetime(1992, 11, 30, 0, 0),\n",
       " datetime.datetime(1992, 12, 31, 0, 0),\n",
       " datetime.datetime(1993, 1, 31, 0, 0),\n",
       " datetime.datetime(1993, 2, 28, 0, 0),\n",
       " datetime.datetime(1993, 3, 31, 0, 0),\n",
       " datetime.datetime(1993, 4, 30, 0, 0),\n",
       " datetime.datetime(1993, 5, 31, 0, 0)]"
      ]
     },
     "execution_count": 17,
     "metadata": {},
     "output_type": "execute_result"
    }
   ],
   "source": [
    "date_list"
   ]
  },
  {
   "cell_type": "code",
   "execution_count": 18,
   "metadata": {
    "collapsed": false
   },
   "outputs": [
    {
     "data": {
      "text/plain": [
       "267"
      ]
     },
     "execution_count": 18,
     "metadata": {},
     "output_type": "execute_result"
    }
   ],
   "source": [
    "len(date_list)"
   ]
  },
  {
   "cell_type": "code",
   "execution_count": 19,
   "metadata": {
    "collapsed": false
   },
   "outputs": [],
   "source": [
    "c2=[]\n",
    "for i in range(0,3*len(df),3):\n",
    "    c2.append(date_list[i])"
   ]
  },
  {
   "cell_type": "code",
   "execution_count": 20,
   "metadata": {
    "collapsed": false
   },
   "outputs": [
    {
     "data": {
      "text/plain": [
       "[datetime.datetime(1971, 3, 31, 0, 0),\n",
       " datetime.datetime(1971, 6, 30, 0, 0),\n",
       " datetime.datetime(1971, 9, 30, 0, 0),\n",
       " datetime.datetime(1971, 12, 31, 0, 0),\n",
       " datetime.datetime(1972, 3, 31, 0, 0),\n",
       " datetime.datetime(1972, 6, 30, 0, 0),\n",
       " datetime.datetime(1972, 9, 30, 0, 0),\n",
       " datetime.datetime(1972, 12, 31, 0, 0),\n",
       " datetime.datetime(1973, 3, 31, 0, 0),\n",
       " datetime.datetime(1973, 6, 30, 0, 0),\n",
       " datetime.datetime(1973, 9, 30, 0, 0),\n",
       " datetime.datetime(1973, 12, 31, 0, 0),\n",
       " datetime.datetime(1974, 3, 31, 0, 0),\n",
       " datetime.datetime(1974, 6, 30, 0, 0),\n",
       " datetime.datetime(1974, 9, 30, 0, 0),\n",
       " datetime.datetime(1974, 12, 31, 0, 0),\n",
       " datetime.datetime(1975, 3, 31, 0, 0),\n",
       " datetime.datetime(1975, 6, 30, 0, 0),\n",
       " datetime.datetime(1975, 9, 30, 0, 0),\n",
       " datetime.datetime(1975, 12, 31, 0, 0),\n",
       " datetime.datetime(1976, 3, 31, 0, 0),\n",
       " datetime.datetime(1976, 6, 30, 0, 0),\n",
       " datetime.datetime(1976, 9, 30, 0, 0),\n",
       " datetime.datetime(1976, 12, 31, 0, 0),\n",
       " datetime.datetime(1977, 3, 31, 0, 0),\n",
       " datetime.datetime(1977, 6, 30, 0, 0),\n",
       " datetime.datetime(1977, 9, 30, 0, 0),\n",
       " datetime.datetime(1977, 12, 31, 0, 0),\n",
       " datetime.datetime(1978, 3, 31, 0, 0),\n",
       " datetime.datetime(1978, 6, 30, 0, 0),\n",
       " datetime.datetime(1978, 9, 30, 0, 0),\n",
       " datetime.datetime(1978, 12, 31, 0, 0),\n",
       " datetime.datetime(1979, 3, 31, 0, 0),\n",
       " datetime.datetime(1979, 6, 30, 0, 0),\n",
       " datetime.datetime(1979, 9, 30, 0, 0),\n",
       " datetime.datetime(1979, 12, 31, 0, 0),\n",
       " datetime.datetime(1980, 3, 31, 0, 0),\n",
       " datetime.datetime(1980, 6, 30, 0, 0),\n",
       " datetime.datetime(1980, 9, 30, 0, 0),\n",
       " datetime.datetime(1980, 12, 31, 0, 0),\n",
       " datetime.datetime(1981, 3, 31, 0, 0),\n",
       " datetime.datetime(1981, 6, 30, 0, 0),\n",
       " datetime.datetime(1981, 9, 30, 0, 0),\n",
       " datetime.datetime(1981, 12, 31, 0, 0),\n",
       " datetime.datetime(1982, 3, 31, 0, 0),\n",
       " datetime.datetime(1982, 6, 30, 0, 0),\n",
       " datetime.datetime(1982, 9, 30, 0, 0),\n",
       " datetime.datetime(1982, 12, 31, 0, 0),\n",
       " datetime.datetime(1983, 3, 31, 0, 0),\n",
       " datetime.datetime(1983, 6, 30, 0, 0),\n",
       " datetime.datetime(1983, 9, 30, 0, 0),\n",
       " datetime.datetime(1983, 12, 31, 0, 0),\n",
       " datetime.datetime(1984, 3, 31, 0, 0),\n",
       " datetime.datetime(1984, 6, 30, 0, 0),\n",
       " datetime.datetime(1984, 9, 30, 0, 0),\n",
       " datetime.datetime(1984, 12, 31, 0, 0),\n",
       " datetime.datetime(1985, 3, 31, 0, 0),\n",
       " datetime.datetime(1985, 6, 30, 0, 0),\n",
       " datetime.datetime(1985, 9, 30, 0, 0),\n",
       " datetime.datetime(1985, 12, 31, 0, 0),\n",
       " datetime.datetime(1986, 3, 31, 0, 0),\n",
       " datetime.datetime(1986, 6, 30, 0, 0),\n",
       " datetime.datetime(1986, 9, 30, 0, 0),\n",
       " datetime.datetime(1986, 12, 31, 0, 0),\n",
       " datetime.datetime(1987, 3, 31, 0, 0),\n",
       " datetime.datetime(1987, 6, 30, 0, 0),\n",
       " datetime.datetime(1987, 9, 30, 0, 0),\n",
       " datetime.datetime(1987, 12, 31, 0, 0),\n",
       " datetime.datetime(1988, 3, 31, 0, 0),\n",
       " datetime.datetime(1988, 6, 30, 0, 0),\n",
       " datetime.datetime(1988, 9, 30, 0, 0),\n",
       " datetime.datetime(1988, 12, 31, 0, 0),\n",
       " datetime.datetime(1989, 3, 31, 0, 0),\n",
       " datetime.datetime(1989, 6, 30, 0, 0),\n",
       " datetime.datetime(1989, 9, 30, 0, 0),\n",
       " datetime.datetime(1989, 12, 31, 0, 0),\n",
       " datetime.datetime(1990, 3, 31, 0, 0),\n",
       " datetime.datetime(1990, 6, 30, 0, 0),\n",
       " datetime.datetime(1990, 9, 30, 0, 0),\n",
       " datetime.datetime(1990, 12, 31, 0, 0),\n",
       " datetime.datetime(1991, 3, 31, 0, 0),\n",
       " datetime.datetime(1991, 6, 30, 0, 0),\n",
       " datetime.datetime(1991, 9, 30, 0, 0),\n",
       " datetime.datetime(1991, 12, 31, 0, 0),\n",
       " datetime.datetime(1992, 3, 31, 0, 0),\n",
       " datetime.datetime(1992, 6, 30, 0, 0),\n",
       " datetime.datetime(1992, 9, 30, 0, 0),\n",
       " datetime.datetime(1992, 12, 31, 0, 0),\n",
       " datetime.datetime(1993, 3, 31, 0, 0)]"
      ]
     },
     "execution_count": 20,
     "metadata": {},
     "output_type": "execute_result"
    }
   ],
   "source": [
    "c2"
   ]
  },
  {
   "cell_type": "code",
   "execution_count": 21,
   "metadata": {
    "collapsed": false
   },
   "outputs": [
    {
     "data": {
      "text/plain": [
       "89"
      ]
     },
     "execution_count": 21,
     "metadata": {},
     "output_type": "execute_result"
    }
   ],
   "source": [
    "len(c2)"
   ]
  },
  {
   "cell_type": "code",
   "execution_count": 22,
   "metadata": {
    "collapsed": false
   },
   "outputs": [],
   "source": [
    "df['index'] =c2\n",
    "df.set_index(['index'], inplace=True)\n",
    "df.index.name=None"
   ]
  },
  {
   "cell_type": "code",
   "execution_count": 23,
   "metadata": {
    "collapsed": false
   },
   "outputs": [
    {
     "data": {
      "text/html": [
       "<div>\n",
       "<table border=\"1\" class=\"dataframe\">\n",
       "  <thead>\n",
       "    <tr style=\"text-align: right;\">\n",
       "      <th></th>\n",
       "      <th>time</th>\n",
       "      <th>austres</th>\n",
       "    </tr>\n",
       "  </thead>\n",
       "  <tbody>\n",
       "    <tr>\n",
       "      <th>1971-03-31</th>\n",
       "      <td>1971.25</td>\n",
       "      <td>13067.3</td>\n",
       "    </tr>\n",
       "    <tr>\n",
       "      <th>1971-06-30</th>\n",
       "      <td>1971.50</td>\n",
       "      <td>13130.5</td>\n",
       "    </tr>\n",
       "    <tr>\n",
       "      <th>1971-09-30</th>\n",
       "      <td>1971.75</td>\n",
       "      <td>13198.4</td>\n",
       "    </tr>\n",
       "    <tr>\n",
       "      <th>1971-12-31</th>\n",
       "      <td>1972.00</td>\n",
       "      <td>13254.2</td>\n",
       "    </tr>\n",
       "    <tr>\n",
       "      <th>1972-03-31</th>\n",
       "      <td>1972.25</td>\n",
       "      <td>13303.7</td>\n",
       "    </tr>\n",
       "  </tbody>\n",
       "</table>\n",
       "</div>"
      ],
      "text/plain": [
       "               time  austres\n",
       "1971-03-31  1971.25  13067.3\n",
       "1971-06-30  1971.50  13130.5\n",
       "1971-09-30  1971.75  13198.4\n",
       "1971-12-31  1972.00  13254.2\n",
       "1972-03-31  1972.25  13303.7"
      ]
     },
     "execution_count": 23,
     "metadata": {},
     "output_type": "execute_result"
    }
   ],
   "source": [
    "df.head()"
   ]
  },
  {
   "cell_type": "code",
   "execution_count": 24,
   "metadata": {
    "collapsed": false
   },
   "outputs": [],
   "source": [
    "df=df.drop('time',1)"
   ]
  },
  {
   "cell_type": "code",
   "execution_count": 25,
   "metadata": {
    "collapsed": false
   },
   "outputs": [
    {
     "data": {
      "text/html": [
       "<div>\n",
       "<table border=\"1\" class=\"dataframe\">\n",
       "  <thead>\n",
       "    <tr style=\"text-align: right;\">\n",
       "      <th></th>\n",
       "      <th>austres</th>\n",
       "    </tr>\n",
       "  </thead>\n",
       "  <tbody>\n",
       "    <tr>\n",
       "      <th>1992-03-31</th>\n",
       "      <td>17482.6</td>\n",
       "    </tr>\n",
       "    <tr>\n",
       "      <th>1992-06-30</th>\n",
       "      <td>17526.0</td>\n",
       "    </tr>\n",
       "    <tr>\n",
       "      <th>1992-09-30</th>\n",
       "      <td>17568.7</td>\n",
       "    </tr>\n",
       "    <tr>\n",
       "      <th>1992-12-31</th>\n",
       "      <td>17627.1</td>\n",
       "    </tr>\n",
       "    <tr>\n",
       "      <th>1993-03-31</th>\n",
       "      <td>17661.5</td>\n",
       "    </tr>\n",
       "  </tbody>\n",
       "</table>\n",
       "</div>"
      ],
      "text/plain": [
       "            austres\n",
       "1992-03-31  17482.6\n",
       "1992-06-30  17526.0\n",
       "1992-09-30  17568.7\n",
       "1992-12-31  17627.1\n",
       "1993-03-31  17661.5"
      ]
     },
     "execution_count": 25,
     "metadata": {},
     "output_type": "execute_result"
    }
   ],
   "source": [
    "df.tail()"
   ]
  },
  {
   "cell_type": "code",
   "execution_count": 26,
   "metadata": {
    "collapsed": false
   },
   "outputs": [
    {
     "data": {
      "image/png": "[encoded data removed]",
      "text/plain": [
       "<matplotlib.figure.Figure at 0xb876358>"
      ]
     },
     "metadata": {},
     "output_type": "display_data"
    }
   ],
   "source": [
    "df.austres.plot(figsize=(12,8), title= 'Number of Australian Residents', fontsize=14)\n",
    "plt.savefig('austrailian_residents.png', bbox_inches='tight')"
   ]
  },
  {
   "cell_type": "code",
   "execution_count": 27,
   "metadata": {
    "collapsed": false
   },
   "outputs": [
    {
     "data": {
      "text/plain": [
       "<matplotlib.figure.Figure at 0xb880a58>"
      ]
     },
     "metadata": {},
     "output_type": "display_data"
    },
    {
     "data": {
      "image/png": "[encoded data removed]",
      "text/plain": [
       "<matplotlib.figure.Figure at 0xbabf4e0>"
      ]
     },
     "metadata": {},
     "output_type": "display_data"
    }
   ],
   "source": [
    "decomposition = seasonal_decompose(df.austres, freq=4)  \n",
    "fig = plt.figure()  \n",
    "fig = decomposition.plot()  \n",
    "fig.set_size_inches(15, 8)"
   ]
  },
  {
   "cell_type": "code",
   "execution_count": 28,
   "metadata": {
    "collapsed": false
   },
   "outputs": [
    {
     "name": "stdout",
     "output_type": "stream",
     "text": [
      "range(0, 2)\n"
     ]
    }
   ],
   "source": [
    "# Define the p, d and q parameters to take any value between 0 and 2\n",
    "p = d = q = range(0, 2)\n",
    "print(p)"
   ]
  },
  {
   "cell_type": "code",
   "execution_count": 29,
   "metadata": {
    "collapsed": true
   },
   "outputs": [],
   "source": [
    "import itertools\n",
    "import warnings\n"
   ]
  },
  {
   "cell_type": "code",
   "execution_count": 30,
   "metadata": {
    "collapsed": false
   },
   "outputs": [
    {
     "name": "stdout",
     "output_type": "stream",
     "text": [
      "[(0, 0, 0), (0, 0, 1), (0, 1, 0), (0, 1, 1), (1, 0, 0), (1, 0, 1), (1, 1, 0), (1, 1, 1)]\n"
     ]
    }
   ],
   "source": [
    "# Generate all different combinations of p, q and q triplets\n",
    "pdq = list(itertools.product(p, d, q))\n",
    "print(pdq)"
   ]
  },
  {
   "cell_type": "code",
   "execution_count": 31,
   "metadata": {
    "collapsed": false
   },
   "outputs": [
    {
     "name": "stdout",
     "output_type": "stream",
     "text": [
      "Examples of parameter combinations for Seasonal ARIMA...\n",
      "SARIMAX: (0, 0, 1) x (0, 0, 1, 12)\n",
      "SARIMAX: (0, 0, 1) x (0, 1, 0, 12)\n",
      "SARIMAX: (0, 1, 0) x (0, 1, 1, 12)\n",
      "SARIMAX: (0, 1, 0) x (1, 0, 0, 12)\n"
     ]
    }
   ],
   "source": [
    "# Generate all different combinations of seasonal p, q and q triplets\n",
    "seasonal_pdq = [(x[0], x[1], x[2], 12) for x in list(itertools.product(p, d, q))]\n",
    "\n",
    "print('Examples of parameter combinations for Seasonal ARIMA...')\n",
    "print('SARIMAX: {} x {}'.format(pdq[1], seasonal_pdq[1]))\n",
    "print('SARIMAX: {} x {}'.format(pdq[1], seasonal_pdq[2]))\n",
    "print('SARIMAX: {} x {}'.format(pdq[2], seasonal_pdq[3]))\n",
    "print('SARIMAX: {} x {}'.format(pdq[2], seasonal_pdq[4]))"
   ]
  },
  {
   "cell_type": "code",
   "execution_count": 32,
   "metadata": {
    "collapsed": true
   },
   "outputs": [],
   "source": [
    "y=df"
   ]
  },
  {
   "cell_type": "code",
   "execution_count": 39,
   "metadata": {
    "collapsed": false
   },
   "outputs": [
    {
     "name": "stdout",
     "output_type": "stream",
     "text": [
      "ARIMA(0, 0, 0)x(0, 0, 1, 12)12 - AIC:1640.498695405866\n",
      "ARIMA(0, 0, 0)x(0, 1, 1, 12)12 - AIC:957.7157324475122\n",
      "ARIMA(0, 0, 0)x(1, 0, 0, 12)12 - AIC:901.8737542488778\n",
      "ARIMA(0, 0, 0)x(1, 0, 1, 12)12 - AIC:893.4970589310027\n",
      "ARIMA(0, 0, 0)x(1, 1, 0, 12)12 - AIC:821.5535708474058\n",
      "ARIMA(0, 0, 0)x(1, 1, 1, 12)12 - AIC:789.9330545732091\n",
      "ARIMA(0, 0, 1)x(0, 0, 0, 12)12 - AIC:1866.0471769096082\n",
      "ARIMA(0, 0, 1)x(0, 0, 1, 12)12 - AIC:3925.760426368583\n",
      "ARIMA(0, 0, 1)x(0, 1, 0, 12)12 - AIC:1086.733456078065\n",
      "ARIMA(0, 0, 1)x(0, 1, 1, 12)12 - AIC:917.9195061799221\n",
      "ARIMA(0, 0, 1)x(1, 0, 0, 12)12 - AIC:808.5017824725799\n",
      "ARIMA(0, 0, 1)x(1, 0, 1, 12)12 - AIC:1543.673635439925\n",
      "ARIMA(0, 0, 1)x(1, 1, 0, 12)12 - AIC:742.4302886984069\n",
      "ARIMA(0, 0, 1)x(1, 1, 1, 12)12 - AIC:722.8237967086055\n",
      "ARIMA(0, 1, 0)x(0, 0, 1, 12)12 - AIC:751.9874335168838\n",
      "ARIMA(0, 1, 0)x(0, 1, 1, 12)12 - AIC:518.4115822594365\n",
      "ARIMA(0, 1, 0)x(1, 0, 0, 12)12 - AIC:642.4135683750286\n",
      "ARIMA(0, 1, 0)x(1, 0, 1, 12)12 - AIC:618.5002080638922\n",
      "ARIMA(0, 1, 0)x(1, 1, 0, 12)12 - AIC:531.3805164392139\n",
      "ARIMA(0, 1, 0)x(1, 1, 1, 12)12 - AIC:523.4816750307536\n",
      "ARIMA(0, 1, 1)x(0, 0, 0, 12)12 - AIC:840.8735543936959\n",
      "ARIMA(0, 1, 1)x(0, 0, 1, 12)12 - AIC:682.127882296428\n",
      "ARIMA(0, 1, 1)x(0, 1, 0, 12)12 - AIC:603.9099307476866\n",
      "ARIMA(0, 1, 1)x(0, 1, 1, 12)12 - AIC:495.8422863919097\n",
      "ARIMA(0, 1, 1)x(1, 0, 0, 12)12 - AIC:617.5943005442614\n",
      "ARIMA(0, 1, 1)x(1, 0, 1, 12)12 - AIC:591.2669779528502\n",
      "ARIMA(0, 1, 1)x(1, 1, 0, 12)12 - AIC:513.4941880115649\n",
      "ARIMA(0, 1, 1)x(1, 1, 1, 12)12 - AIC:499.3274255512188\n",
      "ARIMA(1, 0, 0)x(0, 0, 0, 12)12 - AIC:693.3693646362891\n",
      "ARIMA(1, 0, 0)x(0, 0, 1, 12)12 - AIC:602.5140387938435\n",
      "ARIMA(1, 0, 0)x(0, 1, 0, 12)12 - AIC:645.001916659511\n",
      "ARIMA(1, 0, 0)x(0, 1, 1, 12)12 - AIC:547.3449848000671\n",
      "ARIMA(1, 0, 0)x(1, 0, 0, 12)12 - AIC:602.4556470408446\n",
      "ARIMA(1, 0, 0)x(1, 0, 1, 12)12 - AIC:624.5638559731884\n",
      "ARIMA(1, 0, 0)x(1, 1, 0, 12)12 - AIC:531.2783134356048\n",
      "ARIMA(1, 0, 0)x(1, 1, 1, 12)12 - AIC:533.5546859038316\n",
      "ARIMA(1, 0, 1)x(0, 0, 0, 12)12 - AIC:666.2777676583347\n",
      "ARIMA(1, 0, 1)x(0, 0, 1, 12)12 - AIC:580.9817850545888\n",
      "ARIMA(1, 0, 1)x(0, 1, 0, 12)12 - AIC:612.6194903691924\n",
      "ARIMA(1, 0, 1)x(0, 1, 1, 12)12 - AIC:521.6892013270732\n",
      "ARIMA(1, 0, 1)x(1, 0, 0, 12)12 - AIC:587.6090324333155\n",
      "ARIMA(1, 0, 1)x(1, 0, 1, 12)12 - AIC:591.7145943326105\n",
      "ARIMA(1, 0, 1)x(1, 1, 0, 12)12 - AIC:528.2690148815029\n",
      "ARIMA(1, 0, 1)x(1, 1, 1, 12)12 - AIC:522.7935221968817\n",
      "ARIMA(1, 1, 0)x(0, 0, 0, 12)12 - AIC:672.9256770997605\n",
      "ARIMA(1, 1, 0)x(0, 0, 1, 12)12 - AIC:585.9149198758939\n",
      "ARIMA(1, 1, 0)x(0, 1, 0, 12)12 - AIC:583.4588768991518\n",
      "ARIMA(1, 1, 0)x(0, 1, 1, 12)12 - AIC:488.7871526210009\n",
      "ARIMA(1, 1, 0)x(1, 0, 0, 12)12 - AIC:579.4968615966471\n",
      "ARIMA(1, 1, 0)x(1, 0, 1, 12)12 - AIC:577.250438697217\n",
      "ARIMA(1, 1, 0)x(1, 1, 0, 12)12 - AIC:489.46855508137503\n",
      "ARIMA(1, 1, 0)x(1, 1, 1, 12)12 - AIC:491.36637011306703\n",
      "ARIMA(1, 1, 1)x(0, 0, 0, 12)12 - AIC:647.409736875269\n",
      "ARIMA(1, 1, 1)x(0, 0, 1, 12)12 - AIC:562.1176939708737\n",
      "ARIMA(1, 1, 1)x(0, 1, 0, 12)12 - AIC:568.0507913265876\n",
      "ARIMA(1, 1, 1)x(0, 1, 1, 12)12 - AIC:477.45261483171817\n",
      "ARIMA(1, 1, 1)x(1, 0, 0, 12)12 - AIC:564.4880395495423\n",
      "ARIMA(1, 1, 1)x(1, 0, 1, 12)12 - AIC:558.0865701996705\n",
      "ARIMA(1, 1, 1)x(1, 1, 0, 12)12 - AIC:485.3372280690333\n",
      "ARIMA(1, 1, 1)x(1, 1, 1, 12)12 - AIC:480.32582361973095\n"
     ]
    }
   ],
   "source": [
    "warnings.filterwarnings(\"ignore\") # specify to ignore warning messages\n",
    "c4=[]\n",
    "for param in pdq:\n",
    "    for param_seasonal in seasonal_pdq:\n",
    "        try:\n",
    "            mod = sm.tsa.statespace.SARIMAX(y,\n",
    "                                            order=param,\n",
    "                                            seasonal_order=param_seasonal,\n",
    "                                            enforce_stationarity=False,\n",
    "                                            enforce_invertibility=False)\n",
    "\n",
    "            results = mod.fit()\n",
    "\n",
    "            print('ARIMA{}x{}12 - AIC:{}'.format(param, param_seasonal, results.aic))\n",
    "            c4.append('ARIMA{}x{}12 - AIC:{}'.format(param, param_seasonal, results.aic))\n",
    "        except:\n",
    "            continue"
   ]
  },
  {
   "cell_type": "code",
   "execution_count": 40,
   "metadata": {
    "collapsed": true
   },
   "outputs": [],
   "source": [
    "warnings.filterwarnings(\"ignore\") # specify to ignore warning messages\n",
    "c3=[]\n",
    "for param in pdq:\n",
    "    for param_seasonal in seasonal_pdq:\n",
    "        try:\n",
    "            mod = sm.tsa.statespace.SARIMAX(y,\n",
    "                                            order=param,\n",
    "                                            seasonal_order=param_seasonal,\n",
    "                                            enforce_stationarity=False,\n",
    "                                            enforce_invertibility=False)\n",
    "\n",
    "            results = mod.fit()\n",
    "\n",
    "            c3.append( results.aic)\n",
    "        except:\n",
    "            continue"
   ]
  },
  {
   "cell_type": "code",
   "execution_count": 41,
   "metadata": {
    "collapsed": false
   },
   "outputs": [
    {
     "data": {
      "text/plain": [
       "[1640.4986954058661,\n",
       " 957.71573244751221,\n",
       " 901.87375424887784,\n",
       " 893.4970589310027,\n",
       " 821.55357084740581,\n",
       " 789.93305457320912,\n",
       " 1866.0471769096082,\n",
       " 3925.760426368583,\n",
       " 1086.733456078065,\n",
       " 917.91950617992211,\n",
       " 808.50178247257986,\n",
       " 1543.673635439925,\n",
       " 742.43028869840691,\n",
       " 722.82379670860553,\n",
       " 751.98743351688381,\n",
       " 518.4115822594365,\n",
       " 642.4135683750286,\n",
       " 618.50020806389216,\n",
       " 531.38051643921392,\n",
       " 523.48167503075365,\n",
       " 840.87355439369594,\n",
       " 682.12788229642797,\n",
       " 603.90993074768664,\n",
       " 495.84228639190968,\n",
       " 617.59430054426139,\n",
       " 591.2669779528502,\n",
       " 513.49418801156492,\n",
       " 499.32742555121882,\n",
       " 693.36936463628911,\n",
       " 602.5140387938435,\n",
       " 645.00191665951104,\n",
       " 547.3449848000671,\n",
       " 602.45564704084461,\n",
       " 624.56385597318842,\n",
       " 531.27831343560479,\n",
       " 533.55468590383157,\n",
       " 666.27776765833471,\n",
       " 580.98178505458884,\n",
       " 612.61949036919236,\n",
       " 521.68920132707319,\n",
       " 587.60903243331552,\n",
       " 591.71459433261055,\n",
       " 528.26901488150293,\n",
       " 522.79352219688167,\n",
       " 672.92567709976049,\n",
       " 585.91491987589393,\n",
       " 583.45887689915185,\n",
       " 488.78715262100093,\n",
       " 579.49686159664714,\n",
       " 577.25043869721696,\n",
       " 489.46855508137503,\n",
       " 491.36637011306703,\n",
       " 647.409736875269,\n",
       " 562.11769397087369,\n",
       " 568.05079132658761,\n",
       " 477.45261483171817,\n",
       " 564.48803954954235,\n",
       " 558.08657019967052,\n",
       " 485.3372280690333,\n",
       " 480.32582361973095]"
      ]
     },
     "execution_count": 41,
     "metadata": {},
     "output_type": "execute_result"
    }
   ],
   "source": [
    "c3"
   ]
  },
  {
   "cell_type": "code",
   "execution_count": 43,
   "metadata": {
    "collapsed": false
   },
   "outputs": [
    {
     "data": {
      "text/plain": [
       "60"
      ]
     },
     "execution_count": 43,
     "metadata": {},
     "output_type": "execute_result"
    }
   ],
   "source": [
    "len(c3)"
   ]
  },
  {
   "cell_type": "code",
   "execution_count": 44,
   "metadata": {
    "collapsed": false
   },
   "outputs": [],
   "source": [
    "import numpy as np\n",
    "index_min = np.argmin(c3)"
   ]
  },
  {
   "cell_type": "code",
   "execution_count": 45,
   "metadata": {
    "collapsed": false
   },
   "outputs": [
    {
     "data": {
      "text/plain": [
       "55"
      ]
     },
     "execution_count": 45,
     "metadata": {},
     "output_type": "execute_result"
    }
   ],
   "source": [
    "index_min"
   ]
  },
  {
   "cell_type": "code",
   "execution_count": 46,
   "metadata": {
    "collapsed": false
   },
   "outputs": [
    {
     "data": {
      "text/plain": [
       "'ARIMA(1, 1, 1)x(0, 1, 1, 12)12 - AIC:477.45261483171817'"
      ]
     },
     "execution_count": 46,
     "metadata": {},
     "output_type": "execute_result"
    }
   ],
   "source": [
    "c4[index_min]"
   ]
  },
  {
   "cell_type": "code",
   "execution_count": 47,
   "metadata": {
    "collapsed": false
   },
   "outputs": [
    {
     "data": {
      "text/plain": [
       "str"
      ]
     },
     "execution_count": 47,
     "metadata": {},
     "output_type": "execute_result"
    }
   ],
   "source": [
    "type(c4[index_min])"
   ]
  },
  {
   "cell_type": "code",
   "execution_count": null,
   "metadata": {
    "collapsed": true
   },
   "outputs": [],
   "source": [
    "from statsmodels.tsa.x13 import x13_arima_select_order\n"
   ]
  },
  {
   "cell_type": "code",
   "execution_count": 74,
   "metadata": {
    "collapsed": false
   },
   "outputs": [
    {
     "data": {
      "text/plain": [
       "'1, 1, 1'"
      ]
     },
     "execution_count": 74,
     "metadata": {},
     "output_type": "execute_result"
    }
   ],
   "source": [
    "order1=c4[index_min][6:13]\n",
    "order1"
   ]
  },
  {
   "cell_type": "code",
   "execution_count": 75,
   "metadata": {
    "collapsed": false
   },
   "outputs": [
    {
     "data": {
      "text/plain": [
       "str"
      ]
     },
     "execution_count": 75,
     "metadata": {},
     "output_type": "execute_result"
    }
   ],
   "source": [
    "type(order1)"
   ]
  },
  {
   "cell_type": "code",
   "execution_count": 77,
   "metadata": {
    "collapsed": false
   },
   "outputs": [
    {
     "data": {
      "text/plain": [
       "[1, 1, 1]"
      ]
     },
     "execution_count": 77,
     "metadata": {},
     "output_type": "execute_result"
    }
   ],
   "source": [
    "order1=[int(s) for s in order1.split(',')]\n",
    "order1"
   ]
  },
  {
   "cell_type": "code",
   "execution_count": 78,
   "metadata": {
    "collapsed": false
   },
   "outputs": [
    {
     "data": {
      "text/plain": [
       "list"
      ]
     },
     "execution_count": 78,
     "metadata": {},
     "output_type": "execute_result"
    }
   ],
   "source": [
    "type(order1)"
   ]
  },
  {
   "cell_type": "code",
   "execution_count": 81,
   "metadata": {
    "collapsed": false
   },
   "outputs": [
    {
     "data": {
      "text/plain": [
       "'0, 1, 1, 12'"
      ]
     },
     "execution_count": 81,
     "metadata": {},
     "output_type": "execute_result"
    }
   ],
   "source": [
    "seasonal_order1=c4[index_min][16:27]\n",
    "seasonal_order1"
   ]
  },
  {
   "cell_type": "code",
   "execution_count": 82,
   "metadata": {
    "collapsed": false
   },
   "outputs": [
    {
     "data": {
      "text/plain": [
       "[0, 1, 1, 12]"
      ]
     },
     "execution_count": 82,
     "metadata": {},
     "output_type": "execute_result"
    }
   ],
   "source": [
    "seasonal_order1=[int(s) for s in seasonal_order1.split(',')]\n",
    "seasonal_order1"
   ]
  },
  {
   "cell_type": "code",
   "execution_count": 83,
   "metadata": {
    "collapsed": false
   },
   "outputs": [],
   "source": [
    "mod = sm.tsa.statespace.SARIMAX(df.austres, trend='n', order=order1, seasonal_order=seasonal_order1)"
   ]
  },
  {
   "cell_type": "code",
   "execution_count": 84,
   "metadata": {
    "collapsed": false
   },
   "outputs": [
    {
     "name": "stdout",
     "output_type": "stream",
     "text": [
      "                                 Statespace Model Results                                 \n",
      "==========================================================================================\n",
      "Dep. Variable:                            austres   No. Observations:                   89\n",
      "Model:             SARIMAX(1, 1, 1)x(0, 1, 1, 12)   Log Likelihood                -283.908\n",
      "Date:                            Tue, 23 May 2017   AIC                            575.816\n",
      "Time:                                    23:27:35   BIC                            585.771\n",
      "Sample:                                03-31-1971   HQIC                           579.829\n",
      "                                     - 03-31-1993                                         \n",
      "Covariance Type:                              opg                                         \n",
      "==============================================================================\n",
      "                 coef    std err          z      P>|z|      [0.025      0.975]\n",
      "------------------------------------------------------------------------------\n",
      "ar.L1          0.9163      0.066     13.797      0.000       0.786       1.047\n",
      "ma.L1         -0.4557      0.139     -3.283      0.001      -0.728      -0.184\n",
      "ma.S.L12      -0.4914      0.210     -2.345      0.019      -0.902      -0.081\n",
      "sigma2        97.8677     10.160      9.633      0.000      77.955     117.781\n",
      "===================================================================================\n",
      "Ljung-Box (Q):                       20.99   Jarque-Bera (JB):                79.64\n",
      "Prob(Q):                              0.99   Prob(JB):                         0.00\n",
      "Heteroskedasticity (H):               3.34   Skew:                            -1.19\n",
      "Prob(H) (two-sided):                  0.00   Kurtosis:                         7.42\n",
      "===================================================================================\n",
      "\n",
      "Warnings:\n",
      "[1] Covariance matrix calculated using the outer product of gradients (complex-step).\n"
     ]
    }
   ],
   "source": [
    "results = mod.fit()\n",
    "print (results.summary())"
   ]
  },
  {
   "cell_type": "code",
   "execution_count": 85,
   "metadata": {
    "collapsed": false
   },
   "outputs": [
    {
     "data": {
      "text/plain": [
       "1990-09-30    17154.504726\n",
       "1990-12-31    17232.721671\n",
       "1991-03-31    17292.787820\n",
       "1991-06-30    17356.532926\n",
       "1991-09-30    17416.677379\n",
       "1991-12-31    17478.884490\n",
       "1992-03-31    17483.140550\n",
       "1992-06-30    17521.456437\n",
       "1992-09-30    17573.650282\n",
       "1992-12-31    17618.031624\n",
       "1993-03-31    17673.833098\n",
       "1993-06-30    17686.742802\n",
       "1993-09-30    17735.686265\n",
       "1993-12-31    17793.317610\n",
       "1994-03-31    17836.466110\n",
       "1994-06-30    17890.975226\n",
       "1994-09-30    17944.622703\n",
       "1994-12-31    17986.865712\n",
       "1995-03-31    18023.737569\n",
       "1995-06-30    18066.224321\n",
       "1995-09-30    18111.537395\n",
       "1995-12-31    18166.767228\n",
       "Freq: Q-DEC, dtype: float64"
      ]
     },
     "execution_count": 85,
     "metadata": {},
     "output_type": "execute_result"
    }
   ],
   "source": [
    "results.predict(start=78,end=99)"
   ]
  },
  {
   "cell_type": "code",
   "execution_count": 86,
   "metadata": {
    "collapsed": false
   },
   "outputs": [
    {
     "data": {
      "text/plain": [
       "<matplotlib.axes._subplots.AxesSubplot at 0xc1782e8>"
      ]
     },
     "execution_count": 86,
     "metadata": {},
     "output_type": "execute_result"
    },
    {
     "data": {
      "image/png": "[encoded data removed]",
      "text/plain": [
       "<matplotlib.figure.Figure at 0xbb1b7b8>"
      ]
     },
     "metadata": {},
     "output_type": "display_data"
    }
   ],
   "source": [
    "results.predict(start=78,end=99).plot()"
   ]
  },
  {
   "cell_type": "code",
   "execution_count": null,
   "metadata": {
    "collapsed": true
   },
   "outputs": [],
   "source": []
  }
 ],
 "metadata": {
  "anaconda-cloud": {},
  "kernelspec": {
   "display_name": "Python [conda root]",
   "language": "python",
   "name": "conda-root-py"
  },
  "language_info": {
   "codemirror_mode": {
    "name": "ipython",
    "version": 3
   },
   "file_extension": ".py",
   "mimetype": "text/x-python",
   "name": "python",
   "nbconvert_exporter": "python",
   "pygments_lexer": "ipython3",
   "version": "3.5.2"
  }
 },
 "nbformat": 4,
 "nbformat_minor": 1
}
